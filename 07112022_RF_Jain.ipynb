{
  "nbformat": 4,
  "nbformat_minor": 0,
  "metadata": {
    "colab": {
      "provenance": [],
      "authorship_tag": "ABX9TyMhQdk2IC2nf4Y5xsW6y+cO",
      "include_colab_link": true
    },
    "kernelspec": {
      "name": "python3",
      "display_name": "Python 3"
    },
    "language_info": {
      "name": "python"
    }
  },
  "cells": [
    {
      "cell_type": "markdown",
      "metadata": {
        "id": "view-in-github",
        "colab_type": "text"
      },
      "source": [
        "<a href=\"https://colab.research.google.com/github/Mike-Skehan/AntibodyFvTm50Predictor/blob/main/07112022_RF_Jain.ipynb\" target=\"_parent\"><img src=\"https://colab.research.google.com/assets/colab-badge.svg\" alt=\"Open In Colab\"/></a>"
      ]
    },
    {
      "cell_type": "code",
      "source": [
        "!pip install biovec"
      ],
      "metadata": {
        "colab": {
          "base_uri": "https://localhost:8080/"
        },
        "id": "LEXtRBH9pjOO",
        "outputId": "e366da62-34a6-4297-da77-2d42bfa0240b"
      },
      "execution_count": 8,
      "outputs": [
        {
          "output_type": "stream",
          "name": "stdout",
          "text": [
            "Looking in indexes: https://pypi.org/simple, https://us-python.pkg.dev/colab-wheels/public/simple/\n",
            "Collecting biovec\n",
            "  Downloading biovec-0.2.7.tar.gz (5.9 kB)\n",
            "Collecting gensim==3.4.0\n",
            "  Downloading gensim-3.4.0.tar.gz (22.2 MB)\n",
            "\u001b[K     |████████████████████████████████| 22.2 MB 88.4 MB/s \n",
            "\u001b[?25hRequirement already satisfied: tqdm>=2.0.0 in /usr/local/lib/python3.7/dist-packages (from biovec) (4.64.1)\n",
            "Collecting pyfasta==0.5.2\n",
            "  Downloading pyfasta-0.5.2.tar.gz (19 kB)\n",
            "Requirement already satisfied: numpy>=1.11.3 in /usr/local/lib/python3.7/dist-packages (from gensim==3.4.0->biovec) (1.21.6)\n",
            "Requirement already satisfied: scipy>=0.18.1 in /usr/local/lib/python3.7/dist-packages (from gensim==3.4.0->biovec) (1.7.3)\n",
            "Requirement already satisfied: six>=1.5.0 in /usr/local/lib/python3.7/dist-packages (from gensim==3.4.0->biovec) (1.15.0)\n",
            "Requirement already satisfied: smart_open>=1.2.1 in /usr/local/lib/python3.7/dist-packages (from gensim==3.4.0->biovec) (5.2.1)\n",
            "Building wheels for collected packages: biovec, gensim, pyfasta\n",
            "  Building wheel for biovec (setup.py) ... \u001b[?25l\u001b[?25hdone\n",
            "  Created wheel for biovec: filename=biovec-0.2.7-py3-none-any.whl size=3464 sha256=ccd964ff426d6dfb194a30e9d3b7cb1f378cd4939e3edb300922adb807f74ef5\n",
            "  Stored in directory: /root/.cache/pip/wheels/5d/34/9e/8154c1f2d0999ba86d3e1ad839791a48065c083fcce033b0fc\n",
            "  Building wheel for gensim (setup.py) ... \u001b[?25l\u001b[?25hdone\n",
            "  Created wheel for gensim: filename=gensim-3.4.0-cp37-cp37m-linux_x86_64.whl size=23316706 sha256=73761ac31965ba5c5754ec1b7ce7d7f03ab6148be3458fb30c8fa697eea0fe78\n",
            "  Stored in directory: /root/.cache/pip/wheels/de/a4/46/4e18f7d25915b16e0e790a5362e455aba6cadc486994806c05\n",
            "  Building wheel for pyfasta (setup.py) ... \u001b[?25l\u001b[?25hdone\n",
            "  Created wheel for pyfasta: filename=pyfasta-0.5.2-py3-none-any.whl size=14237 sha256=81d0cd97eb5b8970e58758be57ae9f6298e856107ed0a6265b7b96bdff86261d\n",
            "  Stored in directory: /root/.cache/pip/wheels/57/e5/90/5c791cec27d88e2bcee7e859a6b83e7c7f03d2da494d3e5a8a\n",
            "Successfully built biovec gensim pyfasta\n",
            "Installing collected packages: pyfasta, gensim, biovec\n",
            "  Attempting uninstall: gensim\n",
            "    Found existing installation: gensim 3.6.0\n",
            "    Uninstalling gensim-3.6.0:\n",
            "      Successfully uninstalled gensim-3.6.0\n",
            "Successfully installed biovec-0.2.7 gensim-3.4.0 pyfasta-0.5.2\n"
          ]
        }
      ]
    },
    {
      "cell_type": "code",
      "execution_count": 15,
      "metadata": {
        "id": "35rBKyt-e8ez"
      },
      "outputs": [],
      "source": [
        "from sklearn.ensemble import RandomForestRegressor\n",
        "from sklearn.model_selection import RandomizedSearchCV\n",
        "import pandas as pd\n",
        "import biovec\n",
        "import numpy as np\n",
        "from sklearn.manifold import TSNE"
      ]
    },
    {
      "cell_type": "code",
      "source": [
        "def data_extract_Jain(data_file):\n",
        "    df = pd.read_csv(data_file)\n",
        "    df.drop([0])\n",
        "    df.rename(columns={'VL': 'Light'}, inplace=True)\n",
        "    df.rename(columns={'VH': 'Heavy'}, inplace=True)\n",
        "    df.rename(columns={\"Fab Tm by DSF (°C)\": 'Temp'}, inplace=True)\n",
        "    df.rename(columns={\"LC Class\": 'lc_class'}, inplace=True)\n",
        "\n",
        "    light_seq = df['Light'].values.tolist()\n",
        "    heavy_seq = df['Heavy'].values.tolist()\n",
        "    temp = df['Temp'].values.tolist()\n",
        "    lc_class = df['lc_class'].values.tolist()\n",
        "\n",
        "    light_seq = remove_special_chars(light_seq)\n",
        "    heavy_seq = remove_special_chars(heavy_seq)\n",
        "\n",
        "    return light_seq, heavy_seq, temp, lc_class\n",
        "\n",
        "def remove_special_chars(seq_list):\n",
        "        chars = ' -?BJOUXZ'\n",
        "        new_list = []\n",
        "        for seq in seq_list:\n",
        "            for char in chars:\n",
        "                seq = seq.replace(char,'')\n",
        "            new_list.append(seq)\n",
        "\n",
        "        return new_list"
      ],
      "metadata": {
        "id": "J_ws2nMamwyE"
      },
      "execution_count": 5,
      "outputs": []
    },
    {
      "cell_type": "code",
      "source": [
        "pv = biovec.models.load_protvec('/content/swissprot-reviewed-protvec.model')"
      ],
      "metadata": {
        "id": "fY-Jacu2pexy"
      },
      "execution_count": 10,
      "outputs": []
    },
    {
      "cell_type": "code",
      "source": [
        "light, heavy, temp, lc_class = data_extract_Jain(\"/content/Jain_Ab_dataset.csv\")\n",
        "\n",
        "comb = [m+str(n) for m,n in zip(light,heavy)]\n",
        "\n",
        "vec_list_input = []\n",
        "\n",
        "for seq in comb:\n",
        "  vec = sum(pv.to_vecs(seq))\n",
        "  vec_list_input.append(vec)\n",
        "\n",
        "\n",
        "protvec_array = np.vstack(vec_list_input)\n",
        "\n"
      ],
      "metadata": {
        "id": "BCileKARnUjz"
      },
      "execution_count": 21,
      "outputs": []
    },
    {
      "cell_type": "code",
      "source": [
        "protvec_50 = TSNE(n_components=50,learning_rate='auto', init = 'random', perplexity = 30,method = 'exact').fit_transform(protvec_array)\n",
        "protvec_25 = TSNE(n_components=25,learning_rate='auto', init = 'random', perplexity = 30,method = 'exact').fit_transform(protvec_array)\n",
        "protvec_10 = TSNE(n_components=10,learning_rate='auto', init = 'random', perplexity = 30,method = 'exact').fit_transform(protvec_array)\n",
        "protvec_5 = TSNE(n_components=5,learning_rate='auto', init = 'random', perplexity = 30,method = 'exact').fit_transform(protvec_array)\n",
        "\n",
        "protvec_list = [protvec_50, protvec_25, protvec_10, protvec_5]\n",
        "\n"
      ],
      "metadata": {
        "id": "tGWrjx2xiQLS"
      },
      "execution_count": 22,
      "outputs": []
    },
    {
      "cell_type": "code",
      "source": [
        "protvec_50.shape"
      ],
      "metadata": {
        "colab": {
          "base_uri": "https://localhost:8080/"
        },
        "id": "QIrUbUqyrSKq",
        "outputId": "aef72a45-c701-45d4-a170-4c4bb3189556"
      },
      "execution_count": 25,
      "outputs": [
        {
          "output_type": "execute_result",
          "data": {
            "text/plain": [
              "(137, 50)"
            ]
          },
          "metadata": {},
          "execution_count": 25
        }
      ]
    },
    {
      "cell_type": "code",
      "source": [
        "# Number of trees in random forest\n",
        "n_estimators = [int(x) for x in np.linspace(start = 200, stop = 2000, num = 10)]\n",
        "# Number of features to consider at every split\n",
        "max_features = ['auto', 'sqrt']\n",
        "# Maximum number of levels in tree\n",
        "max_depth = [int(x) for x in np.linspace(10, 110, num = 11)]\n",
        "max_depth.append(None)\n",
        "# Minimum number of samples required to split a node\n",
        "min_samples_split = [2, 5, 10]\n",
        "# Minimum number of samples required at each leaf node\n",
        "min_samples_leaf = [1, 2, 4]\n",
        "# Method of selecting samples for training each tree\n",
        "bootstrap = [True, False]\n",
        "\n",
        "random_grid = {'n_estimators': n_estimators,\n",
        "               'max_features': max_features,\n",
        "               'max_depth': max_depth,\n",
        "               'min_samples_split': min_samples_split,\n",
        "               'min_samples_leaf': min_samples_leaf,\n",
        "               'bootstrap': bootstrap}"
      ],
      "metadata": {
        "id": "FNLZDSDcgqXR"
      },
      "execution_count": 26,
      "outputs": []
    },
    {
      "cell_type": "code",
      "source": [
        "X = protvec_50\n",
        "Y = temp\n",
        "\n",
        "regr = RandomForestRegressor()\n",
        "\n",
        "rf_random = RandomizedSearchCV(estimator = regr, \n",
        "                               param_distributions = random_grid, n_iter = 100, \n",
        "                               cv = 3, verbose=2, random_state=42, n_jobs = -1)\n",
        "\n",
        "#regr.fit(X, y) will fit with standard parameters, no tuning.\n",
        "\n",
        "# Fit the random search model\n",
        "rf_random.fit(X, Y)"
      ],
      "metadata": {
        "colab": {
          "base_uri": "https://localhost:8080/"
        },
        "id": "9vE89D3VhPBE",
        "outputId": "a3509d0f-84f3-4db3-b942-6beb2f8738e0"
      },
      "execution_count": 27,
      "outputs": [
        {
          "output_type": "stream",
          "name": "stdout",
          "text": [
            "Fitting 3 folds for each of 100 candidates, totalling 300 fits\n"
          ]
        },
        {
          "output_type": "execute_result",
          "data": {
            "text/plain": [
              "RandomizedSearchCV(cv=3, estimator=RandomForestRegressor(), n_iter=100,\n",
              "                   n_jobs=-1,\n",
              "                   param_distributions={'bootstrap': [True, False],\n",
              "                                        'max_depth': [10, 20, 30, 40, 50, 60,\n",
              "                                                      70, 80, 90, 100, 110,\n",
              "                                                      None],\n",
              "                                        'max_features': ['auto', 'sqrt'],\n",
              "                                        'min_samples_leaf': [1, 2, 4],\n",
              "                                        'min_samples_split': [2, 5, 10],\n",
              "                                        'n_estimators': [200, 400, 600, 800,\n",
              "                                                         1000, 1200, 1400, 1600,\n",
              "                                                         1800, 2000]},\n",
              "                   random_state=42, verbose=2)"
            ]
          },
          "metadata": {},
          "execution_count": 27
        }
      ]
    },
    {
      "cell_type": "code",
      "source": [
        "def evaluate(model, test_features, test_labels):\n",
        "    predictions = model.predict(test_features)\n",
        "    errors = abs(predictions - test_labels)\n",
        "    mape = 100 * np.mean(errors / test_labels)\n",
        "    accuracy = 100 - mape\n",
        "    print('Model Performance')\n",
        "    print('Average Error: {:0.4f} degrees.'.format(np.mean(errors)))\n",
        "    print('Accuracy = {:0.2f}%.'.format(accuracy))\n",
        "    \n",
        "    return accuracy\n",
        "\n",
        "best_random = rf_random.best_estimator_\n",
        "random_accuracy = evaluate(best_random, X, Y)\n",
        "\n",
        "random_accuracy\n",
        "\n"
      ],
      "metadata": {
        "colab": {
          "base_uri": "https://localhost:8080/"
        },
        "id": "LklXJDj-s_T-",
        "outputId": "ba7b4f3d-1298-42ea-e1c2-2301e9eda9d6"
      },
      "execution_count": 28,
      "outputs": [
        {
          "output_type": "stream",
          "name": "stdout",
          "text": [
            "Model Performance\n",
            "Average Error: 2.7499 degrees.\n",
            "Accuracy = 96.13%.\n"
          ]
        },
        {
          "output_type": "execute_result",
          "data": {
            "text/plain": [
              "96.12938621028582"
            ]
          },
          "metadata": {},
          "execution_count": 28
        }
      ]
    },
    {
      "cell_type": "code",
      "source": [
        "protvec_50[1].reshape(1,-1)"
      ],
      "metadata": {
        "colab": {
          "base_uri": "https://localhost:8080/"
        },
        "id": "Cdwht3yBvNWo",
        "outputId": "e44bb673-41b1-48b0-f905-f858eb5cb461"
      },
      "execution_count": 33,
      "outputs": [
        {
          "output_type": "execute_result",
          "data": {
            "text/plain": [
              "array([[-8.2572684e-02,  1.3472493e+00, -2.5662796e+00,  3.6033824e-02,\n",
              "        -7.6064795e-01,  1.1897956e+00, -7.1855474e-01, -1.2654673e-01,\n",
              "         1.8794019e-03,  1.2601583e+00, -1.0268879e+00,  2.4121989e-01,\n",
              "         1.1374704e+00,  7.8242183e-02, -1.5872706e-01, -9.3702734e-02,\n",
              "        -1.7599037e+00, -2.9061165e+00, -4.2036226e-01, -1.9472915e+00,\n",
              "        -8.5803509e-01, -1.4444261e+00, -2.1139173e-01, -8.8170201e-01,\n",
              "        -4.3523222e-01, -1.1697849e+00, -1.6267255e-01, -4.4361144e-01,\n",
              "        -4.8899060e-01,  6.0397232e-01, -1.1974762e-02,  3.3696363e+00,\n",
              "        -2.5157781e+00, -3.8568184e-01,  3.2800910e-01, -1.4929995e-01,\n",
              "        -4.8556663e-02, -2.6304170e-01,  4.7838572e-02, -9.1399544e-01,\n",
              "        -1.0257664e+00, -5.8157825e-01,  4.0187892e-01, -3.9126489e-01,\n",
              "         1.8891828e-01,  2.6599461e-01, -3.8999507e-01,  9.3776095e-01,\n",
              "        -1.1975046e-01,  2.0998290e+00]], dtype=float32)"
            ]
          },
          "metadata": {},
          "execution_count": 33
        }
      ]
    },
    {
      "cell_type": "code",
      "source": [
        "best_random.predict(protvec_50[1].reshape(1,-1))"
      ],
      "metadata": {
        "colab": {
          "base_uri": "https://localhost:8080/"
        },
        "id": "eHYO2P1hvBPL",
        "outputId": "6c2514c7-8c13-4da9-9e6e-5428b71736a8"
      },
      "execution_count": 34,
      "outputs": [
        {
          "output_type": "execute_result",
          "data": {
            "text/plain": [
              "array([71.19683743])"
            ]
          },
          "metadata": {},
          "execution_count": 34
        }
      ]
    }
  ]
}