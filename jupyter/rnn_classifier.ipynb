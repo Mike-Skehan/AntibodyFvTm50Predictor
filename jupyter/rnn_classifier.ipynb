{
 "cells": [
  {
   "cell_type": "code",
   "execution_count": 104,
   "outputs": [],
   "source": [
    "import numpy as np\n",
    "from scipy.stats import pearsonr\n",
    "from sklearn.metrics import mean_absolute_error, r2_score\n",
    "import seaborn as sns\n",
    "from tensorflow.keras.models import Sequential\n",
    "from tensorflow.keras.layers import LSTM, Dense\n",
    "from tensorflow.keras.utils import to_categorical\n",
    "import matplotlib.pyplot as plt\n",
    "from sklearn.model_selection import KFold, train_test_split\n",
    "import pandas as pd\n",
    "from sklearn.metrics import classification_report, confusion_matrix, matthews_corrcoef\n",
    "import joblib"
   ],
   "metadata": {
    "collapsed": false
   }
  },
  {
   "cell_type": "code",
   "execution_count": 2,
   "metadata": {
    "collapsed": true
   },
   "outputs": [],
   "source": [
    "def data_extract_class(data_file):\n",
    "    \"\"\"\n",
    "    :param data_file:   csv file containing light sequences, heavy sequences and their tm50 values.\n",
    "    :return:            lists of light sequences, heavy sequences and tm50 values.\n",
    "    \"\"\"\n",
    "\n",
    "    df = pd.read_csv(data_file)\n",
    "    df.rename(columns={'VL': 'Light'}, inplace=True)\n",
    "    df.rename(columns={'VH': 'Heavy'}, inplace=True)\n",
    "    df.rename(columns={\"Fab Tm by DSF (°C)\": 'Temp'}, inplace=True)\n",
    "\n",
    "    light_seq = df['Light'].values.tolist()\n",
    "    heavy_seq = df['Heavy'].values.tolist()\n",
    "    temp = df['Temp'].values.tolist()\n",
    "    bin = df['bin'].values.tolist()\n",
    "\n",
    "\n",
    "    return light_seq, heavy_seq, temp, bin"
   ]
  },
  {
   "cell_type": "code",
   "execution_count": 3,
   "outputs": [],
   "source": [
    "bert_data_60 = \"../data/combined_datasets_60.csv\"\n",
    "df = pd.read_csv(bert_data_60)\n",
    "\n",
    "light, heavy, temp, bin = data_extract_class('../data/combined_datasets_class.csv')\n",
    "\n",
    "X = df\n",
    "y = bin"
   ],
   "metadata": {
    "collapsed": false
   }
  },
  {
   "cell_type": "code",
   "execution_count": 14,
   "outputs": [],
   "source": [
    "from sklearn.metrics import matthews_corrcoef\n",
    "\n",
    "\n",
    "def rnn_cv(X,y, num_epochs=100, batch_size=10):\n",
    "\n",
    "    sns.set_style(style='white')\n",
    "\n",
    "    rand = 28\n",
    "\n",
    "    y = pd.DataFrame(y)\n",
    "    y = y.values.ravel()\n",
    "\n",
    "    X.columns = ['{}'.format(i) for i in range(len(X.columns))]\n",
    "\n",
    "    # set up train and test sets\n",
    "    X_train, X_test, y_train, y_test = train_test_split(X, y, test_size=0.1, random_state=rand)\n",
    "\n",
    "    y_test=np.argmax(y_test)\n",
    "\n",
    "\n",
    "    fig, axs = plt.subplots(nrows=3, ncols=2, figsize=(10, 15))\n",
    "    axs = axs.flatten()\n",
    "\n",
    "    mae_scores = []\n",
    "    r2_scores = []\n",
    "    pearsonr_scores = []\n",
    "\n",
    "    # set up the k-fold cross-validation\n",
    "    kf = KFold(n_splits=5, shuffle=True, random_state=42)\n",
    "\n",
    "    best_model = None\n",
    "    best_score = -np.inf\n",
    "\n",
    "    for i, (train_index, val_index) in enumerate(kf.split(X_train)):\n",
    "\n",
    "        k_X_train, X_val = X_train.iloc[train_index], X_train.iloc[val_index]\n",
    "        k_y_train, y_val = y_train[train_index], y_train[val_index]\n",
    "\n",
    "        # create the RNN model\n",
    "        k_X_train = k_X_train.values.reshape((k_X_train.shape[0], k_X_train.shape[1], 1))\n",
    "        X_val = X_val.values.reshape((X_val.shape[0], X_val.shape[1], 1))\n",
    "        k_y_train = np.array(k_y_train)\n",
    "        y_val = np.array(y_val)\n",
    "        model = Sequential()\n",
    "        model.add(LSTM(100, input_shape=(k_X_train.shape[1], k_X_train.shape[2])))\n",
    "        model.add(Dense(1, activation ='sigmoid'))\n",
    "        model.compile(loss='binary_crossentropy', optimizer='adam')\n",
    "\n",
    "        # fit the model\n",
    "        history = model.fit(k_X_train, k_y_train, epochs=num_epochs, batch_size=batch_size, verbose=2, validation_data=\n",
    "        (X_val, y_val))\n",
    "\n",
    "        # evaluate the model on the test set\n",
    "        y_pred = np.argmax(model.predict(X_test))\n",
    "        MCC = matthews_corrcoef(y_test, y_pred)\n",
    "\n",
    "        # save the best model\n",
    "        if MCC > best_score:\n",
    "            best_score = MCC\n",
    "            best_model = model\n",
    "\n",
    "\n",
    "\n",
    "        # plot training and validation loss on the appropriate subplot\n",
    "        axs[i].plot(history.history['loss'])\n",
    "        axs[i].plot(history.history['val_loss'])\n",
    "        axs[i].set_title(f'Fold {i+1} Loss')\n",
    "        axs[i].set_ylabel('Loss')\n",
    "        axs[i].set_xlabel('Epoch')\n",
    "        axs[i].legend(['Train', 'Validation'], loc='upper right')\n",
    "\n",
    "    # adjust the layout and display the plots\n",
    "    plt.tight_layout()\n",
    "    plt.show()\n",
    "    print (best_score)\n",
    "\n",
    "\n",
    "    return best_model"
   ],
   "metadata": {
    "collapsed": false
   }
  },
  {
   "cell_type": "code",
   "execution_count": 15,
   "outputs": [
    {
     "name": "stdout",
     "output_type": "stream",
     "text": [
      "Epoch 1/100\n",
      "13/13 - 2s - loss: 0.4367 - val_loss: 0.6325 - 2s/epoch - 136ms/step\n",
      "Epoch 2/100\n",
      "13/13 - 0s - loss: 0.2218 - val_loss: 0.6709 - 163ms/epoch - 13ms/step\n",
      "Epoch 3/100\n",
      "13/13 - 0s - loss: 0.2049 - val_loss: 0.7215 - 136ms/epoch - 10ms/step\n",
      "Epoch 4/100\n",
      "13/13 - 0s - loss: 0.1415 - val_loss: 0.6830 - 134ms/epoch - 10ms/step\n",
      "Epoch 5/100\n",
      "13/13 - 0s - loss: 0.1123 - val_loss: 0.6806 - 149ms/epoch - 11ms/step\n",
      "Epoch 6/100\n",
      "13/13 - 0s - loss: 0.0800 - val_loss: 0.6871 - 158ms/epoch - 12ms/step\n",
      "Epoch 7/100\n",
      "13/13 - 0s - loss: 0.0539 - val_loss: 0.7111 - 153ms/epoch - 12ms/step\n",
      "Epoch 8/100\n",
      "13/13 - 0s - loss: 0.0268 - val_loss: 0.7111 - 150ms/epoch - 12ms/step\n",
      "Epoch 9/100\n",
      "13/13 - 0s - loss: -8.7944e-03 - val_loss: 0.7176 - 142ms/epoch - 11ms/step\n",
      "Epoch 10/100\n",
      "13/13 - 0s - loss: -4.3909e-02 - val_loss: 0.7508 - 133ms/epoch - 10ms/step\n",
      "Epoch 11/100\n",
      "13/13 - 0s - loss: -7.1183e-02 - val_loss: 0.7014 - 129ms/epoch - 10ms/step\n",
      "Epoch 12/100\n",
      "13/13 - 0s - loss: -1.3200e-01 - val_loss: 0.7610 - 145ms/epoch - 11ms/step\n",
      "Epoch 13/100\n",
      "13/13 - 0s - loss: -1.8928e-01 - val_loss: 0.7521 - 143ms/epoch - 11ms/step\n",
      "Epoch 14/100\n",
      "13/13 - 0s - loss: -2.3930e-01 - val_loss: 0.7776 - 137ms/epoch - 11ms/step\n",
      "Epoch 15/100\n",
      "13/13 - 0s - loss: -3.0901e-01 - val_loss: 0.7920 - 120ms/epoch - 9ms/step\n",
      "Epoch 16/100\n",
      "13/13 - 0s - loss: -3.9243e-01 - val_loss: 0.8042 - 124ms/epoch - 10ms/step\n",
      "Epoch 17/100\n",
      "13/13 - 0s - loss: -4.7433e-01 - val_loss: 0.8822 - 154ms/epoch - 12ms/step\n",
      "Epoch 18/100\n",
      "13/13 - 0s - loss: -5.6638e-01 - val_loss: 0.9384 - 120ms/epoch - 9ms/step\n",
      "Epoch 19/100\n",
      "13/13 - 0s - loss: -6.8468e-01 - val_loss: 1.1355 - 120ms/epoch - 9ms/step\n",
      "Epoch 20/100\n",
      "13/13 - 0s - loss: -8.7973e-01 - val_loss: 0.7872 - 120ms/epoch - 9ms/step\n",
      "Epoch 21/100\n",
      "13/13 - 0s - loss: -8.9756e-01 - val_loss: 1.2912 - 136ms/epoch - 10ms/step\n",
      "Epoch 22/100\n",
      "13/13 - 0s - loss: -1.1452e+00 - val_loss: 1.1957 - 124ms/epoch - 10ms/step\n",
      "Epoch 23/100\n",
      "13/13 - 0s - loss: -1.2691e+00 - val_loss: 1.4815 - 130ms/epoch - 10ms/step\n",
      "Epoch 24/100\n",
      "13/13 - 0s - loss: -1.4702e+00 - val_loss: 1.4399 - 120ms/epoch - 9ms/step\n",
      "Epoch 25/100\n",
      "13/13 - 0s - loss: -1.6233e+00 - val_loss: 1.3527 - 130ms/epoch - 10ms/step\n",
      "Epoch 26/100\n",
      "13/13 - 0s - loss: -1.7901e+00 - val_loss: 1.8416 - 128ms/epoch - 10ms/step\n",
      "Epoch 27/100\n",
      "13/13 - 0s - loss: -2.0466e+00 - val_loss: 1.9688 - 160ms/epoch - 12ms/step\n",
      "Epoch 28/100\n",
      "13/13 - 0s - loss: -2.3068e+00 - val_loss: 1.9704 - 120ms/epoch - 9ms/step\n",
      "Epoch 29/100\n",
      "13/13 - 0s - loss: -2.3911e+00 - val_loss: 1.7022 - 130ms/epoch - 10ms/step\n",
      "Epoch 30/100\n",
      "13/13 - 0s - loss: -2.6997e+00 - val_loss: 2.3034 - 120ms/epoch - 9ms/step\n",
      "Epoch 31/100\n",
      "13/13 - 0s - loss: -3.0296e+00 - val_loss: 2.4054 - 120ms/epoch - 9ms/step\n",
      "Epoch 32/100\n",
      "13/13 - 0s - loss: -3.3704e+00 - val_loss: 2.3644 - 130ms/epoch - 10ms/step\n",
      "Epoch 33/100\n",
      "13/13 - 0s - loss: -3.6739e+00 - val_loss: 2.4522 - 110ms/epoch - 8ms/step\n",
      "Epoch 34/100\n",
      "13/13 - 0s - loss: -4.1167e+00 - val_loss: 3.0694 - 130ms/epoch - 10ms/step\n",
      "Epoch 35/100\n",
      "13/13 - 0s - loss: -4.4264e+00 - val_loss: 3.3108 - 123ms/epoch - 9ms/step\n",
      "Epoch 36/100\n",
      "13/13 - 0s - loss: -4.7735e+00 - val_loss: 2.8174 - 117ms/epoch - 9ms/step\n",
      "Epoch 37/100\n",
      "13/13 - 0s - loss: -5.0740e+00 - val_loss: 3.4439 - 130ms/epoch - 10ms/step\n",
      "Epoch 38/100\n",
      "13/13 - 0s - loss: -5.3346e+00 - val_loss: 3.9682 - 130ms/epoch - 10ms/step\n",
      "Epoch 39/100\n",
      "13/13 - 0s - loss: -5.3456e+00 - val_loss: 4.5084 - 130ms/epoch - 10ms/step\n",
      "Epoch 40/100\n",
      "13/13 - 0s - loss: -5.5230e+00 - val_loss: 4.6374 - 130ms/epoch - 10ms/step\n",
      "Epoch 41/100\n",
      "13/13 - 0s - loss: -5.8886e+00 - val_loss: 4.4949 - 124ms/epoch - 10ms/step\n",
      "Epoch 42/100\n",
      "13/13 - 0s - loss: -6.2629e+00 - val_loss: 4.8731 - 130ms/epoch - 10ms/step\n",
      "Epoch 43/100\n",
      "13/13 - 0s - loss: -6.8318e+00 - val_loss: 4.8833 - 130ms/epoch - 10ms/step\n",
      "Epoch 44/100\n",
      "13/13 - 0s - loss: -7.3503e+00 - val_loss: 4.5277 - 120ms/epoch - 9ms/step\n",
      "Epoch 45/100\n",
      "13/13 - 0s - loss: -7.7511e+00 - val_loss: 3.8228 - 123ms/epoch - 9ms/step\n",
      "Epoch 46/100\n",
      "13/13 - 0s - loss: -8.0605e+00 - val_loss: 5.3525 - 132ms/epoch - 10ms/step\n",
      "Epoch 47/100\n",
      "13/13 - 0s - loss: -8.6355e+00 - val_loss: 3.7008 - 128ms/epoch - 10ms/step\n",
      "Epoch 48/100\n",
      "13/13 - 0s - loss: -8.5393e+00 - val_loss: 7.2468 - 117ms/epoch - 9ms/step\n",
      "Epoch 49/100\n",
      "13/13 - 0s - loss: -8.1079e+00 - val_loss: 6.3742 - 120ms/epoch - 9ms/step\n",
      "Epoch 50/100\n",
      "13/13 - 0s - loss: -9.4012e+00 - val_loss: 6.5859 - 120ms/epoch - 9ms/step\n",
      "Epoch 51/100\n",
      "13/13 - 0s - loss: -9.5990e+00 - val_loss: 6.2389 - 130ms/epoch - 10ms/step\n",
      "Epoch 52/100\n",
      "13/13 - 0s - loss: -1.0139e+01 - val_loss: 6.6283 - 123ms/epoch - 9ms/step\n",
      "Epoch 53/100\n",
      "13/13 - 0s - loss: -1.0631e+01 - val_loss: 5.9394 - 128ms/epoch - 10ms/step\n",
      "Epoch 54/100\n",
      "13/13 - 0s - loss: -1.1251e+01 - val_loss: 6.2681 - 160ms/epoch - 12ms/step\n",
      "Epoch 55/100\n",
      "13/13 - 0s - loss: -1.1772e+01 - val_loss: 5.8340 - 142ms/epoch - 11ms/step\n",
      "Epoch 56/100\n",
      "13/13 - 0s - loss: -1.2270e+01 - val_loss: 5.6981 - 151ms/epoch - 12ms/step\n",
      "Epoch 57/100\n",
      "13/13 - 0s - loss: -1.2579e+01 - val_loss: 7.0397 - 135ms/epoch - 10ms/step\n",
      "Epoch 58/100\n",
      "13/13 - 0s - loss: -1.2652e+01 - val_loss: 5.1985 - 134ms/epoch - 10ms/step\n",
      "Epoch 59/100\n",
      "13/13 - 0s - loss: -9.6937e+00 - val_loss: 8.8165 - 148ms/epoch - 11ms/step\n",
      "Epoch 60/100\n",
      "13/13 - 0s - loss: -1.1363e+01 - val_loss: 5.6905 - 138ms/epoch - 11ms/step\n",
      "Epoch 61/100\n",
      "13/13 - 0s - loss: -1.3055e+01 - val_loss: 6.5554 - 140ms/epoch - 11ms/step\n",
      "Epoch 62/100\n",
      "13/13 - 0s - loss: -1.4078e+01 - val_loss: 6.1262 - 146ms/epoch - 11ms/step\n",
      "Epoch 63/100\n",
      "13/13 - 0s - loss: -1.4496e+01 - val_loss: 8.2711 - 133ms/epoch - 10ms/step\n",
      "Epoch 64/100\n",
      "13/13 - 0s - loss: -1.4739e+01 - val_loss: 5.6969 - 138ms/epoch - 11ms/step\n",
      "Epoch 65/100\n",
      "13/13 - 0s - loss: -1.5155e+01 - val_loss: 5.5864 - 166ms/epoch - 13ms/step\n",
      "Epoch 66/100\n",
      "13/13 - 0s - loss: -1.5434e+01 - val_loss: 6.9723 - 142ms/epoch - 11ms/step\n",
      "Epoch 67/100\n",
      "13/13 - 0s - loss: -1.6167e+01 - val_loss: 6.3092 - 136ms/epoch - 10ms/step\n",
      "Epoch 68/100\n",
      "13/13 - 0s - loss: -1.6685e+01 - val_loss: 6.8303 - 142ms/epoch - 11ms/step\n",
      "Epoch 69/100\n",
      "13/13 - 0s - loss: -1.7043e+01 - val_loss: 8.2053 - 149ms/epoch - 11ms/step\n",
      "Epoch 70/100\n",
      "13/13 - 0s - loss: -1.7400e+01 - val_loss: 6.8038 - 137ms/epoch - 11ms/step\n",
      "Epoch 71/100\n",
      "13/13 - 0s - loss: -1.7943e+01 - val_loss: 6.9816 - 123ms/epoch - 9ms/step\n",
      "Epoch 72/100\n",
      "13/13 - 0s - loss: -1.8542e+01 - val_loss: 8.6097 - 135ms/epoch - 10ms/step\n",
      "Epoch 73/100\n",
      "13/13 - 0s - loss: -1.8935e+01 - val_loss: 6.9104 - 126ms/epoch - 10ms/step\n",
      "Epoch 74/100\n",
      "13/13 - 0s - loss: -1.8568e+01 - val_loss: 5.2001 - 123ms/epoch - 9ms/step\n",
      "Epoch 75/100\n",
      "13/13 - 0s - loss: -1.8371e+01 - val_loss: 7.4782 - 121ms/epoch - 9ms/step\n",
      "Epoch 76/100\n",
      "13/13 - 0s - loss: -1.5626e+01 - val_loss: 10.4196 - 129ms/epoch - 10ms/step\n",
      "Epoch 77/100\n",
      "13/13 - 0s - loss: -1.8395e+01 - val_loss: 13.3074 - 130ms/epoch - 10ms/step\n",
      "Epoch 78/100\n",
      "13/13 - 0s - loss: -1.9393e+01 - val_loss: 13.2678 - 140ms/epoch - 11ms/step\n",
      "Epoch 79/100\n",
      "13/13 - 0s - loss: -2.0612e+01 - val_loss: 15.4364 - 127ms/epoch - 10ms/step\n",
      "Epoch 80/100\n",
      "13/13 - 0s - loss: -2.0974e+01 - val_loss: 16.8260 - 120ms/epoch - 9ms/step\n",
      "Epoch 81/100\n",
      "13/13 - 0s - loss: -1.8262e+01 - val_loss: 13.0721 - 127ms/epoch - 10ms/step\n",
      "Epoch 82/100\n",
      "13/13 - 0s - loss: -2.0004e+01 - val_loss: 7.8151 - 140ms/epoch - 11ms/step\n",
      "Epoch 83/100\n",
      "13/13 - 0s - loss: -2.1474e+01 - val_loss: 11.0907 - 130ms/epoch - 10ms/step\n",
      "Epoch 84/100\n",
      "13/13 - 0s - loss: -2.2056e+01 - val_loss: 11.0654 - 123ms/epoch - 9ms/step\n",
      "Epoch 85/100\n",
      "13/13 - 0s - loss: -2.2738e+01 - val_loss: 8.6584 - 127ms/epoch - 10ms/step\n",
      "Epoch 86/100\n",
      "13/13 - 0s - loss: -2.1773e+01 - val_loss: 12.8358 - 130ms/epoch - 10ms/step\n",
      "Epoch 87/100\n",
      "13/13 - 0s - loss: -2.3397e+01 - val_loss: 10.6250 - 123ms/epoch - 9ms/step\n",
      "Epoch 88/100\n",
      "13/13 - 0s - loss: -2.3960e+01 - val_loss: 11.8674 - 127ms/epoch - 10ms/step\n",
      "Epoch 89/100\n",
      "13/13 - 0s - loss: -2.4243e+01 - val_loss: 11.7354 - 130ms/epoch - 10ms/step\n",
      "Epoch 90/100\n",
      "13/13 - 0s - loss: -2.4610e+01 - val_loss: 14.0739 - 130ms/epoch - 10ms/step\n",
      "Epoch 91/100\n",
      "13/13 - 0s - loss: -2.4720e+01 - val_loss: 9.7346 - 125ms/epoch - 10ms/step\n",
      "Epoch 92/100\n",
      "13/13 - 0s - loss: -2.5340e+01 - val_loss: 15.6873 - 120ms/epoch - 9ms/step\n",
      "Epoch 93/100\n",
      "13/13 - 0s - loss: -2.5741e+01 - val_loss: 9.6741 - 130ms/epoch - 10ms/step\n",
      "Epoch 94/100\n",
      "13/13 - 0s - loss: -2.6167e+01 - val_loss: 13.8656 - 135ms/epoch - 10ms/step\n",
      "Epoch 95/100\n",
      "13/13 - 0s - loss: -2.6932e+01 - val_loss: 14.7794 - 125ms/epoch - 10ms/step\n",
      "Epoch 96/100\n",
      "13/13 - 0s - loss: -2.7339e+01 - val_loss: 16.2023 - 129ms/epoch - 10ms/step\n",
      "Epoch 97/100\n",
      "13/13 - 0s - loss: -2.6608e+01 - val_loss: 10.1761 - 135ms/epoch - 10ms/step\n",
      "Epoch 98/100\n",
      "13/13 - 0s - loss: -2.6552e+01 - val_loss: 13.1279 - 119ms/epoch - 9ms/step\n",
      "Epoch 99/100\n",
      "13/13 - 0s - loss: -2.5948e+01 - val_loss: 12.9587 - 135ms/epoch - 10ms/step\n",
      "Epoch 100/100\n",
      "13/13 - 0s - loss: -2.6173e+01 - val_loss: 13.1610 - 128ms/epoch - 10ms/step\n"
     ]
    },
    {
     "ename": "TypeError",
     "evalue": "Singleton array 5 cannot be considered a valid collection.",
     "output_type": "error",
     "traceback": [
      "\u001B[1;31m---------------------------------------------------------------------------\u001B[0m",
      "\u001B[1;31mTypeError\u001B[0m                                 Traceback (most recent call last)",
      "Input \u001B[1;32mIn [15]\u001B[0m, in \u001B[0;36m<cell line: 1>\u001B[1;34m()\u001B[0m\n\u001B[1;32m----> 1\u001B[0m model \u001B[38;5;241m=\u001B[39m \u001B[43mrnn_cv\u001B[49m\u001B[43m(\u001B[49m\u001B[43mX\u001B[49m\u001B[43m,\u001B[49m\u001B[43my\u001B[49m\u001B[43m)\u001B[49m\n",
      "Input \u001B[1;32mIn [14]\u001B[0m, in \u001B[0;36mrnn_cv\u001B[1;34m(X, y, num_epochs, batch_size)\u001B[0m\n\u001B[0;32m     53\u001B[0m \u001B[38;5;66;03m# evaluate the model on the test set\u001B[39;00m\n\u001B[0;32m     54\u001B[0m y_pred \u001B[38;5;241m=\u001B[39m np\u001B[38;5;241m.\u001B[39margmax(model\u001B[38;5;241m.\u001B[39mpredict(X_test))\n\u001B[1;32m---> 55\u001B[0m MCC \u001B[38;5;241m=\u001B[39m \u001B[43mmatthews_corrcoef\u001B[49m\u001B[43m(\u001B[49m\u001B[43my_test\u001B[49m\u001B[43m,\u001B[49m\u001B[43m \u001B[49m\u001B[43my_pred\u001B[49m\u001B[43m)\u001B[49m\n\u001B[0;32m     57\u001B[0m \u001B[38;5;66;03m# save the best model\u001B[39;00m\n\u001B[0;32m     58\u001B[0m \u001B[38;5;28;01mif\u001B[39;00m MCC \u001B[38;5;241m>\u001B[39m best_score:\n",
      "File \u001B[1;32m~\\.virtualenvs\\AntibodyFvTm50Predictor\\lib\\site-packages\\sklearn\\metrics\\_classification.py:897\u001B[0m, in \u001B[0;36mmatthews_corrcoef\u001B[1;34m(y_true, y_pred, sample_weight)\u001B[0m\n\u001B[0;32m    834\u001B[0m \u001B[38;5;28;01mdef\u001B[39;00m \u001B[38;5;21mmatthews_corrcoef\u001B[39m(y_true, y_pred, \u001B[38;5;241m*\u001B[39m, sample_weight\u001B[38;5;241m=\u001B[39m\u001B[38;5;28;01mNone\u001B[39;00m):\n\u001B[0;32m    835\u001B[0m     \u001B[38;5;124;03m\"\"\"Compute the Matthews correlation coefficient (MCC).\u001B[39;00m\n\u001B[0;32m    836\u001B[0m \n\u001B[0;32m    837\u001B[0m \u001B[38;5;124;03m    The Matthews correlation coefficient is used in machine learning as a\u001B[39;00m\n\u001B[1;32m   (...)\u001B[0m\n\u001B[0;32m    895\u001B[0m \u001B[38;5;124;03m    -0.33...\u001B[39;00m\n\u001B[0;32m    896\u001B[0m \u001B[38;5;124;03m    \"\"\"\u001B[39;00m\n\u001B[1;32m--> 897\u001B[0m     y_type, y_true, y_pred \u001B[38;5;241m=\u001B[39m \u001B[43m_check_targets\u001B[49m\u001B[43m(\u001B[49m\u001B[43my_true\u001B[49m\u001B[43m,\u001B[49m\u001B[43m \u001B[49m\u001B[43my_pred\u001B[49m\u001B[43m)\u001B[49m\n\u001B[0;32m    898\u001B[0m     check_consistent_length(y_true, y_pred, sample_weight)\n\u001B[0;32m    899\u001B[0m     \u001B[38;5;28;01mif\u001B[39;00m y_type \u001B[38;5;129;01mnot\u001B[39;00m \u001B[38;5;129;01min\u001B[39;00m {\u001B[38;5;124m\"\u001B[39m\u001B[38;5;124mbinary\u001B[39m\u001B[38;5;124m\"\u001B[39m, \u001B[38;5;124m\"\u001B[39m\u001B[38;5;124mmulticlass\u001B[39m\u001B[38;5;124m\"\u001B[39m}:\n",
      "File \u001B[1;32m~\\.virtualenvs\\AntibodyFvTm50Predictor\\lib\\site-packages\\sklearn\\metrics\\_classification.py:84\u001B[0m, in \u001B[0;36m_check_targets\u001B[1;34m(y_true, y_pred)\u001B[0m\n\u001B[0;32m     57\u001B[0m \u001B[38;5;28;01mdef\u001B[39;00m \u001B[38;5;21m_check_targets\u001B[39m(y_true, y_pred):\n\u001B[0;32m     58\u001B[0m     \u001B[38;5;124;03m\"\"\"Check that y_true and y_pred belong to the same classification task.\u001B[39;00m\n\u001B[0;32m     59\u001B[0m \n\u001B[0;32m     60\u001B[0m \u001B[38;5;124;03m    This converts multiclass or binary types to a common shape, and raises a\u001B[39;00m\n\u001B[1;32m   (...)\u001B[0m\n\u001B[0;32m     82\u001B[0m \u001B[38;5;124;03m    y_pred : array or indicator matrix\u001B[39;00m\n\u001B[0;32m     83\u001B[0m \u001B[38;5;124;03m    \"\"\"\u001B[39;00m\n\u001B[1;32m---> 84\u001B[0m     \u001B[43mcheck_consistent_length\u001B[49m\u001B[43m(\u001B[49m\u001B[43my_true\u001B[49m\u001B[43m,\u001B[49m\u001B[43m \u001B[49m\u001B[43my_pred\u001B[49m\u001B[43m)\u001B[49m\n\u001B[0;32m     85\u001B[0m     type_true \u001B[38;5;241m=\u001B[39m type_of_target(y_true, input_name\u001B[38;5;241m=\u001B[39m\u001B[38;5;124m\"\u001B[39m\u001B[38;5;124my_true\u001B[39m\u001B[38;5;124m\"\u001B[39m)\n\u001B[0;32m     86\u001B[0m     type_pred \u001B[38;5;241m=\u001B[39m type_of_target(y_pred, input_name\u001B[38;5;241m=\u001B[39m\u001B[38;5;124m\"\u001B[39m\u001B[38;5;124my_pred\u001B[39m\u001B[38;5;124m\"\u001B[39m)\n",
      "File \u001B[1;32m~\\.virtualenvs\\AntibodyFvTm50Predictor\\lib\\site-packages\\sklearn\\utils\\validation.py:380\u001B[0m, in \u001B[0;36mcheck_consistent_length\u001B[1;34m(*arrays)\u001B[0m\n\u001B[0;32m    369\u001B[0m \u001B[38;5;28;01mdef\u001B[39;00m \u001B[38;5;21mcheck_consistent_length\u001B[39m(\u001B[38;5;241m*\u001B[39marrays):\n\u001B[0;32m    370\u001B[0m     \u001B[38;5;124;03m\"\"\"Check that all arrays have consistent first dimensions.\u001B[39;00m\n\u001B[0;32m    371\u001B[0m \n\u001B[0;32m    372\u001B[0m \u001B[38;5;124;03m    Checks whether all objects in arrays have the same shape or length.\u001B[39;00m\n\u001B[1;32m   (...)\u001B[0m\n\u001B[0;32m    377\u001B[0m \u001B[38;5;124;03m        Objects that will be checked for consistent length.\u001B[39;00m\n\u001B[0;32m    378\u001B[0m \u001B[38;5;124;03m    \"\"\"\u001B[39;00m\n\u001B[1;32m--> 380\u001B[0m     lengths \u001B[38;5;241m=\u001B[39m [_num_samples(X) \u001B[38;5;28;01mfor\u001B[39;00m X \u001B[38;5;129;01min\u001B[39;00m arrays \u001B[38;5;28;01mif\u001B[39;00m X \u001B[38;5;129;01mis\u001B[39;00m \u001B[38;5;129;01mnot\u001B[39;00m \u001B[38;5;28;01mNone\u001B[39;00m]\n\u001B[0;32m    381\u001B[0m     uniques \u001B[38;5;241m=\u001B[39m np\u001B[38;5;241m.\u001B[39munique(lengths)\n\u001B[0;32m    382\u001B[0m     \u001B[38;5;28;01mif\u001B[39;00m \u001B[38;5;28mlen\u001B[39m(uniques) \u001B[38;5;241m>\u001B[39m \u001B[38;5;241m1\u001B[39m:\n",
      "File \u001B[1;32m~\\.virtualenvs\\AntibodyFvTm50Predictor\\lib\\site-packages\\sklearn\\utils\\validation.py:380\u001B[0m, in \u001B[0;36m<listcomp>\u001B[1;34m(.0)\u001B[0m\n\u001B[0;32m    369\u001B[0m \u001B[38;5;28;01mdef\u001B[39;00m \u001B[38;5;21mcheck_consistent_length\u001B[39m(\u001B[38;5;241m*\u001B[39marrays):\n\u001B[0;32m    370\u001B[0m     \u001B[38;5;124;03m\"\"\"Check that all arrays have consistent first dimensions.\u001B[39;00m\n\u001B[0;32m    371\u001B[0m \n\u001B[0;32m    372\u001B[0m \u001B[38;5;124;03m    Checks whether all objects in arrays have the same shape or length.\u001B[39;00m\n\u001B[1;32m   (...)\u001B[0m\n\u001B[0;32m    377\u001B[0m \u001B[38;5;124;03m        Objects that will be checked for consistent length.\u001B[39;00m\n\u001B[0;32m    378\u001B[0m \u001B[38;5;124;03m    \"\"\"\u001B[39;00m\n\u001B[1;32m--> 380\u001B[0m     lengths \u001B[38;5;241m=\u001B[39m [\u001B[43m_num_samples\u001B[49m\u001B[43m(\u001B[49m\u001B[43mX\u001B[49m\u001B[43m)\u001B[49m \u001B[38;5;28;01mfor\u001B[39;00m X \u001B[38;5;129;01min\u001B[39;00m arrays \u001B[38;5;28;01mif\u001B[39;00m X \u001B[38;5;129;01mis\u001B[39;00m \u001B[38;5;129;01mnot\u001B[39;00m \u001B[38;5;28;01mNone\u001B[39;00m]\n\u001B[0;32m    381\u001B[0m     uniques \u001B[38;5;241m=\u001B[39m np\u001B[38;5;241m.\u001B[39munique(lengths)\n\u001B[0;32m    382\u001B[0m     \u001B[38;5;28;01mif\u001B[39;00m \u001B[38;5;28mlen\u001B[39m(uniques) \u001B[38;5;241m>\u001B[39m \u001B[38;5;241m1\u001B[39m:\n",
      "File \u001B[1;32m~\\.virtualenvs\\AntibodyFvTm50Predictor\\lib\\site-packages\\sklearn\\utils\\validation.py:321\u001B[0m, in \u001B[0;36m_num_samples\u001B[1;34m(x)\u001B[0m\n\u001B[0;32m    319\u001B[0m \u001B[38;5;28;01mif\u001B[39;00m \u001B[38;5;28mhasattr\u001B[39m(x, \u001B[38;5;124m\"\u001B[39m\u001B[38;5;124mshape\u001B[39m\u001B[38;5;124m\"\u001B[39m) \u001B[38;5;129;01mand\u001B[39;00m x\u001B[38;5;241m.\u001B[39mshape \u001B[38;5;129;01mis\u001B[39;00m \u001B[38;5;129;01mnot\u001B[39;00m \u001B[38;5;28;01mNone\u001B[39;00m:\n\u001B[0;32m    320\u001B[0m     \u001B[38;5;28;01mif\u001B[39;00m \u001B[38;5;28mlen\u001B[39m(x\u001B[38;5;241m.\u001B[39mshape) \u001B[38;5;241m==\u001B[39m \u001B[38;5;241m0\u001B[39m:\n\u001B[1;32m--> 321\u001B[0m         \u001B[38;5;28;01mraise\u001B[39;00m \u001B[38;5;167;01mTypeError\u001B[39;00m(\n\u001B[0;32m    322\u001B[0m             \u001B[38;5;124m\"\u001B[39m\u001B[38;5;124mSingleton array \u001B[39m\u001B[38;5;132;01m%r\u001B[39;00m\u001B[38;5;124m cannot be considered a valid collection.\u001B[39m\u001B[38;5;124m\"\u001B[39m \u001B[38;5;241m%\u001B[39m x\n\u001B[0;32m    323\u001B[0m         )\n\u001B[0;32m    324\u001B[0m     \u001B[38;5;66;03m# Check that shape is returning an integer or default to len\u001B[39;00m\n\u001B[0;32m    325\u001B[0m     \u001B[38;5;66;03m# Dask dataframes may not return numeric shape[0] value\u001B[39;00m\n\u001B[0;32m    326\u001B[0m     \u001B[38;5;28;01mif\u001B[39;00m \u001B[38;5;28misinstance\u001B[39m(x\u001B[38;5;241m.\u001B[39mshape[\u001B[38;5;241m0\u001B[39m], numbers\u001B[38;5;241m.\u001B[39mIntegral):\n",
      "\u001B[1;31mTypeError\u001B[0m: Singleton array 5 cannot be considered a valid collection."
     ]
    },
    {
     "data": {
      "text/plain": "<Figure size 720x1080 with 6 Axes>",
      "image/png": "[encoded data removed]"
     },
     "metadata": {},
     "output_type": "display_data"
    }
   ],
   "source": [
    "model = rnn_cv(X,y)"
   ],
   "metadata": {
    "collapsed": false
   }
  },
  {
   "cell_type": "code",
   "execution_count": 67,
   "outputs": [],
   "source": [
    "def rnn_cv(X,y, num_epochs=100, batch_size=10):\n",
    "\n",
    "    sns.set_style(style='white')\n",
    "\n",
    "    rand = 28\n",
    "\n",
    "    y = pd.DataFrame(y)\n",
    "    y = y.values.ravel()\n",
    "\n",
    "    X.columns = ['{}'.format(i) for i in range(len(X.columns))]\n",
    "\n",
    "    # set up train and test sets\n",
    "    X_train, X_test, y_train, y_test = train_test_split(X, y, test_size=0.1, random_state=rand)\n",
    "\n",
    "    X_test = np.array(X_test)\n",
    "    y_test=np.array(y_test)\n",
    "\n",
    "\n",
    "    fig, axs = plt.subplots(nrows=3, ncols=2, figsize=(10, 15))\n",
    "    axs = axs.flatten()\n",
    "    X_train = X_train.values.reshape((X_train.shape[0], X_train.shape[1],1))\n",
    "    y_train = np.array(y_train)\n",
    "\n",
    "    print (type(X_train))\n",
    "    print (type(y_train))\n",
    "    print (type(X_test))\n",
    "    print (type(y_test))\n",
    "\n",
    "    model = Sequential()\n",
    "    model.add(LSTM(100))\n",
    "    model.add(Dense(3, activation ='softmax'))\n",
    "    model.compile(loss='categorical_crossentropy', optimizer='adam', metrics=['categorical_accuracy'])\n",
    "\n",
    "    # fit the model\n",
    "    history = model.fit(X_train, y_train, epochs=num_epochs, batch_size=batch_size)\n",
    "\n",
    "    scores = model.evaluate(X_test, y_test, verbose=0)\n",
    "    print(\"Accuracy: %.2f%%\" % (scores[1]*100))\n",
    "\n",
    "     # evaluate the model on the test set\n",
    "    y_pred = model.predict(X_test)\n",
    "    #MCC = matthews_corrcoef(y_test, y_pred)\n",
    "\n",
    "    print (y_pred)\n",
    "    print (y_test)\n",
    "\n",
    "\n",
    "    #print (MCC)\n",
    "\n",
    "\n",
    "    return model"
   ],
   "metadata": {
    "collapsed": false
   }
  },
  {
   "cell_type": "code",
   "execution_count": 68,
   "outputs": [
    {
     "name": "stdout",
     "output_type": "stream",
     "text": [
      "<class 'numpy.ndarray'>\n",
      "<class 'numpy.ndarray'>\n",
      "<class 'numpy.ndarray'>\n",
      "<class 'numpy.ndarray'>\n",
      "Epoch 1/100\n"
     ]
    },
    {
     "ename": "ValueError",
     "evalue": "in user code:\n\n    File \"C:\\Users\\toon_\\.virtualenvs\\AntibodyFvTm50Predictor\\lib\\site-packages\\keras\\engine\\training.py\", line 1021, in train_function  *\n        return step_function(self, iterator)\n    File \"C:\\Users\\toon_\\.virtualenvs\\AntibodyFvTm50Predictor\\lib\\site-packages\\keras\\engine\\training.py\", line 1010, in step_function  **\n        outputs = model.distribute_strategy.run(run_step, args=(data,))\n    File \"C:\\Users\\toon_\\.virtualenvs\\AntibodyFvTm50Predictor\\lib\\site-packages\\keras\\engine\\training.py\", line 1000, in run_step  **\n        outputs = model.train_step(data)\n    File \"C:\\Users\\toon_\\.virtualenvs\\AntibodyFvTm50Predictor\\lib\\site-packages\\keras\\engine\\training.py\", line 860, in train_step\n        loss = self.compute_loss(x, y, y_pred, sample_weight)\n    File \"C:\\Users\\toon_\\.virtualenvs\\AntibodyFvTm50Predictor\\lib\\site-packages\\keras\\engine\\training.py\", line 918, in compute_loss\n        return self.compiled_loss(\n    File \"C:\\Users\\toon_\\.virtualenvs\\AntibodyFvTm50Predictor\\lib\\site-packages\\keras\\engine\\compile_utils.py\", line 201, in __call__\n        loss_value = loss_obj(y_t, y_p, sample_weight=sw)\n    File \"C:\\Users\\toon_\\.virtualenvs\\AntibodyFvTm50Predictor\\lib\\site-packages\\keras\\losses.py\", line 141, in __call__\n        losses = call_fn(y_true, y_pred)\n    File \"C:\\Users\\toon_\\.virtualenvs\\AntibodyFvTm50Predictor\\lib\\site-packages\\keras\\losses.py\", line 245, in call  **\n        return ag_fn(y_true, y_pred, **self._fn_kwargs)\n    File \"C:\\Users\\toon_\\.virtualenvs\\AntibodyFvTm50Predictor\\lib\\site-packages\\keras\\losses.py\", line 1789, in categorical_crossentropy\n        return backend.categorical_crossentropy(\n    File \"C:\\Users\\toon_\\.virtualenvs\\AntibodyFvTm50Predictor\\lib\\site-packages\\keras\\backend.py\", line 5083, in categorical_crossentropy\n        target.shape.assert_is_compatible_with(output.shape)\n\n    ValueError: Shapes (None, 1) and (None, 3) are incompatible\n",
     "output_type": "error",
     "traceback": [
      "\u001B[1;31m---------------------------------------------------------------------------\u001B[0m",
      "\u001B[1;31mValueError\u001B[0m                                Traceback (most recent call last)",
      "Input \u001B[1;32mIn [68]\u001B[0m, in \u001B[0;36m<cell line: 1>\u001B[1;34m()\u001B[0m\n\u001B[1;32m----> 1\u001B[0m model \u001B[38;5;241m=\u001B[39m \u001B[43mrnn_cv\u001B[49m\u001B[43m(\u001B[49m\u001B[43mX\u001B[49m\u001B[43m,\u001B[49m\u001B[43my\u001B[49m\u001B[43m)\u001B[49m\n",
      "Input \u001B[1;32mIn [67]\u001B[0m, in \u001B[0;36mrnn_cv\u001B[1;34m(X, y, num_epochs, batch_size)\u001B[0m\n\u001B[0;32m     32\u001B[0m model\u001B[38;5;241m.\u001B[39mcompile(loss\u001B[38;5;241m=\u001B[39m\u001B[38;5;124m'\u001B[39m\u001B[38;5;124mcategorical_crossentropy\u001B[39m\u001B[38;5;124m'\u001B[39m, optimizer\u001B[38;5;241m=\u001B[39m\u001B[38;5;124m'\u001B[39m\u001B[38;5;124madam\u001B[39m\u001B[38;5;124m'\u001B[39m, metrics\u001B[38;5;241m=\u001B[39m[\u001B[38;5;124m'\u001B[39m\u001B[38;5;124mcategorical_accuracy\u001B[39m\u001B[38;5;124m'\u001B[39m])\n\u001B[0;32m     34\u001B[0m \u001B[38;5;66;03m# fit the model\u001B[39;00m\n\u001B[1;32m---> 35\u001B[0m history \u001B[38;5;241m=\u001B[39m \u001B[43mmodel\u001B[49m\u001B[38;5;241;43m.\u001B[39;49m\u001B[43mfit\u001B[49m\u001B[43m(\u001B[49m\u001B[43mX_train\u001B[49m\u001B[43m,\u001B[49m\u001B[43m \u001B[49m\u001B[43my_train\u001B[49m\u001B[43m,\u001B[49m\u001B[43m \u001B[49m\u001B[43mepochs\u001B[49m\u001B[38;5;241;43m=\u001B[39;49m\u001B[43mnum_epochs\u001B[49m\u001B[43m,\u001B[49m\u001B[43m \u001B[49m\u001B[43mbatch_size\u001B[49m\u001B[38;5;241;43m=\u001B[39;49m\u001B[43mbatch_size\u001B[49m\u001B[43m)\u001B[49m\n\u001B[0;32m     37\u001B[0m scores \u001B[38;5;241m=\u001B[39m model\u001B[38;5;241m.\u001B[39mevaluate(X_test, y_test, verbose\u001B[38;5;241m=\u001B[39m\u001B[38;5;241m0\u001B[39m)\n\u001B[0;32m     38\u001B[0m \u001B[38;5;28mprint\u001B[39m(\u001B[38;5;124m\"\u001B[39m\u001B[38;5;124mAccuracy: \u001B[39m\u001B[38;5;132;01m%.2f\u001B[39;00m\u001B[38;5;132;01m%%\u001B[39;00m\u001B[38;5;124m\"\u001B[39m \u001B[38;5;241m%\u001B[39m (scores[\u001B[38;5;241m1\u001B[39m]\u001B[38;5;241m*\u001B[39m\u001B[38;5;241m100\u001B[39m))\n",
      "File \u001B[1;32m~\\.virtualenvs\\AntibodyFvTm50Predictor\\lib\\site-packages\\keras\\utils\\traceback_utils.py:67\u001B[0m, in \u001B[0;36mfilter_traceback.<locals>.error_handler\u001B[1;34m(*args, **kwargs)\u001B[0m\n\u001B[0;32m     65\u001B[0m \u001B[38;5;28;01mexcept\u001B[39;00m \u001B[38;5;167;01mException\u001B[39;00m \u001B[38;5;28;01mas\u001B[39;00m e:  \u001B[38;5;66;03m# pylint: disable=broad-except\u001B[39;00m\n\u001B[0;32m     66\u001B[0m   filtered_tb \u001B[38;5;241m=\u001B[39m _process_traceback_frames(e\u001B[38;5;241m.\u001B[39m__traceback__)\n\u001B[1;32m---> 67\u001B[0m   \u001B[38;5;28;01mraise\u001B[39;00m e\u001B[38;5;241m.\u001B[39mwith_traceback(filtered_tb) \u001B[38;5;28;01mfrom\u001B[39;00m \u001B[38;5;28mNone\u001B[39m\n\u001B[0;32m     68\u001B[0m \u001B[38;5;28;01mfinally\u001B[39;00m:\n\u001B[0;32m     69\u001B[0m   \u001B[38;5;28;01mdel\u001B[39;00m filtered_tb\n",
      "File \u001B[1;32m~\\.virtualenvs\\AntibodyFvTm50Predictor\\lib\\site-packages\\tensorflow\\python\\framework\\func_graph.py:1147\u001B[0m, in \u001B[0;36mfunc_graph_from_py_func.<locals>.autograph_handler\u001B[1;34m(*args, **kwargs)\u001B[0m\n\u001B[0;32m   1145\u001B[0m \u001B[38;5;28;01mexcept\u001B[39;00m \u001B[38;5;167;01mException\u001B[39;00m \u001B[38;5;28;01mas\u001B[39;00m e:  \u001B[38;5;66;03m# pylint:disable=broad-except\u001B[39;00m\n\u001B[0;32m   1146\u001B[0m   \u001B[38;5;28;01mif\u001B[39;00m \u001B[38;5;28mhasattr\u001B[39m(e, \u001B[38;5;124m\"\u001B[39m\u001B[38;5;124mag_error_metadata\u001B[39m\u001B[38;5;124m\"\u001B[39m):\n\u001B[1;32m-> 1147\u001B[0m     \u001B[38;5;28;01mraise\u001B[39;00m e\u001B[38;5;241m.\u001B[39mag_error_metadata\u001B[38;5;241m.\u001B[39mto_exception(e)\n\u001B[0;32m   1148\u001B[0m   \u001B[38;5;28;01melse\u001B[39;00m:\n\u001B[0;32m   1149\u001B[0m     \u001B[38;5;28;01mraise\u001B[39;00m\n",
      "\u001B[1;31mValueError\u001B[0m: in user code:\n\n    File \"C:\\Users\\toon_\\.virtualenvs\\AntibodyFvTm50Predictor\\lib\\site-packages\\keras\\engine\\training.py\", line 1021, in train_function  *\n        return step_function(self, iterator)\n    File \"C:\\Users\\toon_\\.virtualenvs\\AntibodyFvTm50Predictor\\lib\\site-packages\\keras\\engine\\training.py\", line 1010, in step_function  **\n        outputs = model.distribute_strategy.run(run_step, args=(data,))\n    File \"C:\\Users\\toon_\\.virtualenvs\\AntibodyFvTm50Predictor\\lib\\site-packages\\keras\\engine\\training.py\", line 1000, in run_step  **\n        outputs = model.train_step(data)\n    File \"C:\\Users\\toon_\\.virtualenvs\\AntibodyFvTm50Predictor\\lib\\site-packages\\keras\\engine\\training.py\", line 860, in train_step\n        loss = self.compute_loss(x, y, y_pred, sample_weight)\n    File \"C:\\Users\\toon_\\.virtualenvs\\AntibodyFvTm50Predictor\\lib\\site-packages\\keras\\engine\\training.py\", line 918, in compute_loss\n        return self.compiled_loss(\n    File \"C:\\Users\\toon_\\.virtualenvs\\AntibodyFvTm50Predictor\\lib\\site-packages\\keras\\engine\\compile_utils.py\", line 201, in __call__\n        loss_value = loss_obj(y_t, y_p, sample_weight=sw)\n    File \"C:\\Users\\toon_\\.virtualenvs\\AntibodyFvTm50Predictor\\lib\\site-packages\\keras\\losses.py\", line 141, in __call__\n        losses = call_fn(y_true, y_pred)\n    File \"C:\\Users\\toon_\\.virtualenvs\\AntibodyFvTm50Predictor\\lib\\site-packages\\keras\\losses.py\", line 245, in call  **\n        return ag_fn(y_true, y_pred, **self._fn_kwargs)\n    File \"C:\\Users\\toon_\\.virtualenvs\\AntibodyFvTm50Predictor\\lib\\site-packages\\keras\\losses.py\", line 1789, in categorical_crossentropy\n        return backend.categorical_crossentropy(\n    File \"C:\\Users\\toon_\\.virtualenvs\\AntibodyFvTm50Predictor\\lib\\site-packages\\keras\\backend.py\", line 5083, in categorical_crossentropy\n        target.shape.assert_is_compatible_with(output.shape)\n\n    ValueError: Shapes (None, 1) and (None, 3) are incompatible\n"
     ]
    },
    {
     "data": {
      "text/plain": "<Figure size 720x1080 with 6 Axes>",
      "image/png": "[encoded data removed]"
     },
     "metadata": {},
     "output_type": "display_data"
    }
   ],
   "source": [
    "model = rnn_cv(X,y)"
   ],
   "metadata": {
    "collapsed": false
   }
  },
  {
   "cell_type": "code",
   "execution_count": 34,
   "outputs": [],
   "source": [
    "X_train, X_test, y_train, y_test = train_test_split(X, y, test_size=0.1, random_state=1)"
   ],
   "metadata": {
    "collapsed": false
   }
  },
  {
   "cell_type": "code",
   "execution_count": 35,
   "outputs": [
    {
     "data": {
      "text/plain": "(159, 60)"
     },
     "execution_count": 35,
     "metadata": {},
     "output_type": "execute_result"
    }
   ],
   "source": [
    "X_train.shape"
   ],
   "metadata": {
    "collapsed": false
   }
  },
  {
   "cell_type": "code",
   "execution_count": 36,
   "outputs": [
    {
     "ename": "TypeError",
     "evalue": "'tuple' object cannot be interpreted as an integer",
     "output_type": "error",
     "traceback": [
      "\u001B[1;31m---------------------------------------------------------------------------\u001B[0m",
      "\u001B[1;31mTypeError\u001B[0m                                 Traceback (most recent call last)",
      "Input \u001B[1;32mIn [36]\u001B[0m, in \u001B[0;36m<cell line: 1>\u001B[1;34m()\u001B[0m\n\u001B[1;32m----> 1\u001B[0m X_train_r \u001B[38;5;241m=\u001B[39m \u001B[43mX_train\u001B[49m\u001B[38;5;241;43m.\u001B[39;49m\u001B[43mvalues\u001B[49m\u001B[38;5;241;43m.\u001B[39;49m\u001B[43mreshape\u001B[49m\u001B[43m(\u001B[49m\u001B[38;5;241;43m1\u001B[39;49m\u001B[43m,\u001B[49m\u001B[43m(\u001B[49m\u001B[43mX_train\u001B[49m\u001B[38;5;241;43m.\u001B[39;49m\u001B[43mshape\u001B[49m\u001B[43m[\u001B[49m\u001B[38;5;241;43m0\u001B[39;49m\u001B[43m]\u001B[49m\u001B[43m,\u001B[49m\u001B[43m \u001B[49m\u001B[43mX_train\u001B[49m\u001B[38;5;241;43m.\u001B[39;49m\u001B[43mshape\u001B[49m\u001B[43m[\u001B[49m\u001B[38;5;241;43m1\u001B[39;49m\u001B[43m]\u001B[49m\u001B[43m)\u001B[49m\u001B[43m)\u001B[49m\n",
      "\u001B[1;31mTypeError\u001B[0m: 'tuple' object cannot be interpreted as an integer"
     ]
    }
   ],
   "source": [
    "X_train_r = X_train.values.reshape(1,(X_train.shape[0], X_train.shape[1]))"
   ],
   "metadata": {
    "collapsed": false
   }
  },
  {
   "cell_type": "code",
   "execution_count": 38,
   "outputs": [
    {
     "data": {
      "text/plain": "(159, 60)"
     },
     "execution_count": 38,
     "metadata": {},
     "output_type": "execute_result"
    }
   ],
   "source": [
    "X_train.values.shape"
   ],
   "metadata": {
    "collapsed": false
   }
  },
  {
   "cell_type": "code",
   "execution_count": 39,
   "outputs": [
    {
     "ename": "TypeError",
     "evalue": "'tuple' object cannot be interpreted as an integer",
     "output_type": "error",
     "traceback": [
      "\u001B[1;31m---------------------------------------------------------------------------\u001B[0m",
      "\u001B[1;31mTypeError\u001B[0m                                 Traceback (most recent call last)",
      "Input \u001B[1;32mIn [39]\u001B[0m, in \u001B[0;36m<cell line: 1>\u001B[1;34m()\u001B[0m\n\u001B[1;32m----> 1\u001B[0m a \u001B[38;5;241m=\u001B[39m \u001B[43mX_train\u001B[49m\u001B[38;5;241;43m.\u001B[39;49m\u001B[43mvalues\u001B[49m\u001B[38;5;241;43m.\u001B[39;49m\u001B[43mreshape\u001B[49m\u001B[43m(\u001B[49m\u001B[43m(\u001B[49m\u001B[43mX_train\u001B[49m\u001B[38;5;241;43m.\u001B[39;49m\u001B[43mshape\u001B[49m\u001B[43m[\u001B[49m\u001B[38;5;241;43m0\u001B[39;49m\u001B[43m]\u001B[49m\u001B[43m,\u001B[49m\u001B[43m \u001B[49m\u001B[43mX_train\u001B[49m\u001B[38;5;241;43m.\u001B[39;49m\u001B[43mshape\u001B[49m\u001B[43m[\u001B[49m\u001B[38;5;241;43m1\u001B[39;49m\u001B[43m]\u001B[49m\u001B[43m)\u001B[49m\u001B[43m,\u001B[49m\u001B[38;5;241;43m1\u001B[39;49m\u001B[43m)\u001B[49m\n",
      "\u001B[1;31mTypeError\u001B[0m: 'tuple' object cannot be interpreted as an integer"
     ]
    }
   ],
   "source": [
    "a = X_train.values.reshape((X_train.shape[0], X_train.shape[1]),1)"
   ],
   "metadata": {
    "collapsed": false
   }
  },
  {
   "cell_type": "code",
   "execution_count": 42,
   "outputs": [
    {
     "data": {
      "text/plain": "60"
     },
     "execution_count": 42,
     "metadata": {},
     "output_type": "execute_result"
    }
   ],
   "source": [
    "X_train.shape[1]"
   ],
   "metadata": {
    "collapsed": false
   }
  },
  {
   "cell_type": "code",
   "execution_count": 99,
   "outputs": [],
   "source": [
    "from keras.initializers import glorot_uniform\n",
    "\n",
    "def rnn_cv(X, y, num_epochs=100, batch_size=10):\n",
    "    sns.set_style(style='white')\n",
    "    rand = 28\n",
    "\n",
    "    y = pd.DataFrame(y)\n",
    "    y = y.values.ravel()\n",
    "\n",
    "    X.columns = ['{}'.format(i) for i in range(len(X.columns))]\n",
    "\n",
    "    X_train, X_test, y_train, y_test = train_test_split(X, y, test_size=0.1, random_state=rand)\n",
    "\n",
    "    X_train = X_train.values.reshape((X_train.shape[0], X_train.shape[1], 1))\n",
    "    X_test = X_test.values.reshape((X_test.shape[0], X_test.shape[1], 1))\n",
    "\n",
    "    # Convert labels to one-hot encoded format\n",
    "    y_train_encoded = to_categorical(y_train, num_classes=3)\n",
    "    y_test_encoded = to_categorical(y_test, num_classes=3)\n",
    "\n",
    "    model = Sequential()\n",
    "    model.add(LSTM(100, kernel_initializer=glorot_uniform(seed=rand)))\n",
    "    model.add(Dense(3, activation='softmax', kernel_initializer=glorot_uniform(seed=rand)))  # Softmax for multi-class\n",
    "    model.compile(loss='categorical_crossentropy', optimizer='adam', metrics=['categorical_accuracy'])\n",
    "\n",
    "    history = model.fit(X_train, y_train_encoded, epochs=num_epochs, batch_size=batch_size)\n",
    "\n",
    "    scores = model.evaluate(X_test, y_test_encoded, verbose=0)\n",
    "    print(\"Accuracy: %.2f%%\" % (scores[1] * 100))\n",
    "\n",
    "    y_pred = model.predict(X_test)\n",
    "    y_pred_classes = np.argmax(y_pred, axis=1)\n",
    "\n",
    "    print(y_pred_classes)\n",
    "    print(y_test)\n",
    "\n",
    "    #MCC evaluation\n",
    "    MCC = matthews_corrcoef(y_test, y_pred_classes)\n",
    "    print (MCC)\n",
    "\n",
    "    target_names = ['<70', '70 - 75', '>75']\n",
    "    print(classification_report(y_test, y_pred_classes, target_names=target_names))\n",
    "\n",
    "\n",
    "    return model"
   ],
   "metadata": {
    "collapsed": false
   }
  },
  {
   "cell_type": "code",
   "execution_count": 102,
   "outputs": [
    {
     "name": "stdout",
     "output_type": "stream",
     "text": [
      "Epoch 1/100\n",
      "16/16 [==============================] - 1s 8ms/step - loss: 1.1761 - categorical_accuracy: 0.2579\n",
      "Epoch 2/100\n",
      "16/16 [==============================] - 0s 8ms/step - loss: 1.0464 - categorical_accuracy: 0.4591\n",
      "Epoch 3/100\n",
      "16/16 [==============================] - 0s 8ms/step - loss: 1.0259 - categorical_accuracy: 0.5094\n",
      "Epoch 4/100\n",
      "16/16 [==============================] - 0s 8ms/step - loss: 1.0034 - categorical_accuracy: 0.5157\n",
      "Epoch 5/100\n",
      "16/16 [==============================] - 0s 9ms/step - loss: 0.9852 - categorical_accuracy: 0.5220\n",
      "Epoch 6/100\n",
      "16/16 [==============================] - 0s 8ms/step - loss: 0.9666 - categorical_accuracy: 0.5346\n",
      "Epoch 7/100\n",
      "16/16 [==============================] - 0s 7ms/step - loss: 0.9431 - categorical_accuracy: 0.5975\n",
      "Epoch 8/100\n",
      "16/16 [==============================] - 0s 7ms/step - loss: 0.9297 - categorical_accuracy: 0.5535\n",
      "Epoch 9/100\n",
      "16/16 [==============================] - 0s 8ms/step - loss: 0.9063 - categorical_accuracy: 0.6164\n",
      "Epoch 10/100\n",
      "16/16 [==============================] - 0s 8ms/step - loss: 0.8768 - categorical_accuracy: 0.6289\n",
      "Epoch 11/100\n",
      "16/16 [==============================] - 0s 8ms/step - loss: 0.8607 - categorical_accuracy: 0.6164\n",
      "Epoch 12/100\n",
      "16/16 [==============================] - 0s 8ms/step - loss: 0.8308 - categorical_accuracy: 0.6604\n",
      "Epoch 13/100\n",
      "16/16 [==============================] - 0s 8ms/step - loss: 0.8007 - categorical_accuracy: 0.6352\n",
      "Epoch 14/100\n",
      "16/16 [==============================] - 0s 8ms/step - loss: 0.7794 - categorical_accuracy: 0.6667\n",
      "Epoch 15/100\n",
      "16/16 [==============================] - 0s 7ms/step - loss: 0.7440 - categorical_accuracy: 0.6918\n",
      "Epoch 16/100\n",
      "16/16 [==============================] - 0s 8ms/step - loss: 0.7200 - categorical_accuracy: 0.6981\n",
      "Epoch 17/100\n",
      "16/16 [==============================] - 0s 8ms/step - loss: 0.6891 - categorical_accuracy: 0.7421\n",
      "Epoch 18/100\n",
      "16/16 [==============================] - 0s 7ms/step - loss: 0.6614 - categorical_accuracy: 0.7547\n",
      "Epoch 19/100\n",
      "16/16 [==============================] - 0s 8ms/step - loss: 0.6310 - categorical_accuracy: 0.7925\n",
      "Epoch 20/100\n",
      "16/16 [==============================] - 0s 7ms/step - loss: 0.6095 - categorical_accuracy: 0.7799\n",
      "Epoch 21/100\n",
      "16/16 [==============================] - 0s 8ms/step - loss: 0.5745 - categorical_accuracy: 0.7862\n",
      "Epoch 22/100\n",
      "16/16 [==============================] - 0s 7ms/step - loss: 0.5386 - categorical_accuracy: 0.8050\n",
      "Epoch 23/100\n",
      "16/16 [==============================] - 0s 8ms/step - loss: 0.5287 - categorical_accuracy: 0.7987\n",
      "Epoch 24/100\n",
      "16/16 [==============================] - 0s 7ms/step - loss: 0.5154 - categorical_accuracy: 0.8239\n",
      "Epoch 25/100\n",
      "16/16 [==============================] - 0s 8ms/step - loss: 0.4621 - categorical_accuracy: 0.8491\n",
      "Epoch 26/100\n",
      "16/16 [==============================] - 0s 9ms/step - loss: 0.4449 - categorical_accuracy: 0.8931\n",
      "Epoch 27/100\n",
      "16/16 [==============================] - 0s 7ms/step - loss: 0.4108 - categorical_accuracy: 0.8742\n",
      "Epoch 28/100\n",
      "16/16 [==============================] - 0s 9ms/step - loss: 0.3982 - categorical_accuracy: 0.8868\n",
      "Epoch 29/100\n",
      "16/16 [==============================] - 0s 8ms/step - loss: 0.3732 - categorical_accuracy: 0.9057\n",
      "Epoch 30/100\n",
      "16/16 [==============================] - 0s 8ms/step - loss: 0.3747 - categorical_accuracy: 0.8994\n",
      "Epoch 31/100\n",
      "16/16 [==============================] - 0s 7ms/step - loss: 0.3157 - categorical_accuracy: 0.9182\n",
      "Epoch 32/100\n",
      "16/16 [==============================] - 0s 8ms/step - loss: 0.2920 - categorical_accuracy: 0.9308\n",
      "Epoch 33/100\n",
      "16/16 [==============================] - 0s 8ms/step - loss: 0.2721 - categorical_accuracy: 0.9182\n",
      "Epoch 34/100\n",
      "16/16 [==============================] - 0s 8ms/step - loss: 0.2573 - categorical_accuracy: 0.9497\n",
      "Epoch 35/100\n",
      "16/16 [==============================] - 0s 8ms/step - loss: 0.2204 - categorical_accuracy: 0.9623\n",
      "Epoch 36/100\n",
      "16/16 [==============================] - 0s 8ms/step - loss: 0.2210 - categorical_accuracy: 0.9686\n",
      "Epoch 37/100\n",
      "16/16 [==============================] - 0s 10ms/step - loss: 0.1988 - categorical_accuracy: 0.9560\n",
      "Epoch 38/100\n",
      "16/16 [==============================] - 0s 8ms/step - loss: 0.1750 - categorical_accuracy: 0.9748\n",
      "Epoch 39/100\n",
      "16/16 [==============================] - 0s 9ms/step - loss: 0.1635 - categorical_accuracy: 0.9748\n",
      "Epoch 40/100\n",
      "16/16 [==============================] - 0s 8ms/step - loss: 0.1468 - categorical_accuracy: 0.9748\n",
      "Epoch 41/100\n",
      "16/16 [==============================] - 0s 8ms/step - loss: 0.1285 - categorical_accuracy: 0.9874\n",
      "Epoch 42/100\n",
      "16/16 [==============================] - 0s 9ms/step - loss: 0.1240 - categorical_accuracy: 0.9874\n",
      "Epoch 43/100\n",
      "16/16 [==============================] - 0s 9ms/step - loss: 0.1053 - categorical_accuracy: 0.9811\n",
      "Epoch 44/100\n",
      "16/16 [==============================] - 0s 9ms/step - loss: 0.1014 - categorical_accuracy: 0.9874\n",
      "Epoch 45/100\n",
      "16/16 [==============================] - 0s 10ms/step - loss: 0.0877 - categorical_accuracy: 0.9874\n",
      "Epoch 46/100\n",
      "16/16 [==============================] - 0s 8ms/step - loss: 0.0787 - categorical_accuracy: 1.0000\n",
      "Epoch 47/100\n",
      "16/16 [==============================] - 0s 8ms/step - loss: 0.0673 - categorical_accuracy: 1.0000\n",
      "Epoch 48/100\n",
      "16/16 [==============================] - 0s 9ms/step - loss: 0.0605 - categorical_accuracy: 1.0000\n",
      "Epoch 49/100\n",
      "16/16 [==============================] - 0s 9ms/step - loss: 0.0588 - categorical_accuracy: 1.0000\n",
      "Epoch 50/100\n",
      "16/16 [==============================] - 0s 8ms/step - loss: 0.0506 - categorical_accuracy: 1.0000\n",
      "Epoch 51/100\n",
      "16/16 [==============================] - 0s 8ms/step - loss: 0.0447 - categorical_accuracy: 1.0000\n",
      "Epoch 52/100\n",
      "16/16 [==============================] - 0s 9ms/step - loss: 0.0416 - categorical_accuracy: 1.0000\n",
      "Epoch 53/100\n",
      "16/16 [==============================] - 0s 9ms/step - loss: 0.0367 - categorical_accuracy: 1.0000\n",
      "Epoch 54/100\n",
      "16/16 [==============================] - 0s 8ms/step - loss: 0.0325 - categorical_accuracy: 1.0000\n",
      "Epoch 55/100\n",
      "16/16 [==============================] - 0s 8ms/step - loss: 0.0334 - categorical_accuracy: 1.0000\n",
      "Epoch 56/100\n",
      "16/16 [==============================] - 0s 7ms/step - loss: 0.0283 - categorical_accuracy: 1.0000\n",
      "Epoch 57/100\n",
      "16/16 [==============================] - 0s 8ms/step - loss: 0.0257 - categorical_accuracy: 1.0000\n",
      "Epoch 58/100\n",
      "16/16 [==============================] - 0s 7ms/step - loss: 0.0228 - categorical_accuracy: 1.0000\n",
      "Epoch 59/100\n",
      "16/16 [==============================] - 0s 8ms/step - loss: 0.0210 - categorical_accuracy: 1.0000\n",
      "Epoch 60/100\n",
      "16/16 [==============================] - 0s 7ms/step - loss: 0.0194 - categorical_accuracy: 1.0000\n",
      "Epoch 61/100\n",
      "16/16 [==============================] - 0s 8ms/step - loss: 0.0180 - categorical_accuracy: 1.0000\n",
      "Epoch 62/100\n",
      "16/16 [==============================] - 0s 7ms/step - loss: 0.0174 - categorical_accuracy: 1.0000\n",
      "Epoch 63/100\n",
      "16/16 [==============================] - 0s 8ms/step - loss: 0.0160 - categorical_accuracy: 1.0000\n",
      "Epoch 64/100\n",
      "16/16 [==============================] - 0s 7ms/step - loss: 0.0151 - categorical_accuracy: 1.0000\n",
      "Epoch 65/100\n",
      "16/16 [==============================] - 0s 8ms/step - loss: 0.0146 - categorical_accuracy: 1.0000\n",
      "Epoch 66/100\n",
      "16/16 [==============================] - 0s 8ms/step - loss: 0.0140 - categorical_accuracy: 1.0000\n",
      "Epoch 67/100\n",
      "16/16 [==============================] - 0s 8ms/step - loss: 0.0127 - categorical_accuracy: 1.0000\n",
      "Epoch 68/100\n",
      "16/16 [==============================] - 0s 8ms/step - loss: 0.0123 - categorical_accuracy: 1.0000\n",
      "Epoch 69/100\n",
      "16/16 [==============================] - 0s 8ms/step - loss: 0.0114 - categorical_accuracy: 1.0000\n",
      "Epoch 70/100\n",
      "16/16 [==============================] - 0s 7ms/step - loss: 0.0107 - categorical_accuracy: 1.0000\n",
      "Epoch 71/100\n",
      "16/16 [==============================] - 0s 7ms/step - loss: 0.0101 - categorical_accuracy: 1.0000\n",
      "Epoch 72/100\n",
      "16/16 [==============================] - 0s 8ms/step - loss: 0.0097 - categorical_accuracy: 1.0000\n",
      "Epoch 73/100\n",
      "16/16 [==============================] - 0s 7ms/step - loss: 0.0091 - categorical_accuracy: 1.0000\n",
      "Epoch 74/100\n",
      "16/16 [==============================] - 0s 9ms/step - loss: 0.0088 - categorical_accuracy: 1.0000\n",
      "Epoch 75/100\n",
      "16/16 [==============================] - 0s 8ms/step - loss: 0.0084 - categorical_accuracy: 1.0000\n",
      "Epoch 76/100\n",
      "16/16 [==============================] - 0s 7ms/step - loss: 0.0079 - categorical_accuracy: 1.0000\n",
      "Epoch 77/100\n",
      "16/16 [==============================] - 0s 8ms/step - loss: 0.0075 - categorical_accuracy: 1.0000\n",
      "Epoch 78/100\n",
      "16/16 [==============================] - 0s 8ms/step - loss: 0.0073 - categorical_accuracy: 1.0000\n",
      "Epoch 79/100\n",
      "16/16 [==============================] - 0s 7ms/step - loss: 0.0070 - categorical_accuracy: 1.0000\n",
      "Epoch 80/100\n",
      "16/16 [==============================] - 0s 8ms/step - loss: 0.0066 - categorical_accuracy: 1.0000\n",
      "Epoch 81/100\n",
      "16/16 [==============================] - 0s 8ms/step - loss: 0.0063 - categorical_accuracy: 1.0000\n",
      "Epoch 82/100\n",
      "16/16 [==============================] - 0s 7ms/step - loss: 0.0059 - categorical_accuracy: 1.0000\n",
      "Epoch 83/100\n",
      "16/16 [==============================] - 0s 8ms/step - loss: 0.0059 - categorical_accuracy: 1.0000\n",
      "Epoch 84/100\n",
      "16/16 [==============================] - 0s 9ms/step - loss: 0.0056 - categorical_accuracy: 1.0000\n",
      "Epoch 85/100\n",
      "16/16 [==============================] - 0s 8ms/step - loss: 0.0054 - categorical_accuracy: 1.0000\n",
      "Epoch 86/100\n",
      "16/16 [==============================] - 0s 7ms/step - loss: 0.0052 - categorical_accuracy: 1.0000\n",
      "Epoch 87/100\n",
      "16/16 [==============================] - 0s 7ms/step - loss: 0.0049 - categorical_accuracy: 1.0000\n",
      "Epoch 88/100\n",
      "16/16 [==============================] - 0s 8ms/step - loss: 0.0047 - categorical_accuracy: 1.0000\n",
      "Epoch 89/100\n",
      "16/16 [==============================] - 0s 8ms/step - loss: 0.0046 - categorical_accuracy: 1.0000\n",
      "Epoch 90/100\n",
      "16/16 [==============================] - 0s 8ms/step - loss: 0.0044 - categorical_accuracy: 1.0000\n",
      "Epoch 91/100\n",
      "16/16 [==============================] - 0s 8ms/step - loss: 0.0043 - categorical_accuracy: 1.0000\n",
      "Epoch 92/100\n",
      "16/16 [==============================] - 0s 8ms/step - loss: 0.0041 - categorical_accuracy: 1.0000\n",
      "Epoch 93/100\n",
      "16/16 [==============================] - 0s 9ms/step - loss: 0.0040 - categorical_accuracy: 1.0000\n",
      "Epoch 94/100\n",
      "16/16 [==============================] - 0s 9ms/step - loss: 0.0040 - categorical_accuracy: 1.0000\n",
      "Epoch 95/100\n",
      "16/16 [==============================] - 0s 8ms/step - loss: 0.0037 - categorical_accuracy: 1.0000\n",
      "Epoch 96/100\n",
      "16/16 [==============================] - 0s 8ms/step - loss: 0.0036 - categorical_accuracy: 1.0000\n",
      "Epoch 97/100\n",
      "16/16 [==============================] - 0s 9ms/step - loss: 0.0035 - categorical_accuracy: 1.0000\n",
      "Epoch 98/100\n",
      "16/16 [==============================] - 0s 8ms/step - loss: 0.0034 - categorical_accuracy: 1.0000\n",
      "Epoch 99/100\n",
      "16/16 [==============================] - 0s 9ms/step - loss: 0.0033 - categorical_accuracy: 1.0000\n",
      "Epoch 100/100\n",
      "16/16 [==============================] - 0s 9ms/step - loss: 0.0032 - categorical_accuracy: 1.0000\n",
      "Accuracy: 50.00%\n",
      "[1 0 2 2 0 1 1 2 0 0 0 0 1 1 0 0 0 2]\n",
      "[0 1 0 0 1 2 1 2 0 0 0 0 0 0 0 0 1 2]\n",
      "0.1634842833832614\n",
      "              precision    recall  f1-score   support\n",
      "\n",
      "         <70       0.67      0.55      0.60        11\n",
      "     70 - 75       0.20      0.25      0.22         4\n",
      "         >75       0.50      0.67      0.57         3\n",
      "\n",
      "    accuracy                           0.50        18\n",
      "   macro avg       0.46      0.49      0.46        18\n",
      "weighted avg       0.54      0.50      0.51        18\n",
      "\n"
     ]
    },
    {
     "data": {
      "text/plain": "<keras.engine.sequential.Sequential at 0x26b0897f4f0>"
     },
     "execution_count": 102,
     "metadata": {},
     "output_type": "execute_result"
    }
   ],
   "source": [
    "rnn_cv(X,y)"
   ],
   "metadata": {
    "collapsed": false
   }
  },
  {
   "cell_type": "code",
   "execution_count": 105,
   "outputs": [
    {
     "name": "stderr",
     "output_type": "stream",
     "text": [
      "WARNING:absl:Found untraced functions such as lstm_cell_24_layer_call_fn, lstm_cell_24_layer_call_and_return_conditional_losses while saving (showing 2 of 2). These functions will not be directly callable after loading.\n"
     ]
    },
    {
     "name": "stdout",
     "output_type": "stream",
     "text": [
      "INFO:tensorflow:Assets written to: ram://4da1a42a-ecb6-4a34-929f-e995b5ea5a40/assets\n"
     ]
    },
    {
     "name": "stderr",
     "output_type": "stream",
     "text": [
      "INFO:tensorflow:Assets written to: ram://4da1a42a-ecb6-4a34-929f-e995b5ea5a40/assets\n",
      "WARNING:absl:<keras.layers.recurrent.LSTMCell object at 0x0000026AFF52CAF0> has the same name 'LSTMCell' as a built-in Keras object. Consider renaming <class 'keras.layers.recurrent.LSTMCell'> to avoid naming conflicts when loading with `tf.keras.models.load_model`. If renaming is not possible, pass the object in the `custom_objects` parameter of the load function.\n"
     ]
    },
    {
     "data": {
      "text/plain": "['../models/24082023_rnn_classification_model.joblib']"
     },
     "execution_count": 105,
     "metadata": {},
     "output_type": "execute_result"
    }
   ],
   "source": [
    "joblib.dump(model, '../models/24082023_rnn_classification_model.joblib')"
   ],
   "metadata": {
    "collapsed": false
   }
  },
  {
   "cell_type": "code",
   "execution_count": null,
   "outputs": [],
   "source": [],
   "metadata": {
    "collapsed": false
   }
  }
 ],
 "metadata": {
  "kernelspec": {
   "display_name": "Python 3",
   "language": "python",
   "name": "python3"
  },
  "language_info": {
   "codemirror_mode": {
    "name": "ipython",
    "version": 2
   },
   "file_extension": ".py",
   "mimetype": "text/x-python",
   "name": "python",
   "nbconvert_exporter": "python",
   "pygments_lexer": "ipython2",
   "version": "2.7.6"
  }
 },
 "nbformat": 4,
 "nbformat_minor": 0
}
