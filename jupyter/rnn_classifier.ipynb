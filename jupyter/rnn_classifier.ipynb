{
 "cells": [
  {
   "cell_type": "code",
   "execution_count": null,
   "outputs": [],
   "source": [
    "import numpy as np\n",
    "from scipy.stats import pearsonr\n",
    "from sklearn.metrics import mean_absolute_error, r2_score\n",
    "import seaborn as sns\n",
    "from tensorflow.keras.models import Sequential\n",
    "from tensorflow.keras.layers import LSTM, Dense\n",
    "import matplotlib.pyplot as plt\n",
    "from sklearn.model_selection import KFold, train_test_split\n",
    "import pandas as pd"
   ],
   "metadata": {
    "collapsed": false,
    "pycharm": {
     "is_executing": true
    }
   }
  },
  {
   "cell_type": "code",
   "execution_count": null,
   "metadata": {
    "collapsed": true,
    "pycharm": {
     "is_executing": true
    }
   },
   "outputs": [],
   "source": [
    "def data_extract_class(data_file):\n",
    "    \"\"\"\n",
    "    :param data_file:   csv file containing light sequences, heavy sequences and their tm50 values.\n",
    "    :return:            lists of light sequences, heavy sequences and tm50 values.\n",
    "    \"\"\"\n",
    "\n",
    "    df = pd.read_csv(data_file)\n",
    "    df.rename(columns={'VL': 'Light'}, inplace=True)\n",
    "    df.rename(columns={'VH': 'Heavy'}, inplace=True)\n",
    "    df.rename(columns={\"Fab Tm by DSF (°C)\": 'Temp'}, inplace=True)\n",
    "\n",
    "    light_seq = df['Light'].values.tolist()\n",
    "    heavy_seq = df['Heavy'].values.tolist()\n",
    "    temp = df['Temp'].values.tolist()\n",
    "    bin = df['bin'].values.tolist()\n",
    "\n",
    "\n",
    "    return light_seq, heavy_seq, temp, bin"
   ]
  },
  {
   "cell_type": "code",
   "execution_count": null,
   "outputs": [],
   "source": [
    "bert_data_512 = \"../data/combined_bert_df.csv\"\n",
    "bert_data_60 = \"../data/combined_datasets_60.csv\"\n",
    "df = pd.read_csv(bert_data_60)\n",
    "\n",
    "light, heavy, temp, bin = data_extract_class('../data/combined_datasets_class.csv')\n",
    "\n",
    "X = df\n",
    "y = bin"
   ],
   "metadata": {
    "collapsed": false
   }
  },
  {
   "cell_type": "code",
   "execution_count": null,
   "outputs": [],
   "source": [
    "def rnn_cv(X,y, num_epochs=100, batch_size=10):\n",
    "\n",
    "    sns.set_style(style='white')\n",
    "\n",
    "    rand = 28\n",
    "\n",
    "    y = pd.DataFrame(y)\n",
    "    y = y.values.ravel()\n",
    "\n",
    "    X.columns = ['{}'.format(i) for i in range(len(X.columns))]\n",
    "\n",
    "    # set up train and test sets\n",
    "    X_train, X_test, y_train, y_test = train_test_split(X, y, test_size=0.1, random_state=rand)\n",
    "\n",
    "    fig, axs = plt.subplots(nrows=3, ncols=2, figsize=(10, 15))\n",
    "    axs = axs.flatten()\n",
    "\n",
    "    mae_scores = []\n",
    "    r2_scores = []\n",
    "    pearsonr_scores = []\n",
    "\n",
    "    # set up the k-fold cross-validation\n",
    "    kf = KFold(n_splits=5, shuffle=True, random_state=42)\n",
    "\n",
    "    for i, (train_index, val_index) in enumerate(kf.split(X_train)):\n",
    "\n",
    "        k_X_train, X_val = X_train.iloc[train_index], X_train.iloc[val_index]\n",
    "        k_y_train, y_val = y_train[train_index], y_train[val_index]\n",
    "\n",
    "        # create the RNN model\n",
    "        k_X_train = k_X_train.values.reshape((k_X_train.shape[0], k_X_train.shape[1], 1))\n",
    "        X_val = X_val.values.reshape((X_val.shape[0], X_val.shape[1], 1))\n",
    "        k_y_train = np.array(k_y_train)\n",
    "        y_val = np.array(y_val)\n",
    "        model = Sequential()\n",
    "        model.add(LSTM(100, input_shape=(k_X_train.shape[1], k_X_train.shape[2])))\n",
    "        model.add(Dense(1))\n",
    "        model.compile(loss='mean_absolute_error', optimizer='adam')\n",
    "\n",
    "        # fit the model\n",
    "        history = model.fit(k_X_train, k_y_train, epochs=num_epochs, batch_size=batch_size, verbose=2, validation_data=\n",
    "        (X_val, y_val))\n",
    "\n",
    "        # evaluate the model on the test set\n",
    "        predictions = model.predict(X_test)\n",
    "        mae = mean_absolute_error(y_test, predictions)\n",
    "        r2 = r2_score(y_test, predictions)\n",
    "\n",
    "        # y_test and predictions are arrays with shape (36, 1)\n",
    "        y_test_reshaped = np.squeeze(y_test)\n",
    "        predictions_reshaped = np.squeeze(predictions)\n",
    "\n",
    "        # Calculate Pearson correlation coefficient\n",
    "        pearson, _ = pearsonr(y_test_reshaped, predictions_reshaped)\n",
    "\n",
    "        mae_scores.append(mae)\n",
    "        r2_scores.append(r2)\n",
    "        pearsonr_scores.append(pearson)\n",
    "\n",
    "        # plot training and validation loss on the appropriate subplot\n",
    "        axs[i].plot(history.history['loss'])\n",
    "        axs[i].plot(history.history['val_loss'])\n",
    "        axs[i].set_title(f'Fold {i+1} Loss')\n",
    "        axs[i].set_ylabel('Loss')\n",
    "        axs[i].set_xlabel('Epoch')\n",
    "        axs[i].legend(['Train', 'Validation'], loc='upper right')\n",
    "\n",
    "    # adjust the layout and display the plots\n",
    "    plt.tight_layout()\n",
    "    plt.show()\n",
    "\n",
    "    print('MAE: %.3f (%.3f)' % (np.mean(mae_scores), np.std(mae_scores)))\n",
    "    print('R2: %.3f (%.3f)' % (np.mean(r2_scores), np.std(r2_scores)))\n",
    "    print('Pearsonr: %.3f (%.3f)' % (np.mean(pearsonr_scores), np.std(pearsonr_scores)))\n",
    "\n",
    "    plt.figure(figsize=(10, 10))\n",
    "    plt.scatter(y_test, predictions)\n",
    "    plt.title(f'Predictions vs. Actual\\nMAE={(np.mean(mae_scores)):.2f}, R2={(np.mean(r2_scores)):.2f}, Pearsonr={(np.mean(pearsonr_scores)):.2f}')\n",
    "    plt.ylabel('Actual')\n",
    "    plt.xlabel('Predictions')\n",
    "    plt.plot([y_test.min(), y_test.max()], [y_test.min(), y_test.max()], 'r--', lw=2)\n",
    "    plt.show()\n",
    "\n",
    "    return model"
   ],
   "metadata": {
    "collapsed": false
   }
  }
 ],
 "metadata": {
  "kernelspec": {
   "display_name": "Python 3",
   "language": "python",
   "name": "python3"
  },
  "language_info": {
   "codemirror_mode": {
    "name": "ipython",
    "version": 2
   },
   "file_extension": ".py",
   "mimetype": "text/x-python",
   "name": "python",
   "nbconvert_exporter": "python",
   "pygments_lexer": "ipython2",
   "version": "2.7.6"
  }
 },
 "nbformat": 4,
 "nbformat_minor": 0
}
