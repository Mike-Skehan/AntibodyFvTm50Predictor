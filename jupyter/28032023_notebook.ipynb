{
 "cells": [
  {
   "cell_type": "code",
   "execution_count": 1,
   "metadata": {
    "collapsed": true
   },
   "outputs": [],
   "source": [
    "import pandas as pd\n",
    "from sklearn.model_selection import train_test_split, GridSearchCV, KFold\n",
    "from sklearn.metrics import mean_absolute_error, r2_score\n",
    "from sklearn.ensemble import RandomForestRegressor\n",
    "import numpy as np\n",
    "import joblib\n",
    "import sys\n",
    "sys.path.append(\"..\")\n",
    "from randomforest import random_forest_CV\n",
    "from tools import feature_selection\n",
    "from tools import data_parser as dp\n",
    "from tools import feature_selection"
   ]
  },
  {
   "cell_type": "code",
   "execution_count": 2,
   "outputs": [],
   "source": [
    "n_estimators = [int(x) for x in np.linspace(start = 50 , stop = 800, num = 10)]\n",
    "max_features = [1.0, 'sqrt']\n",
    "max_depth = [int(x) for x in np.linspace(10, 110, num = 11)]\n",
    "max_depth.append(None)\n",
    "min_samples_split = [2, 5, 10]\n",
    "min_samples_leaf = [1, 2, 4]\n",
    "bootstrap = [True, False]\n",
    "\n",
    "random_grid = {'n_estimators': n_estimators,\n",
    "               'max_features': max_features,\n",
    "               'max_depth': max_depth,\n",
    "               'min_samples_split': min_samples_split,\n",
    "               'min_samples_leaf': min_samples_leaf,\n",
    "               'bootstrap': bootstrap}\n",
    "\n",
    "kfold = KFold(n_splits=5, shuffle=True, random_state=7)"
   ],
   "metadata": {
    "collapsed": false
   }
  },
  {
   "cell_type": "code",
   "execution_count": 3,
   "outputs": [],
   "source": [
    "bert_data = \"../data/combined_bert_df.csv\"\n",
    "df = pd.read_csv(bert_data)\n",
    "\n",
    "light, heavy, temp = dp.data_extract('../data/combined_datasets.csv')\n",
    "\n",
    "X = df\n",
    "y = temp"
   ],
   "metadata": {
    "collapsed": false
   }
  },
  {
   "cell_type": "code",
   "execution_count": 4,
   "outputs": [],
   "source": [
    "X_reduced_72 = feature_selection.rfe_select(X,y,72)\n",
    "X_new = X.loc[:,X_reduced_72]"
   ],
   "metadata": {
    "collapsed": false
   }
  },
  {
   "cell_type": "code",
   "execution_count": 5,
   "outputs": [],
   "source": [
    "X_new.to_csv('../data/combined_datasets_72.csv',index=False)"
   ],
   "metadata": {
    "collapsed": false
   }
  },
  {
   "cell_type": "code",
   "execution_count": 7,
   "outputs": [
    {
     "name": "stdout",
     "output_type": "stream",
     "text": [
      "Fitting 5 folds for each of 100 candidates, totalling 500 fits\n"
     ]
    }
   ],
   "source": [
    "random_search = random_forest_CV.random_search(X_new, y, random_grid, 100, kfold)"
   ],
   "metadata": {
    "collapsed": false
   }
  },
  {
   "cell_type": "code",
   "execution_count": 8,
   "outputs": [
    {
     "data": {
      "text/plain": "RandomForestRegressor(max_depth=60, max_features='sqrt', min_samples_leaf=2,\n                      min_samples_split=5, n_estimators=216)",
      "text/html": "<style>#sk-container-id-1 {color: black;background-color: white;}#sk-container-id-1 pre{padding: 0;}#sk-container-id-1 div.sk-toggleable {background-color: white;}#sk-container-id-1 label.sk-toggleable__label {cursor: pointer;display: block;width: 100%;margin-bottom: 0;padding: 0.3em;box-sizing: border-box;text-align: center;}#sk-container-id-1 label.sk-toggleable__label-arrow:before {content: \"▸\";float: left;margin-right: 0.25em;color: #696969;}#sk-container-id-1 label.sk-toggleable__label-arrow:hover:before {color: black;}#sk-container-id-1 div.sk-estimator:hover label.sk-toggleable__label-arrow:before {color: black;}#sk-container-id-1 div.sk-toggleable__content {max-height: 0;max-width: 0;overflow: hidden;text-align: left;background-color: #f0f8ff;}#sk-container-id-1 div.sk-toggleable__content pre {margin: 0.2em;color: black;border-radius: 0.25em;background-color: #f0f8ff;}#sk-container-id-1 input.sk-toggleable__control:checked~div.sk-toggleable__content {max-height: 200px;max-width: 100%;overflow: auto;}#sk-container-id-1 input.sk-toggleable__control:checked~label.sk-toggleable__label-arrow:before {content: \"▾\";}#sk-container-id-1 div.sk-estimator input.sk-toggleable__control:checked~label.sk-toggleable__label {background-color: #d4ebff;}#sk-container-id-1 div.sk-label input.sk-toggleable__control:checked~label.sk-toggleable__label {background-color: #d4ebff;}#sk-container-id-1 input.sk-hidden--visually {border: 0;clip: rect(1px 1px 1px 1px);clip: rect(1px, 1px, 1px, 1px);height: 1px;margin: -1px;overflow: hidden;padding: 0;position: absolute;width: 1px;}#sk-container-id-1 div.sk-estimator {font-family: monospace;background-color: #f0f8ff;border: 1px dotted black;border-radius: 0.25em;box-sizing: border-box;margin-bottom: 0.5em;}#sk-container-id-1 div.sk-estimator:hover {background-color: #d4ebff;}#sk-container-id-1 div.sk-parallel-item::after {content: \"\";width: 100%;border-bottom: 1px solid gray;flex-grow: 1;}#sk-container-id-1 div.sk-label:hover label.sk-toggleable__label {background-color: #d4ebff;}#sk-container-id-1 div.sk-serial::before {content: \"\";position: absolute;border-left: 1px solid gray;box-sizing: border-box;top: 0;bottom: 0;left: 50%;z-index: 0;}#sk-container-id-1 div.sk-serial {display: flex;flex-direction: column;align-items: center;background-color: white;padding-right: 0.2em;padding-left: 0.2em;position: relative;}#sk-container-id-1 div.sk-item {position: relative;z-index: 1;}#sk-container-id-1 div.sk-parallel {display: flex;align-items: stretch;justify-content: center;background-color: white;position: relative;}#sk-container-id-1 div.sk-item::before, #sk-container-id-1 div.sk-parallel-item::before {content: \"\";position: absolute;border-left: 1px solid gray;box-sizing: border-box;top: 0;bottom: 0;left: 50%;z-index: -1;}#sk-container-id-1 div.sk-parallel-item {display: flex;flex-direction: column;z-index: 1;position: relative;background-color: white;}#sk-container-id-1 div.sk-parallel-item:first-child::after {align-self: flex-end;width: 50%;}#sk-container-id-1 div.sk-parallel-item:last-child::after {align-self: flex-start;width: 50%;}#sk-container-id-1 div.sk-parallel-item:only-child::after {width: 0;}#sk-container-id-1 div.sk-dashed-wrapped {border: 1px dashed gray;margin: 0 0.4em 0.5em 0.4em;box-sizing: border-box;padding-bottom: 0.4em;background-color: white;}#sk-container-id-1 div.sk-label label {font-family: monospace;font-weight: bold;display: inline-block;line-height: 1.2em;}#sk-container-id-1 div.sk-label-container {text-align: center;}#sk-container-id-1 div.sk-container {/* jupyter's `normalize.less` sets `[hidden] { display: none; }` but bootstrap.min.css set `[hidden] { display: none !important; }` so we also need the `!important` here to be able to override the default hidden behavior on the sphinx rendered scikit-learn.org. See: https://github.com/scikit-learn/scikit-learn/issues/21755 */display: inline-block !important;position: relative;}#sk-container-id-1 div.sk-text-repr-fallback {display: none;}</style><div id=\"sk-container-id-1\" class=\"sk-top-container\"><div class=\"sk-text-repr-fallback\"><pre>RandomForestRegressor(max_depth=60, max_features=&#x27;sqrt&#x27;, min_samples_leaf=2,\n                      min_samples_split=5, n_estimators=216)</pre><b>In a Jupyter environment, please rerun this cell to show the HTML representation or trust the notebook. <br />On GitHub, the HTML representation is unable to render, please try loading this page with nbviewer.org.</b></div><div class=\"sk-container\" hidden><div class=\"sk-item\"><div class=\"sk-estimator sk-toggleable\"><input class=\"sk-toggleable__control sk-hidden--visually\" id=\"sk-estimator-id-1\" type=\"checkbox\" checked><label for=\"sk-estimator-id-1\" class=\"sk-toggleable__label sk-toggleable__label-arrow\">RandomForestRegressor</label><div class=\"sk-toggleable__content\"><pre>RandomForestRegressor(max_depth=60, max_features=&#x27;sqrt&#x27;, min_samples_leaf=2,\n                      min_samples_split=5, n_estimators=216)</pre></div></div></div></div></div>"
     },
     "execution_count": 8,
     "metadata": {},
     "output_type": "execute_result"
    }
   ],
   "source": [
    "random_search"
   ],
   "metadata": {
    "collapsed": false
   }
  },
  {
   "cell_type": "code",
   "execution_count": null,
   "outputs": [],
   "source": [],
   "metadata": {
    "collapsed": false
   }
  },
  {
   "cell_type": "code",
   "execution_count": 27,
   "outputs": [],
   "source": [
    "from sklearn.model_selection import RandomizedSearchCV, GridSearchCV, KFold\n",
    "from sklearn.metrics import make_scorer, r2_score, mean_squared_error\n",
    "from sklearn.ensemble import RandomForestRegressor\n",
    "from sklearn.model_selection import cross_val_score\n",
    "import time\n",
    "\n",
    "def random_search2(x, y, params, iters, cv_num):\n",
    "    \"\"\"\n",
    "    :param x: input features\n",
    "    :param y: target variable\n",
    "    :param params: random search parameters\n",
    "    :param iters: number of iteration for the search\n",
    "    :param cv_num: number of cross validations\n",
    "    :return: model with the best cross-validation score\n",
    "    \"\"\"\n",
    "    start_time = time.time()\n",
    "    # Define the scoring metrics to use\n",
    "    scoring = {'r2': make_scorer(r2_score), 'mae': make_scorer(mean_absolute_error)}\n",
    "\n",
    "    # Define the random search object\n",
    "    rf_random = RandomizedSearchCV(\n",
    "        estimator=RandomForestRegressor(),\n",
    "        param_distributions=params,\n",
    "        n_iter=iters,\n",
    "        cv=KFold(n_splits=cv_num),\n",
    "        verbose=2,\n",
    "        n_jobs=-1,\n",
    "        scoring=scoring,\n",
    "        refit='r2'\n",
    "    )\n",
    "\n",
    "    # Perform the random search\n",
    "    rf_random.fit(x, y)\n",
    "\n",
    "    # Extract the best hyperparameters from the random search\n",
    "    best_params = rf_random.best_params_\n",
    "\n",
    "    # Define the final model with the best hyperparameters\n",
    "    final_model = RandomForestRegressor(**best_params)\n",
    "\n",
    "    # Evaluate the final model using cross-validation\n",
    "    mae_cv_scores = cross_val_score(final_model, x, y, cv=KFold(n_splits=cv_num), scoring='neg_mean_absolute_error')\n",
    "    r2_cv_scores = cross_val_score(final_model, x, y, cv=KFold(n_splits=cv_num), scoring='r2')\n",
    "\n",
    "\n",
    "    # Print the cross-validation scores\n",
    "    print(f\"MAE Cross-validation scores: {-mae_cv_scores}\")\n",
    "    print(f\"MAE Mean cross-validation score: {-mae_cv_scores.mean()}\")\n",
    "    print(f\"r2 Cross-validation scores: {r2_cv_scores}\")\n",
    "    print(f\"r2 Mean cross-validation score: {r2_cv_scores.mean()}\")\n",
    "    print(f\"Total Elapsed Time: {time.time() - start_time:.3f} seconds for {iters*cv_num} fits\")\n",
    "\n",
    "    # Fit the final model to the data\n",
    "    final_model.fit(x, y)\n",
    "\n",
    "    # Return the final model\n",
    "    return final_model\n"
   ],
   "metadata": {
    "collapsed": false
   }
  },
  {
   "cell_type": "code",
   "execution_count": 28,
   "outputs": [
    {
     "name": "stdout",
     "output_type": "stream",
     "text": [
      "Fitting 10 folds for each of 100 candidates, totalling 1000 fits\n",
      "MAE Cross-validation scores: [3.50112086 2.79784183 4.15388471 3.96066555 3.85694096 3.80446255\n",
      " 5.59120718 3.7086245  3.98351762 5.36403509]\n",
      "MAE Mean cross-validation score: 4.0722300850164626\n",
      "r2 Cross-validation scores: [0.18602893 0.21093729 0.05587314 0.12329552 0.32950709 0.45040437\n",
      " 0.28296815 0.13969944 0.27013444 0.10609101]\n",
      "r2 Mean cross-validation score: 0.21549393868397654\n",
      "Total Elapsed Time: 174.687 seconds for 1000 fits\n"
     ]
    }
   ],
   "source": [
    "result2 = random_search2(X_new,y,random_grid, 100, 10)"
   ],
   "metadata": {
    "collapsed": false
   }
  },
  {
   "cell_type": "code",
   "execution_count": 29,
   "outputs": [
    {
     "name": "stdout",
     "output_type": "stream",
     "text": [
      "Fitting 10 folds for each of 500 candidates, totalling 5000 fits\n",
      "MAE Cross-validation scores: [3.76772139 2.90056391 3.98190267 3.76585213 3.90389515 3.96907149\n",
      " 5.20482456 3.79477001 4.09373065 5.13600177]\n",
      "MAE Mean cross-validation score: 4.051833373700357\n",
      "r2 Cross-validation scores: [0.14624269 0.25631843 0.17159683 0.17099842 0.28631602 0.43639614\n",
      " 0.22131086 0.18070066 0.12979939 0.13745167]\n",
      "r2 Mean cross-validation score: 0.2137131111141009\n",
      "Total Elapsed Time: 941.967 seconds for 5000 fits\n"
     ]
    }
   ],
   "source": [
    "result3 = random_search2(X_new,y,random_grid, 500, 10)"
   ],
   "metadata": {
    "collapsed": false
   }
  },
  {
   "cell_type": "code",
   "execution_count": 30,
   "outputs": [
    {
     "data": {
      "text/plain": "4.650694244948769"
     },
     "execution_count": 30,
     "metadata": {},
     "output_type": "execute_result"
    }
   ],
   "source": [
    "random_forest_CV.eval_avg(y)"
   ],
   "metadata": {
    "collapsed": false
   }
  },
  {
   "cell_type": "code",
   "execution_count": 34,
   "outputs": [
    {
     "data": {
      "text/plain": "['../models/ab72_rfkf_28032023.joblib']"
     },
     "execution_count": 34,
     "metadata": {},
     "output_type": "execute_result"
    }
   ],
   "source": [
    "joblib.dump(result3,'../models/ab72_rfkf_28032023.joblib')"
   ],
   "metadata": {
    "collapsed": false
   }
  },
  {
   "cell_type": "code",
   "execution_count": null,
   "outputs": [],
   "source": [],
   "metadata": {
    "collapsed": false
   }
  }
 ],
 "metadata": {
  "kernelspec": {
   "display_name": "Python 3",
   "language": "python",
   "name": "python3"
  },
  "language_info": {
   "codemirror_mode": {
    "name": "ipython",
    "version": 2
   },
   "file_extension": ".py",
   "mimetype": "text/x-python",
   "name": "python",
   "nbconvert_exporter": "python",
   "pygments_lexer": "ipython2",
   "version": "2.7.6"
  }
 },
 "nbformat": 4,
 "nbformat_minor": 0
}
