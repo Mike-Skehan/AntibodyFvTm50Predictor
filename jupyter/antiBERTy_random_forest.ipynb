{
 "cells": [
  {
   "cell_type": "code",
   "execution_count": 72,
   "outputs": [],
   "source": [
    "import sys\n",
    "import data_parser as dp\n",
    "import pandas as pd\n",
    "import numpy as np\n",
    "from time import time\n",
    "from sklearn.ensemble import RandomForestRegressor\n",
    "from sklearn.model_selection import RandomizedSearchCV\n",
    "from sklearn.model_selection import train_test_split\n",
    "from sklearn.metrics import mean_absolute_error\n",
    "from scipy import stats\n",
    "import joblib\n",
    "import matplotlib.pyplot as plt"
   ],
   "metadata": {
    "collapsed": false
   }
  },
  {
   "cell_type": "code",
   "execution_count": null,
   "outputs": [],
   "source": [
    "sys.path.insert(0,\"../data/\")\n",
    "sys.path.insert(0,\"../\")\n",
    "sys.path.insert(0,\"../tools/\")"
   ],
   "metadata": {
    "collapsed": false
   }
  },
  {
   "cell_type": "code",
   "execution_count": 8,
   "metadata": {
    "collapsed": true
   },
   "outputs": [],
   "source": [
    "jain_data = \"../data/Jain_Ab_dataset.csv\"\n",
    "light, heavy, temp = dp.data_extract_Jain(jain_data)\n",
    "\n",
    "df = pd.read_csv(\"bert_df.csv\")"
   ]
  },
  {
   "cell_type": "code",
   "execution_count": 16,
   "outputs": [],
   "source": [
    "X = df\n",
    "Y = temp"
   ],
   "metadata": {
    "collapsed": false
   }
  },
  {
   "cell_type": "code",
   "execution_count": 48,
   "outputs": [],
   "source": [
    "# Number of trees in random forest\n",
    "n_estimators = [int(x) for x in np.linspace(start = 200, stop = 2000, num = 10)]\n",
    "# Number of features to consider at every split\n",
    "max_features = [1.0, 'sqrt']\n",
    "# Maximum number of levels in tree\n",
    "max_depth = [int(x) for x in np.linspace(10, 110, num = 11)]\n",
    "max_depth.append(None)\n",
    "# Minimum number of samples required to split a node\n",
    "min_samples_split = [2, 5, 10]\n",
    "# Minimum number of samples required at each leaf node\n",
    "min_samples_leaf = [1, 2, 4]\n",
    "# Method of selecting samples for training each tree\n",
    "bootstrap = [True, False]\n",
    "\n",
    "random_grid = {'n_estimators': n_estimators,\n",
    "               'max_features': max_features,\n",
    "               'max_depth': max_depth,\n",
    "               'min_samples_split': min_samples_split,\n",
    "               'min_samples_leaf': min_samples_leaf,\n",
    "               'bootstrap': bootstrap}"
   ],
   "metadata": {
    "collapsed": false
   }
  },
  {
   "cell_type": "code",
   "execution_count": 75,
   "outputs": [],
   "source": [
    "x_train, x_test, y_train, y_test = train_test_split(X, Y, test_size=0.2, random_state = 7)"
   ],
   "metadata": {
    "collapsed": false
   }
  },
  {
   "cell_type": "code",
   "execution_count": 76,
   "outputs": [
    {
     "name": "stdout",
     "output_type": "stream",
     "text": [
      "Fitting 3 folds for each of 500 candidates, totalling 1500 fits\n",
      "Time taken for search:  439.0128483772278\n"
     ]
    }
   ],
   "source": [
    "regr = RandomForestRegressor()\n",
    "\n",
    "rf_random = RandomizedSearchCV(estimator=regr,\n",
    "                               param_distributions=random_grid, n_iter=500,\n",
    "                               cv=3, verbose=2, n_jobs=-1)\n",
    "\n",
    "\n",
    "search_start = time()\n",
    "rf_random.fit(x_train, y_train)\n",
    "search_end = time()\n",
    "\n",
    "search_duration = search_end-search_start\n",
    "print ('Time taken for search: ', search_duration)\n"
   ],
   "metadata": {
    "collapsed": false
   }
  },
  {
   "cell_type": "code",
   "execution_count": 80,
   "outputs": [
    {
     "name": "stdout",
     "output_type": "stream",
     "text": [
      "Model Performance\n",
      "---------------------\n",
      "Average Error: 4.65 degrees.\n",
      "Pearson Coeff: 0.38\n"
     ]
    }
   ],
   "source": [
    "def evaluate(model, test_features, test_labels):\n",
    "    predictions = model.predict(test_features)\n",
    "    errors = mean_absolute_error(test_labels, predictions)\n",
    "    r2 = stats.pearsonr(predictions, test_labels)\n",
    "    print('Model Performance\\n---------------------')\n",
    "    print('Average Error: {:0.2f} degrees.'.format(np.mean(errors)))\n",
    "\n",
    "    return 'Pearson Coeff: {:0.2f}'.format(r2[0])\n",
    "\n",
    "\n",
    "\n",
    "best_random = rf_random.best_estimator_\n",
    "random_accuracy = evaluate(best_random, x_test, y_test)\n",
    "\n",
    "print (random_accuracy)\n"
   ],
   "metadata": {
    "collapsed": false
   }
  },
  {
   "cell_type": "code",
   "execution_count": 58,
   "outputs": [
    {
     "data": {
      "text/plain": "['../models/ab_rf_10122022_057.joblib']"
     },
     "execution_count": 58,
     "metadata": {},
     "output_type": "execute_result"
    }
   ],
   "source": [
    "joblib.dump(rf_random, \"../models/ab_rf_10122022_057.joblib\")"
   ],
   "metadata": {
    "collapsed": false
   }
  },
  {
   "cell_type": "code",
   "execution_count": 59,
   "outputs": [
    {
     "data": {
      "text/plain": "{'bootstrap': True,\n 'ccp_alpha': 0.0,\n 'criterion': 'squared_error',\n 'max_depth': 110,\n 'max_features': 'sqrt',\n 'max_leaf_nodes': None,\n 'max_samples': None,\n 'min_impurity_decrease': 0.0,\n 'min_samples_leaf': 4,\n 'min_samples_split': 2,\n 'min_weight_fraction_leaf': 0.0,\n 'n_estimators': 200,\n 'n_jobs': None,\n 'oob_score': False,\n 'random_state': None,\n 'verbose': 0,\n 'warm_start': False}"
     },
     "execution_count": 59,
     "metadata": {},
     "output_type": "execute_result"
    }
   ],
   "source": [
    "best_random.get_params()"
   ],
   "metadata": {
    "collapsed": false
   }
  },
  {
   "cell_type": "code",
   "execution_count": 61,
   "outputs": [
    {
     "data": {
      "text/plain": "              0           1           2           3           4          5  \\\n62   -93.283170  -31.257544    5.320843 -176.206200   16.669098   3.463486   \n45   -49.666286    2.588172  -50.916534   34.177864  170.800630  15.650633   \n40   -44.546677   29.012033 -123.412766  -89.599520  154.027040  -6.548980   \n88   -74.909850 -138.545520 -230.926420 -117.099070   63.163890  11.349752   \n128  -60.797110   40.293266    3.711317  -66.300026  108.855420  55.293514   \n66   -52.692825   -1.147656  -91.656550 -104.528946  186.946700  55.274113   \n32   -14.743470   12.224974  -36.037140 -104.661850   87.395630  24.617292   \n77   -19.210888  -78.966960 -171.125870 -124.615180   70.221580 -82.164950   \n136  -35.136612   13.942934 -232.626600 -166.056300  154.983540 -53.910423   \n107 -137.779430   75.843414  -23.672703  -43.357006  113.302110  11.862781   \n28    11.641930   -1.986683 -182.280720  -56.078014  152.713230 -40.934360   \n133  -17.853827   57.767240 -114.031620  -58.597160  101.592580  -0.365042   \n109  -53.353634  -62.579445 -218.910250 -114.259580   33.881622 -60.232323   \n97  -161.414720   -4.291540 -132.035460  -66.453476  115.280930 -63.398495   \n\n              6           7           8           9  ...         502  \\\n62   -16.062637  -76.490060    8.366891  -58.497757  ...   36.230720   \n45   -62.478462  -23.418510  -54.979675  -92.607280  ...  -51.291355   \n40    35.083590   32.683820   -6.721425  -33.329100  ... -187.312270   \n88    91.094910   -5.877485 -129.198640  -41.716770  ... -125.887180   \n128    1.247531  -30.511644   22.430088 -151.146510  ...  -35.183140   \n66  -102.970920  -38.613890  -43.137917  -54.882120  ...  -79.564644   \n32   -55.787354   -8.794777   54.567570  177.215960  ...  -96.315950   \n77   -25.305122  -90.758690  -38.014046  -66.912740  ...  -32.542328   \n136  130.330550  -82.391846  -33.397070    1.179163  ... -175.148030   \n107  -83.888720  -29.873650   11.085556  -72.408490  ...  -97.557400   \n28    -1.946573  -44.233883   -8.117760  -95.964810  ...    0.766991   \n133  -51.735752  -22.049887    9.075648 -100.469360  ... -100.018210   \n109  -41.929058 -106.192890   22.388931  -40.041702  ...    8.584266   \n97   141.637160  -41.285652  -23.101420  -86.305890  ... -105.796140   \n\n            503         504         505         506         507         508  \\\n62   143.643600   74.278690  -32.514412   18.338978   39.967434  161.394900   \n45   161.276460   -2.786239   24.615454  -52.988018   62.522434  111.837470   \n40   177.841250   11.062798   78.902310  -14.425922   41.344784   31.524773   \n88   292.187400  -46.245438  141.871660 -130.025830   -3.149591   47.233395   \n128   99.817260   47.089405   34.589250   27.819365  119.495865  118.512730   \n66   143.874370   35.382970  111.540140   62.009430   85.230934  -10.590404   \n32     6.616922 -169.879710   -7.150207   78.981050  -37.497230 -180.371060   \n77   122.257730  119.422485   88.746110   76.874770   39.700317  -84.063934   \n136  329.654800 -101.614790   68.854870 -124.231926  -68.369520  149.392580   \n107  138.126980   76.553110   69.268600  -38.474070   57.447037   16.236015   \n28   153.223400   40.651554   63.682587   36.575912   -1.426495   34.573395   \n133   75.430410   25.681961  -12.840498  164.334750  -33.143440  110.441250   \n109  196.746350   -5.232733  101.113235  -43.373220   72.152100   53.447533   \n97   179.769850   -2.353884   14.231051  -11.803846   19.978160    0.996256   \n\n            509         510         511  \n62    77.871500 -120.457470   35.330470  \n45   111.975820   -8.722493  135.804820  \n40   123.625490  -72.262250  117.567566  \n88   239.912930   -4.271308  156.534680  \n128  111.809814   -9.486401   94.061310  \n66   105.346214   69.514660   42.230820  \n32    31.409012   59.856410   55.159523  \n77    -3.139558  -82.598260  131.511920  \n136  306.584300  -72.695656  173.540160  \n107   36.140385  -11.467193   30.456678  \n28    32.042866  -28.673054   56.278652  \n133   44.666428  -25.417711  104.843170  \n109  116.158250 -130.060440   55.095993  \n97   215.872240   30.515003   16.224743  \n\n[14 rows x 512 columns]",
      "text/html": "<div>\n<style scoped>\n    .dataframe tbody tr th:only-of-type {\n        vertical-align: middle;\n    }\n\n    .dataframe tbody tr th {\n        vertical-align: top;\n    }\n\n    .dataframe thead th {\n        text-align: right;\n    }\n</style>\n<table border=\"1\" class=\"dataframe\">\n  <thead>\n    <tr style=\"text-align: right;\">\n      <th></th>\n      <th>0</th>\n      <th>1</th>\n      <th>2</th>\n      <th>3</th>\n      <th>4</th>\n      <th>5</th>\n      <th>6</th>\n      <th>7</th>\n      <th>8</th>\n      <th>9</th>\n      <th>...</th>\n      <th>502</th>\n      <th>503</th>\n      <th>504</th>\n      <th>505</th>\n      <th>506</th>\n      <th>507</th>\n      <th>508</th>\n      <th>509</th>\n      <th>510</th>\n      <th>511</th>\n    </tr>\n  </thead>\n  <tbody>\n    <tr>\n      <th>62</th>\n      <td>-93.283170</td>\n      <td>-31.257544</td>\n      <td>5.320843</td>\n      <td>-176.206200</td>\n      <td>16.669098</td>\n      <td>3.463486</td>\n      <td>-16.062637</td>\n      <td>-76.490060</td>\n      <td>8.366891</td>\n      <td>-58.497757</td>\n      <td>...</td>\n      <td>36.230720</td>\n      <td>143.643600</td>\n      <td>74.278690</td>\n      <td>-32.514412</td>\n      <td>18.338978</td>\n      <td>39.967434</td>\n      <td>161.394900</td>\n      <td>77.871500</td>\n      <td>-120.457470</td>\n      <td>35.330470</td>\n    </tr>\n    <tr>\n      <th>45</th>\n      <td>-49.666286</td>\n      <td>2.588172</td>\n      <td>-50.916534</td>\n      <td>34.177864</td>\n      <td>170.800630</td>\n      <td>15.650633</td>\n      <td>-62.478462</td>\n      <td>-23.418510</td>\n      <td>-54.979675</td>\n      <td>-92.607280</td>\n      <td>...</td>\n      <td>-51.291355</td>\n      <td>161.276460</td>\n      <td>-2.786239</td>\n      <td>24.615454</td>\n      <td>-52.988018</td>\n      <td>62.522434</td>\n      <td>111.837470</td>\n      <td>111.975820</td>\n      <td>-8.722493</td>\n      <td>135.804820</td>\n    </tr>\n    <tr>\n      <th>40</th>\n      <td>-44.546677</td>\n      <td>29.012033</td>\n      <td>-123.412766</td>\n      <td>-89.599520</td>\n      <td>154.027040</td>\n      <td>-6.548980</td>\n      <td>35.083590</td>\n      <td>32.683820</td>\n      <td>-6.721425</td>\n      <td>-33.329100</td>\n      <td>...</td>\n      <td>-187.312270</td>\n      <td>177.841250</td>\n      <td>11.062798</td>\n      <td>78.902310</td>\n      <td>-14.425922</td>\n      <td>41.344784</td>\n      <td>31.524773</td>\n      <td>123.625490</td>\n      <td>-72.262250</td>\n      <td>117.567566</td>\n    </tr>\n    <tr>\n      <th>88</th>\n      <td>-74.909850</td>\n      <td>-138.545520</td>\n      <td>-230.926420</td>\n      <td>-117.099070</td>\n      <td>63.163890</td>\n      <td>11.349752</td>\n      <td>91.094910</td>\n      <td>-5.877485</td>\n      <td>-129.198640</td>\n      <td>-41.716770</td>\n      <td>...</td>\n      <td>-125.887180</td>\n      <td>292.187400</td>\n      <td>-46.245438</td>\n      <td>141.871660</td>\n      <td>-130.025830</td>\n      <td>-3.149591</td>\n      <td>47.233395</td>\n      <td>239.912930</td>\n      <td>-4.271308</td>\n      <td>156.534680</td>\n    </tr>\n    <tr>\n      <th>128</th>\n      <td>-60.797110</td>\n      <td>40.293266</td>\n      <td>3.711317</td>\n      <td>-66.300026</td>\n      <td>108.855420</td>\n      <td>55.293514</td>\n      <td>1.247531</td>\n      <td>-30.511644</td>\n      <td>22.430088</td>\n      <td>-151.146510</td>\n      <td>...</td>\n      <td>-35.183140</td>\n      <td>99.817260</td>\n      <td>47.089405</td>\n      <td>34.589250</td>\n      <td>27.819365</td>\n      <td>119.495865</td>\n      <td>118.512730</td>\n      <td>111.809814</td>\n      <td>-9.486401</td>\n      <td>94.061310</td>\n    </tr>\n    <tr>\n      <th>66</th>\n      <td>-52.692825</td>\n      <td>-1.147656</td>\n      <td>-91.656550</td>\n      <td>-104.528946</td>\n      <td>186.946700</td>\n      <td>55.274113</td>\n      <td>-102.970920</td>\n      <td>-38.613890</td>\n      <td>-43.137917</td>\n      <td>-54.882120</td>\n      <td>...</td>\n      <td>-79.564644</td>\n      <td>143.874370</td>\n      <td>35.382970</td>\n      <td>111.540140</td>\n      <td>62.009430</td>\n      <td>85.230934</td>\n      <td>-10.590404</td>\n      <td>105.346214</td>\n      <td>69.514660</td>\n      <td>42.230820</td>\n    </tr>\n    <tr>\n      <th>32</th>\n      <td>-14.743470</td>\n      <td>12.224974</td>\n      <td>-36.037140</td>\n      <td>-104.661850</td>\n      <td>87.395630</td>\n      <td>24.617292</td>\n      <td>-55.787354</td>\n      <td>-8.794777</td>\n      <td>54.567570</td>\n      <td>177.215960</td>\n      <td>...</td>\n      <td>-96.315950</td>\n      <td>6.616922</td>\n      <td>-169.879710</td>\n      <td>-7.150207</td>\n      <td>78.981050</td>\n      <td>-37.497230</td>\n      <td>-180.371060</td>\n      <td>31.409012</td>\n      <td>59.856410</td>\n      <td>55.159523</td>\n    </tr>\n    <tr>\n      <th>77</th>\n      <td>-19.210888</td>\n      <td>-78.966960</td>\n      <td>-171.125870</td>\n      <td>-124.615180</td>\n      <td>70.221580</td>\n      <td>-82.164950</td>\n      <td>-25.305122</td>\n      <td>-90.758690</td>\n      <td>-38.014046</td>\n      <td>-66.912740</td>\n      <td>...</td>\n      <td>-32.542328</td>\n      <td>122.257730</td>\n      <td>119.422485</td>\n      <td>88.746110</td>\n      <td>76.874770</td>\n      <td>39.700317</td>\n      <td>-84.063934</td>\n      <td>-3.139558</td>\n      <td>-82.598260</td>\n      <td>131.511920</td>\n    </tr>\n    <tr>\n      <th>136</th>\n      <td>-35.136612</td>\n      <td>13.942934</td>\n      <td>-232.626600</td>\n      <td>-166.056300</td>\n      <td>154.983540</td>\n      <td>-53.910423</td>\n      <td>130.330550</td>\n      <td>-82.391846</td>\n      <td>-33.397070</td>\n      <td>1.179163</td>\n      <td>...</td>\n      <td>-175.148030</td>\n      <td>329.654800</td>\n      <td>-101.614790</td>\n      <td>68.854870</td>\n      <td>-124.231926</td>\n      <td>-68.369520</td>\n      <td>149.392580</td>\n      <td>306.584300</td>\n      <td>-72.695656</td>\n      <td>173.540160</td>\n    </tr>\n    <tr>\n      <th>107</th>\n      <td>-137.779430</td>\n      <td>75.843414</td>\n      <td>-23.672703</td>\n      <td>-43.357006</td>\n      <td>113.302110</td>\n      <td>11.862781</td>\n      <td>-83.888720</td>\n      <td>-29.873650</td>\n      <td>11.085556</td>\n      <td>-72.408490</td>\n      <td>...</td>\n      <td>-97.557400</td>\n      <td>138.126980</td>\n      <td>76.553110</td>\n      <td>69.268600</td>\n      <td>-38.474070</td>\n      <td>57.447037</td>\n      <td>16.236015</td>\n      <td>36.140385</td>\n      <td>-11.467193</td>\n      <td>30.456678</td>\n    </tr>\n    <tr>\n      <th>28</th>\n      <td>11.641930</td>\n      <td>-1.986683</td>\n      <td>-182.280720</td>\n      <td>-56.078014</td>\n      <td>152.713230</td>\n      <td>-40.934360</td>\n      <td>-1.946573</td>\n      <td>-44.233883</td>\n      <td>-8.117760</td>\n      <td>-95.964810</td>\n      <td>...</td>\n      <td>0.766991</td>\n      <td>153.223400</td>\n      <td>40.651554</td>\n      <td>63.682587</td>\n      <td>36.575912</td>\n      <td>-1.426495</td>\n      <td>34.573395</td>\n      <td>32.042866</td>\n      <td>-28.673054</td>\n      <td>56.278652</td>\n    </tr>\n    <tr>\n      <th>133</th>\n      <td>-17.853827</td>\n      <td>57.767240</td>\n      <td>-114.031620</td>\n      <td>-58.597160</td>\n      <td>101.592580</td>\n      <td>-0.365042</td>\n      <td>-51.735752</td>\n      <td>-22.049887</td>\n      <td>9.075648</td>\n      <td>-100.469360</td>\n      <td>...</td>\n      <td>-100.018210</td>\n      <td>75.430410</td>\n      <td>25.681961</td>\n      <td>-12.840498</td>\n      <td>164.334750</td>\n      <td>-33.143440</td>\n      <td>110.441250</td>\n      <td>44.666428</td>\n      <td>-25.417711</td>\n      <td>104.843170</td>\n    </tr>\n    <tr>\n      <th>109</th>\n      <td>-53.353634</td>\n      <td>-62.579445</td>\n      <td>-218.910250</td>\n      <td>-114.259580</td>\n      <td>33.881622</td>\n      <td>-60.232323</td>\n      <td>-41.929058</td>\n      <td>-106.192890</td>\n      <td>22.388931</td>\n      <td>-40.041702</td>\n      <td>...</td>\n      <td>8.584266</td>\n      <td>196.746350</td>\n      <td>-5.232733</td>\n      <td>101.113235</td>\n      <td>-43.373220</td>\n      <td>72.152100</td>\n      <td>53.447533</td>\n      <td>116.158250</td>\n      <td>-130.060440</td>\n      <td>55.095993</td>\n    </tr>\n    <tr>\n      <th>97</th>\n      <td>-161.414720</td>\n      <td>-4.291540</td>\n      <td>-132.035460</td>\n      <td>-66.453476</td>\n      <td>115.280930</td>\n      <td>-63.398495</td>\n      <td>141.637160</td>\n      <td>-41.285652</td>\n      <td>-23.101420</td>\n      <td>-86.305890</td>\n      <td>...</td>\n      <td>-105.796140</td>\n      <td>179.769850</td>\n      <td>-2.353884</td>\n      <td>14.231051</td>\n      <td>-11.803846</td>\n      <td>19.978160</td>\n      <td>0.996256</td>\n      <td>215.872240</td>\n      <td>30.515003</td>\n      <td>16.224743</td>\n    </tr>\n  </tbody>\n</table>\n<p>14 rows × 512 columns</p>\n</div>"
     },
     "execution_count": 61,
     "metadata": {},
     "output_type": "execute_result"
    }
   ],
   "source": [
    "x_test"
   ],
   "metadata": {
    "collapsed": false
   }
  },
  {
   "cell_type": "code",
   "execution_count": 78,
   "outputs": [
    {
     "name": "stdout",
     "output_type": "stream",
     "text": [
      "[70.65666667]\n",
      "69.5\n"
     ]
    }
   ],
   "source": [
    "print(best_random.predict(x_test.loc[[62]]))\n",
    "print(y_test[0])"
   ],
   "metadata": {
    "collapsed": false
   }
  },
  {
   "cell_type": "code",
   "execution_count": 68,
   "outputs": [
    {
     "data": {
      "text/plain": "           0          1         2         3          4         5          6  \\\n62 -93.28317 -31.257544  5.320843 -176.2062  16.669098  3.463486 -16.062637   \n\n           7         8          9  ...       502       503       504  \\\n62 -76.49006  8.366891 -58.497757  ...  36.23072  143.6436  74.27869   \n\n          505        506        507       508      509        510       511  \n62 -32.514412  18.338978  39.967434  161.3949  77.8715 -120.45747  35.33047  \n\n[1 rows x 512 columns]",
      "text/html": "<div>\n<style scoped>\n    .dataframe tbody tr th:only-of-type {\n        vertical-align: middle;\n    }\n\n    .dataframe tbody tr th {\n        vertical-align: top;\n    }\n\n    .dataframe thead th {\n        text-align: right;\n    }\n</style>\n<table border=\"1\" class=\"dataframe\">\n  <thead>\n    <tr style=\"text-align: right;\">\n      <th></th>\n      <th>0</th>\n      <th>1</th>\n      <th>2</th>\n      <th>3</th>\n      <th>4</th>\n      <th>5</th>\n      <th>6</th>\n      <th>7</th>\n      <th>8</th>\n      <th>9</th>\n      <th>...</th>\n      <th>502</th>\n      <th>503</th>\n      <th>504</th>\n      <th>505</th>\n      <th>506</th>\n      <th>507</th>\n      <th>508</th>\n      <th>509</th>\n      <th>510</th>\n      <th>511</th>\n    </tr>\n  </thead>\n  <tbody>\n    <tr>\n      <th>62</th>\n      <td>-93.28317</td>\n      <td>-31.257544</td>\n      <td>5.320843</td>\n      <td>-176.2062</td>\n      <td>16.669098</td>\n      <td>3.463486</td>\n      <td>-16.062637</td>\n      <td>-76.49006</td>\n      <td>8.366891</td>\n      <td>-58.497757</td>\n      <td>...</td>\n      <td>36.23072</td>\n      <td>143.6436</td>\n      <td>74.27869</td>\n      <td>-32.514412</td>\n      <td>18.338978</td>\n      <td>39.967434</td>\n      <td>161.3949</td>\n      <td>77.8715</td>\n      <td>-120.45747</td>\n      <td>35.33047</td>\n    </tr>\n  </tbody>\n</table>\n<p>1 rows × 512 columns</p>\n</div>"
     },
     "execution_count": 68,
     "metadata": {},
     "output_type": "execute_result"
    }
   ],
   "source": [],
   "metadata": {
    "collapsed": false
   }
  },
  {
   "cell_type": "code",
   "execution_count": 79,
   "outputs": [
    {
     "data": {
      "text/plain": "<Figure size 1000x1000 with 1 Axes>",
      "image/png": "[encoded data removed]"
     },
     "metadata": {},
     "output_type": "display_data"
    }
   ],
   "source": [
    "plt.figure(figsize=(10,10))\n",
    "plt.scatter(y_test, best_random.predict(x_test), c='crimson')\n",
    "\n",
    "p1 = max(max(best_random.predict(x_test)), max(y_test))\n",
    "p2 = min(min(best_random.predict(x_test)), min(y_test))\n",
    "plt.plot([p1, p2], [p1, p2], 'b-')\n",
    "plt.xlabel('True Values', fontsize=15)\n",
    "plt.ylabel('Predictions', fontsize=15)\n",
    "plt.axis('equal')\n",
    "plt.show()\n"
   ],
   "metadata": {
    "collapsed": false
   }
  },
  {
   "cell_type": "code",
   "execution_count": null,
   "outputs": [],
   "source": [],
   "metadata": {
    "collapsed": false
   }
  }
 ],
 "metadata": {
  "kernelspec": {
   "display_name": "Python 3",
   "language": "python",
   "name": "python3"
  },
  "language_info": {
   "codemirror_mode": {
    "name": "ipython",
    "version": 2
   },
   "file_extension": ".py",
   "mimetype": "text/x-python",
   "name": "python",
   "nbconvert_exporter": "python",
   "pygments_lexer": "ipython2",
   "version": "2.7.6"
  }
 },
 "nbformat": 4,
 "nbformat_minor": 0
}
