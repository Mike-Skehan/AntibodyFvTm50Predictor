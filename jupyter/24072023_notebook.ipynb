{
 "cells": [
  {
   "cell_type": "code",
   "execution_count": 12,
   "metadata": {
    "collapsed": true
   },
   "outputs": [],
   "source": [
    "import numpy as np\n",
    "import pandas as pd\n",
    "from scipy.stats import stats\n",
    "from sklearn.ensemble import RandomForestClassifier\n",
    "from sklearn.metrics import mean_absolute_error, r2_score\n",
    "from sklearn.metrics import classification_report, confusion_matrix, matthews_corrcoef\n",
    "from sklearn.ensemble import GradientBoostingClassifier\n",
    "from sklearn.model_selection import train_test_split, RandomizedSearchCV\n",
    "import sys\n",
    "sys.path.append(\"..\")"
   ]
  },
  {
   "cell_type": "code",
   "execution_count": 2,
   "outputs": [],
   "source": [
    "def data_extract_class(data_file):\n",
    "    \"\"\"\n",
    "    :param data_file:   csv file containing light sequences, heavy sequences and their tm50 values.\n",
    "    :return:            lists of light sequences, heavy sequences and tm50 values.\n",
    "    \"\"\"\n",
    "\n",
    "    df = pd.read_csv(data_file)\n",
    "    df.rename(columns={'VL': 'Light'}, inplace=True)\n",
    "    df.rename(columns={'VH': 'Heavy'}, inplace=True)\n",
    "    df.rename(columns={\"Fab Tm by DSF (°C)\": 'Temp'}, inplace=True)\n",
    "\n",
    "    light_seq = df['Light'].values.tolist()\n",
    "    heavy_seq = df['Heavy'].values.tolist()\n",
    "    temp = df['Temp'].values.tolist()\n",
    "    bin = df['bin'].values.tolist()\n",
    "\n",
    "\n",
    "    return light_seq, heavy_seq, temp, bin"
   ],
   "metadata": {
    "collapsed": false
   }
  },
  {
   "cell_type": "code",
   "execution_count": 3,
   "outputs": [],
   "source": [
    "bert_data_512 = \"../data/combined_bert_df.csv\"\n",
    "bert_data_60 = \"../data/combined_datasets_60.csv\"\n",
    "df = pd.read_csv(bert_data_60)\n",
    "\n",
    "light, heavy, temp, bin = data_extract_class('../data/combined_datasets_class.csv')\n",
    "\n",
    "X = df\n",
    "y = bin"
   ],
   "metadata": {
    "collapsed": false
   }
  },
  {
   "cell_type": "code",
   "execution_count": 8,
   "outputs": [],
   "source": [
    "n_estimators = [int(x) for x in np.linspace(start=20, stop=200, num=20)]\n",
    "max_features = [1.0, 'sqrt']\n",
    "max_depth = [int(x) for x in np.linspace(10, 110, num=11)]\n",
    "max_depth.append(None)\n",
    "min_samples_split = [2, 5, 10]\n",
    "min_samples_leaf = [1, 2, 4]\n",
    "bootstrap = [True, False]\n",
    "\n",
    "params = {'n_estimators': n_estimators,\n",
    "          'max_features': max_features,\n",
    "          'max_depth': max_depth,\n",
    "          'min_samples_split': min_samples_split,\n",
    "          'min_samples_leaf': min_samples_leaf,\n",
    "          'bootstrap': bootstrap}\n",
    "\n",
    "\n",
    "def rf_class(X, y, params, iters, cv_num):\n",
    "    \"\"\"\n",
    "    Random Forest Classifier\n",
    "    :param X: features\n",
    "    :param y: labels\n",
    "    :param params: hyperparameters\n",
    "    :param iters: number of iterations\n",
    "    :param cv_num: number of cross validations\n",
    "    :return: model\n",
    "    \"\"\"\n",
    "\n",
    "    # train test split\n",
    "    X_train, X_test, y_train, y_test = train_test_split(X, y, test_size=0.1, random_state = 28)\n",
    "\n",
    "    # random forest classifier\n",
    "    model = RandomForestClassifier()\n",
    "\n",
    "\n",
    "    # randomized search\n",
    "    rf_random = RandomizedSearchCV(estimator=model, param_distributions=params, n_iter=iters, cv=cv_num, verbose=2, n_jobs=-1)\n",
    "    rf_random.fit(X_train, y_train)\n",
    "\n",
    "    best = rf_random.best_estimator_\n",
    "\n",
    "    best.fit(X_train, y_train)\n",
    "    y_pred = best.predict(X_test)\n",
    "\n",
    "    target_names = ['<70', '70 - 75', '>75']\n",
    "    print(classification_report(y_test, y_pred, target_names=target_names))\n",
    "\n",
    "    # print MCC\n",
    "    print(\"MCC: \",(matthews_corrcoef(y_test, y_pred)))\n",
    "\n",
    "    # return best estimator\n",
    "    return rf_random.best_estimator_"
   ],
   "metadata": {
    "collapsed": false
   }
  },
  {
   "cell_type": "code",
   "execution_count": 9,
   "outputs": [
    {
     "name": "stdout",
     "output_type": "stream",
     "text": [
      "Fitting 5 folds for each of 1000 candidates, totalling 5000 fits\n",
      "              precision    recall  f1-score   support\n",
      "\n",
      "         <70       0.75      0.82      0.78        11\n",
      "     70 - 75       0.50      0.50      0.50         4\n",
      "         >75       1.00      0.67      0.80         3\n",
      "\n",
      "    accuracy                           0.72        18\n",
      "   macro avg       0.75      0.66      0.69        18\n",
      "weighted avg       0.74      0.72      0.72        18\n",
      "\n",
      "MCC:  0.4740454631399772\n",
      "CPU times: total: 12.3 s\n",
      "Wall time: 4min 4s\n"
     ]
    }
   ],
   "source": [
    "%%time\n",
    "classifier = rf_class(X, y, params, 1000, 5)"
   ],
   "metadata": {
    "collapsed": false
   }
  },
  {
   "cell_type": "code",
   "execution_count": 10,
   "outputs": [
    {
     "name": "stdout",
     "output_type": "stream",
     "text": [
      "Fitting 5 folds for each of 100 candidates, totalling 500 fits\n",
      "              precision    recall  f1-score   support\n",
      "\n",
      "         <70       0.80      0.73      0.76        11\n",
      "     70 - 75       0.40      0.50      0.44         4\n",
      "         >75       1.00      1.00      1.00         3\n",
      "\n",
      "    accuracy                           0.72        18\n",
      "   macro avg       0.73      0.74      0.74        18\n",
      "weighted avg       0.74      0.72      0.73        18\n",
      "\n",
      "MCC:  0.516579067117774\n",
      "CPU times: total: 1.3 s\n",
      "Wall time: 25.3 s\n"
     ]
    }
   ],
   "source": [
    "%%time\n",
    "classifier = rf_class(X, y, params, 100, 5)"
   ],
   "metadata": {
    "collapsed": false
   }
  },
  {
   "cell_type": "code",
   "execution_count": 11,
   "outputs": [
    {
     "name": "stdout",
     "output_type": "stream",
     "text": [
      "Fitting 5 folds for each of 100 candidates, totalling 500 fits\n",
      "              precision    recall  f1-score   support\n",
      "\n",
      "         <70       0.77      0.91      0.83        11\n",
      "     70 - 75       0.67      0.50      0.57         4\n",
      "         >75       1.00      0.67      0.80         3\n",
      "\n",
      "    accuracy                           0.78        18\n",
      "   macro avg       0.81      0.69      0.73        18\n",
      "weighted avg       0.78      0.78      0.77        18\n",
      "\n",
      "MCC:  0.5723836489807422\n",
      "CPU times: total: 1.56 s\n",
      "Wall time: 27.5 s\n"
     ]
    }
   ],
   "source": [
    "%%time\n",
    "classifier = rf_class(X, y, params, 100, 5)"
   ],
   "metadata": {
    "collapsed": false
   }
  },
  {
   "cell_type": "code",
   "execution_count": 13,
   "outputs": [],
   "source": [
    "def gbt_class(X, y, params, iters, cv_num):\n",
    "    \"\"\"\n",
    "    Random Forest Classifier\n",
    "    :param X: features\n",
    "    :param y: labels\n",
    "    :param params: hyperparameters\n",
    "    :param iters: number of iterations\n",
    "    :param cv_num: number of cross validations\n",
    "    :return: model\n",
    "    \"\"\"\n",
    "\n",
    "    # train test split\n",
    "    X_train, X_test, y_train, y_test = train_test_split(X, y, test_size=0.1, random_state = 28)\n",
    "\n",
    "    # gradient boosted classifier\n",
    "    model = GradientBoostingClassifier()\n",
    "\n",
    "\n",
    "    # randomized search\n",
    "    gbt_random = RandomizedSearchCV(estimator=model, param_distributions=params, n_iter=iters, cv=cv_num, verbose=2, n_jobs=-1)\n",
    "    gbt_random.fit(X_train, y_train)\n",
    "\n",
    "    best = gbt_random.best_estimator_\n",
    "\n",
    "    best.fit(X_train, y_train)\n",
    "    y_pred = best.predict(X_test)\n",
    "\n",
    "    target_names = ['<70', '70 - 75', '>75']\n",
    "    print(classification_report(y_test, y_pred, target_names=target_names))\n",
    "\n",
    "    # print MCC\n",
    "    print(\"MCC: \",(matthews_corrcoef(y_test, y_pred)))\n",
    "\n",
    "    # return best estimator\n",
    "    return gbt_random.best_estimator_"
   ],
   "metadata": {
    "collapsed": false
   }
  },
  {
   "cell_type": "code",
   "execution_count": 14,
   "outputs": [
    {
     "name": "stdout",
     "output_type": "stream",
     "text": [
      "Fitting 5 folds for each of 100 candidates, totalling 500 fits\n",
      "              precision    recall  f1-score   support\n",
      "\n",
      "         <70       0.75      0.82      0.78        11\n",
      "     70 - 75       0.25      0.25      0.25         4\n",
      "         >75       0.50      0.33      0.40         3\n",
      "\n",
      "    accuracy                           0.61        18\n",
      "   macro avg       0.50      0.47      0.48        18\n",
      "weighted avg       0.60      0.61      0.60        18\n",
      "\n",
      "MCC:  0.26072500472698745\n",
      "CPU times: total: 1.34 s\n",
      "Wall time: 24.4 s\n"
     ]
    }
   ],
   "source": [
    "%%time\n",
    "classifier = rf_class(X, y, params, 100, 5)"
   ],
   "metadata": {
    "collapsed": false
   }
  },
  {
   "cell_type": "code",
   "execution_count": 15,
   "outputs": [
    {
     "name": "stdout",
     "output_type": "stream",
     "text": [
      "Fitting 5 folds for each of 1000 candidates, totalling 5000 fits\n",
      "              precision    recall  f1-score   support\n",
      "\n",
      "         <70       0.67      0.73      0.70        11\n",
      "     70 - 75       0.25      0.25      0.25         4\n",
      "         >75       1.00      0.67      0.80         3\n",
      "\n",
      "    accuracy                           0.61        18\n",
      "   macro avg       0.64      0.55      0.58        18\n",
      "weighted avg       0.63      0.61      0.61        18\n",
      "\n",
      "MCC:  0.26072500472698745\n",
      "CPU times: total: 12.8 s\n",
      "Wall time: 4min\n"
     ]
    }
   ],
   "source": [
    "%%time\n",
    "classifier = rf_class(X, y, params, 1000, 5)"
   ],
   "metadata": {
    "collapsed": false
   }
  },
  {
   "cell_type": "code",
   "execution_count": null,
   "outputs": [],
   "source": [],
   "metadata": {
    "collapsed": false
   }
  }
 ],
 "metadata": {
  "kernelspec": {
   "display_name": "Python 3",
   "language": "python",
   "name": "python3"
  },
  "language_info": {
   "codemirror_mode": {
    "name": "ipython",
    "version": 2
   },
   "file_extension": ".py",
   "mimetype": "text/x-python",
   "name": "python",
   "nbconvert_exporter": "python",
   "pygments_lexer": "ipython2",
   "version": "2.7.6"
  }
 },
 "nbformat": 4,
 "nbformat_minor": 0
}
