{
 "cells": [
  {
   "cell_type": "code",
   "execution_count": 1,
   "metadata": {
    "collapsed": true
   },
   "outputs": [],
   "source": [
    "import pandas as pd\n",
    "import sys\n",
    "sys.path.append(\"..\")\n",
    "from tools.feature_selection import feat_select\n",
    "from tools import data_parser as dp"
   ]
  },
  {
   "cell_type": "code",
   "execution_count": 2,
   "outputs": [],
   "source": [
    "bert_data = \"../data/combined_bert_df.csv\"\n",
    "df = pd.read_csv(bert_data)\n",
    "\n",
    "light, heavy, temp = dp.data_extract('../data/combined_datasets.csv')\n",
    "\n",
    "X = df\n",
    "Y = temp"
   ],
   "metadata": {
    "collapsed": false
   }
  },
  {
   "cell_type": "code",
   "execution_count": 3,
   "outputs": [],
   "source": [
    "reduced_data = feat_select(X,Y,100)"
   ],
   "metadata": {
    "collapsed": false
   }
  },
  {
   "cell_type": "code",
   "execution_count": 5,
   "outputs": [
    {
     "data": {
      "text/plain": "(177, 100)"
     },
     "execution_count": 5,
     "metadata": {},
     "output_type": "execute_result"
    }
   ],
   "source": [
    "reduced_data.shape"
   ],
   "metadata": {
    "collapsed": false
   }
  },
  {
   "cell_type": "code",
   "execution_count": 6,
   "outputs": [
    {
     "data": {
      "text/plain": "array([[ -66.82945   ,  -29.14194   ,   26.443787  , ...,  159.97913   ,\n          13.266889  ,  101.22186   ],\n       [  -2.1962323 ,   84.637405  ,   63.094994  , ...,   47.22009   ,\n          10.331673  ,   36.679665  ],\n       [ -74.65288   ,   31.603592  ,   23.305748  , ...,  -32.365753  ,\n          54.983738  ,   25.96179   ],\n       ...,\n       [-123.724945  ,  184.61896   ,  -18.981827  , ...,  -49.204285  ,\n           1.5628223 ,   -0.36485767],\n       [-113.38853   ,  -76.434875  ,  -66.99424   , ...,   78.62278   ,\n          55.832733  ,  -23.999693  ],\n       [-120.013565  ,  218.1726    ,  -42.72741   , ...,  -38.379494  ,\n          77.779526  ,    9.302487  ]])"
     },
     "execution_count": 6,
     "metadata": {},
     "output_type": "execute_result"
    }
   ],
   "source": [
    "reduced_data"
   ],
   "metadata": {
    "collapsed": false
   }
  },
  {
   "cell_type": "code",
   "execution_count": 48,
   "outputs": [],
   "source": [
    "from sklearn.model_selection import train_test_split\n",
    "from randomforest import random_forest_CV\n",
    "import joblib\n",
    "import numpy as np"
   ],
   "metadata": {
    "collapsed": false
   }
  },
  {
   "cell_type": "code",
   "execution_count": 31,
   "outputs": [],
   "source": [
    "x_train, x_test, y_train, y_test = train_test_split(reduced_data, Y, test_size=0.1, random_state = 7)"
   ],
   "metadata": {
    "collapsed": false
   }
  },
  {
   "cell_type": "code",
   "execution_count": 32,
   "outputs": [],
   "source": [
    "n_estimators = [int(x) for x in np.linspace(start = 200, stop = 2000, num = 10)]\n",
    "max_features = [1.0, 'sqrt']\n",
    "max_depth = [int(x) for x in np.linspace(10, 110, num = 11)]\n",
    "max_depth.append(None)\n",
    "min_samples_split = [2, 5, 10]\n",
    "min_samples_leaf = [1, 2, 4]\n",
    "bootstrap = [True, False]\n",
    "\n",
    "random_grid = {'n_estimators': n_estimators,\n",
    "               'max_features': max_features,\n",
    "               'max_depth': max_depth,\n",
    "               'min_samples_split': min_samples_split,\n",
    "               'min_samples_leaf': min_samples_leaf,\n",
    "               'bootstrap': bootstrap}"
   ],
   "metadata": {
    "collapsed": false
   }
  },
  {
   "cell_type": "code",
   "execution_count": 33,
   "outputs": [
    {
     "name": "stdout",
     "output_type": "stream",
     "text": [
      "Fitting 3 folds for each of 100 candidates, totalling 300 fits\n"
     ]
    }
   ],
   "source": [
    "model = random_forest_CV.grid_search(x_train,y_train,random_grid,100,3)"
   ],
   "metadata": {
    "collapsed": false
   }
  },
  {
   "cell_type": "code",
   "execution_count": 34,
   "outputs": [
    {
     "name": "stdout",
     "output_type": "stream",
     "text": [
      "Model Performance\n",
      "---------------------\n",
      "Average Error: 4.02 degrees.\n",
      "(4.018190684627044, 0.7137548492818366)\n"
     ]
    }
   ],
   "source": [
    "result = random_forest_CV.eval_model(model,x_test,y_test)\n",
    "print (result)"
   ],
   "metadata": {
    "collapsed": false
   }
  },
  {
   "cell_type": "code",
   "execution_count": 38,
   "outputs": [
    {
     "name": "stderr",
     "output_type": "stream",
     "text": [
      "C:\\Users\\toon_\\git\\AntibodyFvTm50Predictor\\jupyter\\..\\randomforest\\random_forest_CV.py:106: FutureWarning: The frame.append method is deprecated and will be removed from pandas in a future version. Use pandas.concat instead.\n",
      "  df = df.append(new_data)\n"
     ]
    },
    {
     "ename": "TypeError",
     "evalue": "Can only append a dict if ignore_index=True",
     "output_type": "error",
     "traceback": [
      "\u001B[1;31m---------------------------------------------------------------------------\u001B[0m",
      "\u001B[1;31mTypeError\u001B[0m                                 Traceback (most recent call last)",
      "Input \u001B[1;32mIn [38]\u001B[0m, in \u001B[0;36m<cell line: 1>\u001B[1;34m()\u001B[0m\n\u001B[1;32m----> 1\u001B[0m \u001B[43mrandom_forest_CV\u001B[49m\u001B[38;5;241;43m.\u001B[39;49m\u001B[43msave_result\u001B[49m\u001B[43m(\u001B[49m\u001B[43mmodel\u001B[49m\u001B[43m,\u001B[49m\u001B[38;5;124;43m'\u001B[39;49m\u001B[38;5;124;43m100D_combined_bert\u001B[39;49m\u001B[38;5;124;43m'\u001B[39;49m\u001B[43m,\u001B[49m\u001B[38;5;124;43m'\u001B[39;49m\u001B[38;5;124;43mRandom Forest Regression with GridSearchCV\u001B[39;49m\u001B[38;5;124;43m'\u001B[39;49m\u001B[43m,\u001B[49m\u001B[38;5;124;43m'\u001B[39;49m\u001B[38;5;124;43m../models/120323_RF.joblib\u001B[39;49m\u001B[38;5;124;43m'\u001B[39;49m\u001B[43m,\u001B[49m\u001B[38;5;241;43m0.71\u001B[39;49m\u001B[43m)\u001B[49m\n",
      "File \u001B[1;32m~\\git\\AntibodyFvTm50Predictor\\jupyter\\..\\randomforest\\random_forest_CV.py:106\u001B[0m, in \u001B[0;36msave_result\u001B[1;34m(model, dataset, model_name, model_loc, pearson_result)\u001B[0m\n\u001B[0;32m     98\u001B[0m joblib\u001B[38;5;241m.\u001B[39mdump(model, model_loc)\n\u001B[0;32m     99\u001B[0m new_data \u001B[38;5;241m=\u001B[39m {\n\u001B[0;32m    100\u001B[0m     \u001B[38;5;124m'\u001B[39m\u001B[38;5;124mDataset\u001B[39m\u001B[38;5;124m'\u001B[39m: [dataset],\n\u001B[0;32m    101\u001B[0m     \u001B[38;5;124m'\u001B[39m\u001B[38;5;124mModel\u001B[39m\u001B[38;5;124m'\u001B[39m: [model_name],\n\u001B[0;32m    102\u001B[0m     \u001B[38;5;124m'\u001B[39m\u001B[38;5;124mModel File\u001B[39m\u001B[38;5;124m'\u001B[39m: [model_loc],\n\u001B[0;32m    103\u001B[0m     \u001B[38;5;124m'\u001B[39m\u001B[38;5;124mPearson\u001B[39m\u001B[38;5;124m'\u001B[39m: [pearson_result]\n\u001B[0;32m    104\u001B[0m }\n\u001B[1;32m--> 106\u001B[0m df \u001B[38;5;241m=\u001B[39m \u001B[43mdf\u001B[49m\u001B[38;5;241;43m.\u001B[39;49m\u001B[43mappend\u001B[49m\u001B[43m(\u001B[49m\u001B[43mnew_data\u001B[49m\u001B[43m)\u001B[49m\n\u001B[0;32m    108\u001B[0m df\u001B[38;5;241m.\u001B[39mto_csv(\u001B[38;5;124m'\u001B[39m\u001B[38;5;124m./models/results.csv\u001B[39m\u001B[38;5;124m'\u001B[39m, index\u001B[38;5;241m=\u001B[39m\u001B[38;5;28;01mFalse\u001B[39;00m)\n",
      "File \u001B[1;32m~\\anaconda3\\envs\\antiBERTy_venv\\lib\\site-packages\\pandas\\core\\frame.py:9755\u001B[0m, in \u001B[0;36mDataFrame.append\u001B[1;34m(self, other, ignore_index, verify_integrity, sort)\u001B[0m\n\u001B[0;32m   9652\u001B[0m \u001B[38;5;124;03m\"\"\"\u001B[39;00m\n\u001B[0;32m   9653\u001B[0m \u001B[38;5;124;03mAppend rows of `other` to the end of caller, returning a new object.\u001B[39;00m\n\u001B[0;32m   9654\u001B[0m \n\u001B[1;32m   (...)\u001B[0m\n\u001B[0;32m   9745\u001B[0m \u001B[38;5;124;03m4  4\u001B[39;00m\n\u001B[0;32m   9746\u001B[0m \u001B[38;5;124;03m\"\"\"\u001B[39;00m\n\u001B[0;32m   9747\u001B[0m warnings\u001B[38;5;241m.\u001B[39mwarn(\n\u001B[0;32m   9748\u001B[0m     \u001B[38;5;124m\"\u001B[39m\u001B[38;5;124mThe frame.append method is deprecated \u001B[39m\u001B[38;5;124m\"\u001B[39m\n\u001B[0;32m   9749\u001B[0m     \u001B[38;5;124m\"\u001B[39m\u001B[38;5;124mand will be removed from pandas in a future version. \u001B[39m\u001B[38;5;124m\"\u001B[39m\n\u001B[1;32m   (...)\u001B[0m\n\u001B[0;32m   9752\u001B[0m     stacklevel\u001B[38;5;241m=\u001B[39mfind_stack_level(),\n\u001B[0;32m   9753\u001B[0m )\n\u001B[1;32m-> 9755\u001B[0m \u001B[38;5;28;01mreturn\u001B[39;00m \u001B[38;5;28;43mself\u001B[39;49m\u001B[38;5;241;43m.\u001B[39;49m\u001B[43m_append\u001B[49m\u001B[43m(\u001B[49m\u001B[43mother\u001B[49m\u001B[43m,\u001B[49m\u001B[43m \u001B[49m\u001B[43mignore_index\u001B[49m\u001B[43m,\u001B[49m\u001B[43m \u001B[49m\u001B[43mverify_integrity\u001B[49m\u001B[43m,\u001B[49m\u001B[43m \u001B[49m\u001B[43msort\u001B[49m\u001B[43m)\u001B[49m\n",
      "File \u001B[1;32m~\\anaconda3\\envs\\antiBERTy_venv\\lib\\site-packages\\pandas\\core\\frame.py:9767\u001B[0m, in \u001B[0;36mDataFrame._append\u001B[1;34m(self, other, ignore_index, verify_integrity, sort)\u001B[0m\n\u001B[0;32m   9765\u001B[0m \u001B[38;5;28;01mif\u001B[39;00m \u001B[38;5;28misinstance\u001B[39m(other, \u001B[38;5;28mdict\u001B[39m):\n\u001B[0;32m   9766\u001B[0m     \u001B[38;5;28;01mif\u001B[39;00m \u001B[38;5;129;01mnot\u001B[39;00m ignore_index:\n\u001B[1;32m-> 9767\u001B[0m         \u001B[38;5;28;01mraise\u001B[39;00m \u001B[38;5;167;01mTypeError\u001B[39;00m(\u001B[38;5;124m\"\u001B[39m\u001B[38;5;124mCan only append a dict if ignore_index=True\u001B[39m\u001B[38;5;124m\"\u001B[39m)\n\u001B[0;32m   9768\u001B[0m     other \u001B[38;5;241m=\u001B[39m Series(other)\n\u001B[0;32m   9769\u001B[0m \u001B[38;5;28;01mif\u001B[39;00m other\u001B[38;5;241m.\u001B[39mname \u001B[38;5;129;01mis\u001B[39;00m \u001B[38;5;28;01mNone\u001B[39;00m \u001B[38;5;129;01mand\u001B[39;00m \u001B[38;5;129;01mnot\u001B[39;00m ignore_index:\n",
      "\u001B[1;31mTypeError\u001B[0m: Can only append a dict if ignore_index=True"
     ]
    }
   ],
   "source": [
    "random_forest_CV.save_result(model,'100D_combined_bert','Random Forest Regression with GridSearchCV','../models/120323_RF.joblib',0.71)"
   ],
   "metadata": {
    "collapsed": false
   }
  },
  {
   "cell_type": "code",
   "execution_count": 39,
   "outputs": [],
   "source": [
    "from data_visualisation import rf_vis"
   ],
   "metadata": {
    "collapsed": false
   }
  },
  {
   "cell_type": "code",
   "execution_count": 40,
   "outputs": [
    {
     "ename": "AttributeError",
     "evalue": "'function' object has no attribute 'savefig'",
     "output_type": "error",
     "traceback": [
      "\u001B[1;31m---------------------------------------------------------------------------\u001B[0m",
      "\u001B[1;31mAttributeError\u001B[0m                            Traceback (most recent call last)",
      "Input \u001B[1;32mIn [40]\u001B[0m, in \u001B[0;36m<cell line: 1>\u001B[1;34m()\u001B[0m\n\u001B[1;32m----> 1\u001B[0m \u001B[43mrf_vis\u001B[49m\u001B[38;5;241;43m.\u001B[39;49m\u001B[43mrf_plot\u001B[49m\u001B[43m(\u001B[49m\u001B[43mx_test\u001B[49m\u001B[43m,\u001B[49m\u001B[43my_test\u001B[49m\u001B[43m,\u001B[49m\u001B[43mmodel\u001B[49m\u001B[43m)\u001B[49m\n",
      "File \u001B[1;32m~\\git\\AntibodyFvTm50Predictor\\jupyter\\..\\data_visualisation\\rf_vis.py:21\u001B[0m, in \u001B[0;36mrf_plot\u001B[1;34m(x_test, y_test, model)\u001B[0m\n\u001B[0;32m     19\u001B[0m plt\u001B[38;5;241m.\u001B[39mylabel(\u001B[38;5;124m'\u001B[39m\u001B[38;5;124mPredictions\u001B[39m\u001B[38;5;124m'\u001B[39m, fontsize\u001B[38;5;241m=\u001B[39m\u001B[38;5;241m15\u001B[39m)\n\u001B[0;32m     20\u001B[0m plt\u001B[38;5;241m.\u001B[39maxis(\u001B[38;5;124m'\u001B[39m\u001B[38;5;124mequal\u001B[39m\u001B[38;5;124m'\u001B[39m)\n\u001B[1;32m---> 21\u001B[0m \u001B[43mplt\u001B[49m\u001B[38;5;241;43m.\u001B[39;49m\u001B[43mfigure\u001B[49m\u001B[38;5;241;43m.\u001B[39;49m\u001B[43msavefig\u001B[49m()\n",
      "\u001B[1;31mAttributeError\u001B[0m: 'function' object has no attribute 'savefig'"
     ]
    },
    {
     "data": {
      "text/plain": "<Figure size 720x720 with 1 Axes>",
      "image/png": "[encoded data removed]"
     },
     "metadata": {
      "needs_background": "light"
     },
     "output_type": "display_data"
    }
   ],
   "source": [
    "rf_vis.rf_plot(x_test,y_test,model)"
   ],
   "metadata": {
    "collapsed": false
   }
  },
  {
   "cell_type": "code",
   "execution_count": 49,
   "outputs": [
    {
     "name": "stdout",
     "output_type": "stream",
     "text": [
      "Model Performance\n",
      "---------------------\n",
      "Average Error: 4.02 degrees.\n"
     ]
    },
    {
     "data": {
      "text/plain": "'Model error  : 4.02 C\\nAverage error: 5.42 C\\nImprovement  : 25.85%'"
     },
     "execution_count": 49,
     "metadata": {},
     "output_type": "execute_result"
    }
   ],
   "source": [
    "random_forest_CV.compare_to_avg(model,x_test,y_test)"
   ],
   "metadata": {
    "collapsed": false
   }
  }
 ],
 "metadata": {
  "kernelspec": {
   "name": "antiberty_venv",
   "language": "python",
   "display_name": "antiBERTy_venv"
  },
  "language_info": {
   "codemirror_mode": {
    "name": "ipython",
    "version": 2
   },
   "file_extension": ".py",
   "mimetype": "text/x-python",
   "name": "python",
   "nbconvert_exporter": "python",
   "pygments_lexer": "ipython2",
   "version": "2.7.6"
  }
 },
 "nbformat": 4,
 "nbformat_minor": 0
}
