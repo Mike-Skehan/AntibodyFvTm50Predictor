{
 "cells": [
  {
   "cell_type": "code",
   "execution_count": 3,
   "metadata": {
    "collapsed": true
   },
   "outputs": [],
   "source": [
    "import numpy as np\n",
    "import pandas as pd\n",
    "from sklearn.model_selection import train_test_split, KFold, RandomizedSearchCV\n",
    "import seaborn as sns\n",
    "from scipy.stats import stats\n",
    "from sklearn import ensemble\n",
    "from sklearn.metrics import mean_absolute_error, mean_squared_error, r2_score\n",
    "from matplotlib import pyplot as plt\n",
    "import sys\n",
    "sys.path.append(\"..\")\n",
    "from tools import data_parser as dp"
   ]
  },
  {
   "cell_type": "code",
   "execution_count": 4,
   "outputs": [],
   "source": [
    "bert_data_60 = \"../data/combined_datasets_60.csv\"\n",
    "df = pd.read_csv(bert_data_60)\n",
    "\n",
    "light, heavy, temp = dp.data_extract('../data/combined_datasets.csv')\n",
    "\n",
    "X = df\n",
    "y = temp"
   ],
   "metadata": {
    "collapsed": false
   }
  },
  {
   "cell_type": "code",
   "execution_count": 5,
   "outputs": [],
   "source": [
    "def gradient_boosting_randomized_search(X, y):\n",
    "    \"\"\"Gradient Boosting for regression\n",
    "\n",
    "    Parameters\n",
    "    ----------\n",
    "    X : array-like of shape = [n_samples, n_features]\n",
    "        The training input samples.\n",
    "    y : array-like, shape = [n_samples]\n",
    "        The target values (real numbers in regression).\n",
    "\n",
    "    Returns\n",
    "    -------\n",
    "    reg : regression model.\n",
    "    \"\"\"\n",
    "    params = {\n",
    "        \"n_estimators\": [1000, 3000, 5000, 8000],\n",
    "        \"max_depth\": [2, 3, 4, 5, 6],\n",
    "        \"min_samples_split\": [2, 3, 4, 5, 6],\n",
    "        \"learning_rate\": [0.001, 0.01, 0.1, 1],\n",
    "    }\n",
    "    sns.set_style(style='white')\n",
    "\n",
    "    X_train, X_test, y_train, y_test = train_test_split(\n",
    "        X, y, test_size=0.1, random_state=13\n",
    "    )\n",
    "\n",
    "    reg = ensemble.GradientBoostingRegressor()\n",
    "\n",
    "    random_search = RandomizedSearchCV(reg, param_distributions=params, n_iter=100, cv=5, n_jobs=-1, verbose=1)\n",
    "\n",
    "    random_search.fit(X_train, y_train)\n",
    "\n",
    "    # evaluate on test data\n",
    "    mse = mean_squared_error(y_test, random_search.predict(X_test))\n",
    "    mae = mean_absolute_error(y_test, random_search.predict(X_test))\n",
    "    pearsonr = stats.pearsonr(y_test, random_search.predict(X_test))\n",
    "    r2 = r2_score(y_test, random_search.predict(X_test))\n",
    "\n",
    "    print(\"The mean squared error (MSE) on test set: {:.4f}\".format(mse))\n",
    "    print(\"The mean absolute error (MAE) on test set: {:.4f}\".format(mae))\n",
    "    print(\"The pearson coeffieicent on test set: {:.4f}\".format(pearsonr[0]))\n",
    "    print(\"The r2 on test set: {:.4f}\".format(r2))\n",
    "\n",
    "    return random_search.best_params_"
   ],
   "metadata": {
    "collapsed": false
   }
  },
  {
   "cell_type": "code",
   "execution_count": 6,
   "outputs": [
    {
     "name": "stdout",
     "output_type": "stream",
     "text": [
      "Fitting 5 folds for each of 100 candidates, totalling 500 fits\n",
      "The mean squared error (MSE) on test set: 13.8420\n",
      "The mean absolute error (MAE) on test set: 3.0467\n",
      "The pearson coeffieicent on test set: 0.7321\n",
      "The r2 on test set: 0.5035\n"
     ]
    },
    {
     "name": "stderr",
     "output_type": "stream",
     "text": [
      "C:\\Users\\toon_\\AppData\\Local\\Temp\\ipykernel_364\\2725790251.py:36: DeprecationWarning: Please use `pearsonr` from the `scipy.stats` namespace, the `scipy.stats.stats` namespace is deprecated.\n",
      "  pearsonr = stats.pearsonr(y_test, random_search.predict(X_test))\n"
     ]
    },
    {
     "data": {
      "text/plain": "{'n_estimators': 5000,\n 'min_samples_split': 6,\n 'max_depth': 3,\n 'learning_rate': 0.1}"
     },
     "execution_count": 6,
     "metadata": {},
     "output_type": "execute_result"
    }
   ],
   "source": [
    "gradient_boosting_randomized_search(X, y)"
   ],
   "metadata": {
    "collapsed": false
   }
  },
  {
   "cell_type": "code",
   "execution_count": 12,
   "outputs": [],
   "source": [
    "def gradient_boosting_randomized_search(X, y):\n",
    "    \"\"\"Gradient Boosting for regression\n",
    "\n",
    "    Parameters\n",
    "    ----------\n",
    "    X : array-like of shape = [n_samples, n_features]\n",
    "        The training input samples.\n",
    "    y : array-like, shape = [n_samples]\n",
    "        The target values (real numbers in regression).\n",
    "\n",
    "    Returns\n",
    "    -------\n",
    "    reg : regression model.\n",
    "    \"\"\"\n",
    "    params = {\n",
    "        \"n_estimators\": [4000, 5000, 6000],\n",
    "        \"max_depth\": [3, 4, 5],\n",
    "        \"min_samples_split\": [3, 5, 6],\n",
    "        \"learning_rate\": [0.01, 0.1],\n",
    "        \"loss\": ['squared_error']\n",
    "    }\n",
    "    sns.set_style(style='white')\n",
    "\n",
    "    X_train, X_test, y_train, y_test = train_test_split(\n",
    "        X, y, test_size=0.1, random_state=13\n",
    "    )\n",
    "\n",
    "    reg = ensemble.GradientBoostingRegressor()\n",
    "\n",
    "    random_search = RandomizedSearchCV(reg, param_distributions=params, n_iter=500, cv=10, n_jobs=-1, verbose=1)\n",
    "\n",
    "    random_search.fit(X_train, y_train)\n",
    "\n",
    "    # evaluate on test data\n",
    "    mse = mean_squared_error(y_test, random_search.predict(X_test))\n",
    "    mae = mean_absolute_error(y_test, random_search.predict(X_test))\n",
    "    pearsonr = stats.pearsonr(y_test, random_search.predict(X_test))\n",
    "    r2 = r2_score(y_test, random_search.predict(X_test))\n",
    "\n",
    "    print(\"The mean squared error (MSE) on test set: {:.4f}\".format(mse))\n",
    "    print(\"The mean absolute error (MAE) on test set: {:.4f}\".format(mae))\n",
    "    print(\"The pearson coeffieicent on test set: {:.4f}\".format(pearsonr[0]))\n",
    "    print(\"The r2 on test set: {:.4f}\".format(r2))\n",
    "\n",
    "    return random_search.best_params_"
   ],
   "metadata": {
    "collapsed": false
   }
  },
  {
   "cell_type": "code",
   "execution_count": 13,
   "outputs": [
    {
     "name": "stderr",
     "output_type": "stream",
     "text": [
      "C:\\Users\\toon_\\.virtualenvs\\AntibodyFvTm50Predictor\\lib\\site-packages\\sklearn\\model_selection\\_search.py:306: UserWarning: The total space of parameters 54 is smaller than n_iter=500. Running 54 iterations. For exhaustive searches, use GridSearchCV.\n",
      "  warnings.warn(\n"
     ]
    },
    {
     "name": "stdout",
     "output_type": "stream",
     "text": [
      "Fitting 10 folds for each of 54 candidates, totalling 540 fits\n",
      "The mean squared error (MSE) on test set: 11.5683\n",
      "The mean absolute error (MAE) on test set: 2.8995\n",
      "The pearson coeffieicent on test set: 0.7961\n",
      "The r2 on test set: 0.5850\n",
      "CPU times: total: 5.45 s\n",
      "Wall time: 12min 24s\n"
     ]
    },
    {
     "name": "stderr",
     "output_type": "stream",
     "text": [
      "C:\\Users\\toon_\\AppData\\Local\\Temp\\ipykernel_364\\2002267755.py:37: DeprecationWarning: Please use `pearsonr` from the `scipy.stats` namespace, the `scipy.stats.stats` namespace is deprecated.\n",
      "  pearsonr = stats.pearsonr(y_test, random_search.predict(X_test))\n"
     ]
    },
    {
     "data": {
      "text/plain": "{'n_estimators': 4000,\n 'min_samples_split': 6,\n 'max_depth': 3,\n 'loss': 'squared_error',\n 'learning_rate': 0.01}"
     },
     "execution_count": 13,
     "metadata": {},
     "output_type": "execute_result"
    }
   ],
   "source": [
    "%%time\n",
    "gradient_boosting_randomized_search(X, y)"
   ],
   "metadata": {
    "collapsed": false
   }
  },
  {
   "cell_type": "code",
   "execution_count": 17,
   "outputs": [],
   "source": [
    "def gradient_boosting_randomized_search(X, y):\n",
    "    \"\"\"Gradient Boosting for regression\n",
    "\n",
    "    Parameters\n",
    "    ----------\n",
    "    X : array-like of shape = [n_samples, n_features]\n",
    "        The training input samples.\n",
    "    y : array-like, shape = [n_samples]\n",
    "        The target values (real numbers in regression).\n",
    "\n",
    "    Returns\n",
    "    -------\n",
    "    reg : regression model.\n",
    "    \"\"\"\n",
    "    params = {\n",
    "        \"n_estimators\": [5000],\n",
    "        \"max_depth\": [4],\n",
    "        \"min_samples_split\": [5],\n",
    "        \"learning_rate\": [0.01],\n",
    "        \"loss\": [\"squared_error\"]\n",
    "    }\n",
    "    sns.set_style(style='white')\n",
    "\n",
    "    X_train, X_test, y_train, y_test = train_test_split(\n",
    "        X, y, test_size=0.1, random_state=13\n",
    "    )\n",
    "\n",
    "    reg = ensemble.GradientBoostingRegressor()\n",
    "\n",
    "    random_search = RandomizedSearchCV(reg, param_distributions=params, n_iter=500, cv=10, n_jobs=-1, verbose=1)\n",
    "\n",
    "    random_search.fit(X_train, y_train)\n",
    "\n",
    "    # evaluate on test data\n",
    "    mse = mean_squared_error(y_test, random_search.predict(X_test))\n",
    "    mae = mean_absolute_error(y_test, random_search.predict(X_test))\n",
    "    pearsonr = stats.pearsonr(y_test, random_search.predict(X_test))\n",
    "    r2 = r2_score(y_test, random_search.predict(X_test))\n",
    "\n",
    "    print(\"The mean squared error (MSE) on test set: {:.4f}\".format(mse))\n",
    "    print(\"The mean absolute error (MAE) on test set: {:.4f}\".format(mae))\n",
    "    print(\"The pearson coeffieicent on test set: {:.4f}\".format(pearsonr[0]))\n",
    "    print(\"The r2 on test set: {:.4f}\".format(r2))\n",
    "\n",
    "    return random_search.best_params_"
   ],
   "metadata": {
    "collapsed": false
   }
  },
  {
   "cell_type": "code",
   "execution_count": 18,
   "outputs": [
    {
     "name": "stderr",
     "output_type": "stream",
     "text": [
      "C:\\Users\\toon_\\.virtualenvs\\AntibodyFvTm50Predictor\\lib\\site-packages\\sklearn\\model_selection\\_search.py:306: UserWarning: The total space of parameters 1 is smaller than n_iter=500. Running 1 iterations. For exhaustive searches, use GridSearchCV.\n",
      "  warnings.warn(\n"
     ]
    },
    {
     "name": "stdout",
     "output_type": "stream",
     "text": [
      "Fitting 10 folds for each of 1 candidates, totalling 10 fits\n",
      "The mean squared error (MSE) on test set: 10.3574\n",
      "The mean absolute error (MAE) on test set: 2.6533\n",
      "The pearson coeffieicent on test set: 0.8354\n",
      "The r2 on test set: 0.6285\n"
     ]
    },
    {
     "name": "stderr",
     "output_type": "stream",
     "text": [
      "C:\\Users\\toon_\\AppData\\Local\\Temp\\ipykernel_364\\1371085802.py:37: DeprecationWarning: Please use `pearsonr` from the `scipy.stats` namespace, the `scipy.stats.stats` namespace is deprecated.\n",
      "  pearsonr = stats.pearsonr(y_test, random_search.predict(X_test))\n"
     ]
    },
    {
     "data": {
      "text/plain": "{'n_estimators': 5000,\n 'min_samples_split': 5,\n 'max_depth': 4,\n 'loss': 'squared_error',\n 'learning_rate': 0.01}"
     },
     "execution_count": 18,
     "metadata": {},
     "output_type": "execute_result"
    }
   ],
   "source": [
    "gradient_boosting_randomized_search(X, y)"
   ],
   "metadata": {
    "collapsed": false
   }
  },
  {
   "cell_type": "code",
   "execution_count": 21,
   "outputs": [],
   "source": [
    "import joblib\n",
    "\n",
    "gbt_class_model = joblib.load('../models/05062023_gb_60.joblib')\n",
    "rf_class_model = joblib.load('../models/05062023_rf_60.joblib')\n",
    "svm_class_model = joblib.load('../models/05062023_svm_60.joblib')"
   ],
   "metadata": {
    "collapsed": false
   }
  },
  {
   "cell_type": "code",
   "execution_count": 22,
   "outputs": [
    {
     "data": {
      "text/plain": "{'alpha': 0.9,\n 'ccp_alpha': 0.0,\n 'criterion': 'friedman_mse',\n 'init': None,\n 'learning_rate': 0.01,\n 'loss': 'squared_error',\n 'max_depth': 4,\n 'max_features': None,\n 'max_leaf_nodes': None,\n 'min_impurity_decrease': 0.0,\n 'min_samples_leaf': 1,\n 'min_samples_split': 5,\n 'min_weight_fraction_leaf': 0.0,\n 'n_estimators': 5000,\n 'n_iter_no_change': None,\n 'random_state': None,\n 'subsample': 1.0,\n 'tol': 0.0001,\n 'validation_fraction': 0.1,\n 'verbose': 0,\n 'warm_start': False}"
     },
     "execution_count": 22,
     "metadata": {},
     "output_type": "execute_result"
    }
   ],
   "source": [
    "gbt_class_model.get_params()"
   ],
   "metadata": {
    "collapsed": false
   }
  },
  {
   "cell_type": "code",
   "execution_count": 23,
   "outputs": [
    {
     "data": {
      "text/plain": "{'C': 1.0,\n 'cache_size': 200,\n 'coef0': 0.0,\n 'degree': 3,\n 'epsilon': 0.1,\n 'gamma': 'scale',\n 'kernel': 'rbf',\n 'max_iter': -1,\n 'shrinking': True,\n 'tol': 0.001,\n 'verbose': False}"
     },
     "execution_count": 23,
     "metadata": {},
     "output_type": "execute_result"
    }
   ],
   "source": [
    "svm_class_model.get_params()"
   ],
   "metadata": {
    "collapsed": false
   }
  },
  {
   "cell_type": "code",
   "execution_count": 24,
   "outputs": [
    {
     "data": {
      "text/plain": "{'bootstrap': True,\n 'ccp_alpha': 0.0,\n 'criterion': 'squared_error',\n 'max_depth': None,\n 'max_features': 1.0,\n 'max_leaf_nodes': None,\n 'max_samples': None,\n 'min_impurity_decrease': 0.0,\n 'min_samples_leaf': 1,\n 'min_samples_split': 2,\n 'min_weight_fraction_leaf': 0.0,\n 'n_estimators': 100,\n 'n_jobs': None,\n 'oob_score': False,\n 'random_state': None,\n 'verbose': 0,\n 'warm_start': False}"
     },
     "execution_count": 24,
     "metadata": {},
     "output_type": "execute_result"
    }
   ],
   "source": [
    "rf_class_model.get_params()"
   ],
   "metadata": {
    "collapsed": false
   }
  },
  {
   "cell_type": "code",
   "execution_count": null,
   "outputs": [],
   "source": [],
   "metadata": {
    "collapsed": false
   }
  }
 ],
 "metadata": {
  "kernelspec": {
   "display_name": "Python 3",
   "language": "python",
   "name": "python3"
  },
  "language_info": {
   "codemirror_mode": {
    "name": "ipython",
    "version": 2
   },
   "file_extension": ".py",
   "mimetype": "text/x-python",
   "name": "python",
   "nbconvert_exporter": "python",
   "pygments_lexer": "ipython2",
   "version": "2.7.6"
  }
 },
 "nbformat": 4,
 "nbformat_minor": 0
}
