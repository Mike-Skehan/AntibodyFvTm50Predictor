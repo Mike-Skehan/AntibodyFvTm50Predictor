{
 "cells": [
  {
   "cell_type": "code",
   "execution_count": 1,
   "metadata": {
    "collapsed": true
   },
   "outputs": [
    {
     "name": "stderr",
     "output_type": "stream",
     "text": [
      "C:\\Users\\toon_\\anaconda3\\envs\\antiBERTy_venv\\lib\\site-packages\\tqdm\\auto.py:22: TqdmWarning: IProgress not found. Please update jupyter and ipywidgets. See https://ipywidgets.readthedocs.io/en/stable/user_install.html\n",
      "  from .autonotebook import tqdm as notebook_tqdm\n",
      "C:\\Users\\toon_\\anaconda3\\envs\\antiBERTy_venv\\lib\\site-packages\\Bio\\pairwise2.py:278: BiopythonDeprecationWarning: Bio.pairwise2 has been deprecated, and we intend to remove it in a future release of Biopython. As an alternative, please consider using Bio.Align.PairwiseAligner as a replacement, and contact the Biopython developers if you still need the Bio.pairwise2 module.\n",
      "  warnings.warn(\n"
     ]
    },
    {
     "name": "stdout",
     "output_type": "stream",
     "text": [
      "Warning: PyRosetta not found, OpenMM will be used instead.\n",
      "No module named 'pyrosetta'\n",
      "\n",
      "    The code, data, and weights for this work are made available for non-commercial use \n",
      "    (including at commercial entities) under the terms of the JHU Academic Software License \n",
      "    Agreement. For commercial inquiries, please contact jruffolo[at]jhu.edu.\n",
      "    License: https://github.com/Graylab/IgFold/blob/main/LICENSE.md\n",
      "    \n",
      "Loading 4 IgFold models...\n",
      "Using device: cpu\n",
      "Loading C:\\Users\\toon_\\anaconda3\\envs\\antiBERTy_venv\\Lib\\site-packages\\igfold\\trained_models/IgFold\\igfold_1.ckpt...\n",
      "Loading C:\\Users\\toon_\\anaconda3\\envs\\antiBERTy_venv\\Lib\\site-packages\\igfold\\trained_models/IgFold\\igfold_2.ckpt...\n",
      "Loading C:\\Users\\toon_\\anaconda3\\envs\\antiBERTy_venv\\Lib\\site-packages\\igfold\\trained_models/IgFold\\igfold_3.ckpt...\n",
      "Loading C:\\Users\\toon_\\anaconda3\\envs\\antiBERTy_venv\\Lib\\site-packages\\igfold\\trained_models/IgFold\\igfold_5.ckpt...\n",
      "Successfully loaded 4 IgFold models.\n"
     ]
    }
   ],
   "source": [
    "import sys\n",
    "sys.path.append(\"..\")\n",
    "import AntiBERTy as ab\n",
    "from tools import data_parser as dp"
   ]
  },
  {
   "cell_type": "code",
   "execution_count": 2,
   "outputs": [],
   "source": [
    "import pandas as pd"
   ],
   "metadata": {
    "collapsed": false
   }
  },
  {
   "cell_type": "code",
   "execution_count": 3,
   "outputs": [],
   "source": [
    "abysis_file = '../data/abYsis_data.csv'"
   ],
   "metadata": {
    "collapsed": false
   }
  },
  {
   "cell_type": "code",
   "execution_count": 4,
   "outputs": [],
   "source": [
    "light, heavy, source, names = dp.data_extract_abY(abysis_file)"
   ],
   "metadata": {
    "collapsed": false
   }
  },
  {
   "cell_type": "code",
   "execution_count": 11,
   "outputs": [
    {
     "name": "stdout",
     "output_type": "stream",
     "text": [
      "Completed embedding in 2.51 seconds.\n"
     ]
    }
   ],
   "source": [
    "tensor = ab.seq2BERTy(heavy,light)\n",
    "encoded_seq = pd.DataFrame(tensor.detach().numpy())\n",
    "encoded_seq.to_csv('../data/abYsis_bert_df.csv', index=False)"
   ],
   "metadata": {
    "collapsed": false
   }
  },
  {
   "cell_type": "code",
   "execution_count": 9,
   "outputs": [],
   "source": [
    "embed_list = []\n",
    "encoded_list = []\n",
    "\n",
    "length = len(light)\n",
    "for i in range(0, length):\n",
    "    sequences = {\n",
    "        \"H\": heavy[i],\n",
    "        \"L\": light[i]\n",
    "    }\n",
    "\n",
    "    emb = igfold.embed(\n",
    "        sequences=sequences,\n",
    "    )\n",
    "    embed_list.append(emb)\n",
    "\n",
    "for emb_seq in embed_list:\n",
    "    berty = emb_seq.bert_embs\n",
    "    encoded = torch.sum(berty, dim=1)\n",
    "    encoded_list.append(encoded)"
   ],
   "metadata": {
    "collapsed": false
   }
  },
  {
   "cell_type": "code",
   "execution_count": 10,
   "outputs": [
    {
     "data": {
      "text/plain": "{'H': 'VDQVQQPGAELVRSGASVKMSCKASGYTFTSYNMHWVKQTPGQGLEWIGYIYPGNGGTIYNQKFKGKATLTADTSSSTANMQISSLTSEDSAVYFCARGDYRNDPFDFWGQGTTLTVSS',\n 'L': 'DVQIIQTTASLSASVGETVTITCRASEHIYSYLAWYQQKQGKSPQLLVYSAKTLAEGVPSRFSGSGSGTQFSLKINSLQPEDFGSYYCQHHYDTPRTFGGGTKLEIRRA'}"
     },
     "execution_count": 10,
     "metadata": {},
     "output_type": "execute_result"
    }
   ],
   "source": [
    "sequences"
   ],
   "metadata": {
    "collapsed": false
   }
  },
  {
   "cell_type": "code",
   "execution_count": null,
   "outputs": [],
   "source": [],
   "metadata": {
    "collapsed": false
   }
  }
 ],
 "metadata": {
  "kernelspec": {
   "name": "antiberty_venv",
   "language": "python",
   "display_name": "antiBERTy_venv"
  },
  "language_info": {
   "codemirror_mode": {
    "name": "ipython",
    "version": 2
   },
   "file_extension": ".py",
   "mimetype": "text/x-python",
   "name": "python",
   "nbconvert_exporter": "python",
   "pygments_lexer": "ipython2",
   "version": "2.7.6"
  }
 },
 "nbformat": 4,
 "nbformat_minor": 0
}
