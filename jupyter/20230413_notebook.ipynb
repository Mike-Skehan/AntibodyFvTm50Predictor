{
 "cells": [
  {
   "cell_type": "code",
   "execution_count": 1,
   "metadata": {
    "collapsed": true
   },
   "outputs": [],
   "source": [
    "import pandas as pd\n",
    "import sys\n",
    "sys.path.append(\"..\")\n",
    "from tools import data_parser as dp\n",
    "import RNN\n",
    "import numpy as np"
   ]
  },
  {
   "cell_type": "code",
   "execution_count": 2,
   "outputs": [],
   "source": [
    "\n",
    "\n",
    "bert_data_512 = \"../data/combined_bert_df.csv\"\n",
    "bert_data_72 = \"../data/combined_datasets_72.csv\"\n",
    "df = pd.read_csv(bert_data_72)\n",
    "\n",
    "light, heavy, temp = dp.data_extract('../data/combined_datasets.csv')\n",
    "\n",
    "X = df\n",
    "y = temp"
   ],
   "metadata": {
    "collapsed": false
   }
  },
  {
   "cell_type": "code",
   "execution_count": 3,
   "outputs": [
    {
     "data": {
      "text/plain": "(177, 72)"
     },
     "execution_count": 3,
     "metadata": {},
     "output_type": "execute_result"
    }
   ],
   "source": [
    "X.shape"
   ],
   "metadata": {
    "collapsed": false
   }
  },
  {
   "cell_type": "code",
   "execution_count": 4,
   "outputs": [
    {
     "name": "stdout",
     "output_type": "stream",
     "text": [
      "Epoch 1/100\n",
      "12/12 - 4s - loss: 70.6698 - val_loss: 70.2987 - 4s/epoch - 303ms/step\n",
      "Epoch 2/100\n",
      "12/12 - 0s - loss: 68.7258 - val_loss: 68.3412 - 141ms/epoch - 12ms/step\n",
      "Epoch 3/100\n",
      "12/12 - 0s - loss: 66.6285 - val_loss: 66.1077 - 125ms/epoch - 10ms/step\n",
      "Epoch 4/100\n",
      "12/12 - 0s - loss: 64.1813 - val_loss: 63.2245 - 126ms/epoch - 10ms/step\n",
      "Epoch 5/100\n",
      "12/12 - 0s - loss: 60.9893 - val_loss: 59.8324 - 130ms/epoch - 11ms/step\n",
      "Epoch 6/100\n",
      "12/12 - 0s - loss: 57.5855 - val_loss: 56.7742 - 125ms/epoch - 10ms/step\n",
      "Epoch 7/100\n",
      "12/12 - 0s - loss: 54.8365 - val_loss: 54.4177 - 110ms/epoch - 9ms/step\n",
      "Epoch 8/100\n",
      "12/12 - 0s - loss: 52.6510 - val_loss: 52.3294 - 112ms/epoch - 9ms/step\n",
      "Epoch 9/100\n",
      "12/12 - 0s - loss: 50.6181 - val_loss: 50.3485 - 125ms/epoch - 10ms/step\n",
      "Epoch 10/100\n",
      "12/12 - 0s - loss: 48.6997 - val_loss: 48.5215 - 126ms/epoch - 10ms/step\n",
      "Epoch 11/100\n",
      "12/12 - 0s - loss: 46.9837 - val_loss: 46.8823 - 113ms/epoch - 9ms/step\n",
      "Epoch 12/100\n",
      "12/12 - 0s - loss: 45.4062 - val_loss: 45.3351 - 141ms/epoch - 12ms/step\n",
      "Epoch 13/100\n",
      "12/12 - 0s - loss: 43.8851 - val_loss: 43.8363 - 110ms/epoch - 9ms/step\n",
      "Epoch 14/100\n",
      "12/12 - 0s - loss: 42.4051 - val_loss: 42.3730 - 133ms/epoch - 11ms/step\n",
      "Epoch 15/100\n",
      "12/12 - 0s - loss: 40.9549 - val_loss: 40.9362 - 125ms/epoch - 10ms/step\n",
      "Epoch 16/100\n",
      "12/12 - 0s - loss: 39.5287 - val_loss: 39.5207 - 126ms/epoch - 10ms/step\n",
      "Epoch 17/100\n",
      "12/12 - 0s - loss: 38.1222 - val_loss: 38.1228 - 129ms/epoch - 11ms/step\n",
      "Epoch 18/100\n",
      "12/12 - 0s - loss: 36.7322 - val_loss: 36.7404 - 125ms/epoch - 10ms/step\n",
      "Epoch 19/100\n",
      "12/12 - 0s - loss: 35.3562 - val_loss: 35.3712 - 141ms/epoch - 12ms/step\n",
      "Epoch 20/100\n",
      "12/12 - 0s - loss: 33.9923 - val_loss: 34.0130 - 164ms/epoch - 14ms/step\n",
      "Epoch 21/100\n",
      "12/12 - 0s - loss: 32.6389 - val_loss: 32.6645 - 157ms/epoch - 13ms/step\n",
      "Epoch 22/100\n",
      "12/12 - 0s - loss: 31.2947 - val_loss: 31.3242 - 125ms/epoch - 10ms/step\n",
      "Epoch 23/100\n",
      "12/12 - 0s - loss: 29.9587 - val_loss: 29.9920 - 151ms/epoch - 13ms/step\n",
      "Epoch 24/100\n",
      "12/12 - 0s - loss: 28.6299 - val_loss: 28.6669 - 154ms/epoch - 13ms/step\n",
      "Epoch 25/100\n",
      "12/12 - 0s - loss: 27.3078 - val_loss: 27.3480 - 142ms/epoch - 12ms/step\n",
      "Epoch 26/100\n",
      "12/12 - 0s - loss: 25.9915 - val_loss: 26.0347 - 131ms/epoch - 11ms/step\n",
      "Epoch 27/100\n",
      "12/12 - 0s - loss: 24.6806 - val_loss: 24.7265 - 133ms/epoch - 11ms/step\n",
      "Epoch 28/100\n",
      "12/12 - 0s - loss: 23.3747 - val_loss: 23.4230 - 129ms/epoch - 11ms/step\n",
      "Epoch 29/100\n",
      "12/12 - 0s - loss: 22.0731 - val_loss: 22.1237 - 126ms/epoch - 11ms/step\n",
      "Epoch 30/100\n",
      "12/12 - 0s - loss: 20.7758 - val_loss: 20.8284 - 124ms/epoch - 10ms/step\n",
      "Epoch 31/100\n",
      "12/12 - 0s - loss: 19.4821 - val_loss: 19.5365 - 158ms/epoch - 13ms/step\n",
      "Epoch 32/100\n",
      "12/12 - 0s - loss: 18.1920 - val_loss: 18.2482 - 139ms/epoch - 12ms/step\n",
      "Epoch 33/100\n",
      "12/12 - 0s - loss: 16.9052 - val_loss: 16.9630 - 133ms/epoch - 11ms/step\n",
      "Epoch 34/100\n",
      "12/12 - 0s - loss: 15.6529 - val_loss: 15.7075 - 152ms/epoch - 13ms/step\n",
      "Epoch 35/100\n",
      "12/12 - 0s - loss: 14.4550 - val_loss: 14.4578 - 133ms/epoch - 11ms/step\n",
      "Epoch 36/100\n",
      "12/12 - 0s - loss: 13.2577 - val_loss: 13.2217 - 127ms/epoch - 11ms/step\n",
      "Epoch 37/100\n",
      "12/12 - 0s - loss: 12.0946 - val_loss: 12.0477 - 129ms/epoch - 11ms/step\n",
      "Epoch 38/100\n",
      "12/12 - 0s - loss: 10.9759 - val_loss: 10.8681 - 131ms/epoch - 11ms/step\n",
      "Epoch 39/100\n",
      "12/12 - 0s - loss: 9.9244 - val_loss: 9.6930 - 118ms/epoch - 10ms/step\n",
      "Epoch 40/100\n",
      "12/12 - 0s - loss: 8.8817 - val_loss: 8.6597 - 117ms/epoch - 10ms/step\n",
      "Epoch 41/100\n",
      "12/12 - 0s - loss: 7.9728 - val_loss: 7.7174 - 135ms/epoch - 11ms/step\n",
      "Epoch 42/100\n",
      "12/12 - 0s - loss: 7.1850 - val_loss: 6.9588 - 126ms/epoch - 10ms/step\n",
      "Epoch 43/100\n",
      "12/12 - 0s - loss: 6.5629 - val_loss: 6.3380 - 129ms/epoch - 11ms/step\n",
      "Epoch 44/100\n",
      "12/12 - 0s - loss: 6.0962 - val_loss: 5.8762 - 126ms/epoch - 10ms/step\n",
      "Epoch 45/100\n",
      "12/12 - 0s - loss: 5.7577 - val_loss: 5.4854 - 110ms/epoch - 9ms/step\n",
      "Epoch 46/100\n",
      "12/12 - 0s - loss: 5.4787 - val_loss: 5.1536 - 125ms/epoch - 10ms/step\n",
      "Epoch 47/100\n",
      "12/12 - 0s - loss: 5.2311 - val_loss: 4.8937 - 125ms/epoch - 10ms/step\n",
      "Epoch 48/100\n",
      "12/12 - 0s - loss: 5.0834 - val_loss: 4.6636 - 126ms/epoch - 10ms/step\n",
      "Epoch 49/100\n",
      "12/12 - 0s - loss: 4.9839 - val_loss: 4.5153 - 125ms/epoch - 10ms/step\n",
      "Epoch 50/100\n",
      "12/12 - 0s - loss: 4.9304 - val_loss: 4.4482 - 141ms/epoch - 12ms/step\n",
      "Epoch 51/100\n",
      "12/12 - 0s - loss: 4.9046 - val_loss: 4.3364 - 131ms/epoch - 11ms/step\n",
      "Epoch 52/100\n",
      "12/12 - 0s - loss: 4.8696 - val_loss: 4.2552 - 141ms/epoch - 12ms/step\n",
      "Epoch 53/100\n",
      "12/12 - 0s - loss: 4.8556 - val_loss: 4.1936 - 110ms/epoch - 9ms/step\n",
      "Epoch 54/100\n",
      "12/12 - 0s - loss: 4.8437 - val_loss: 4.1722 - 110ms/epoch - 9ms/step\n",
      "Epoch 55/100\n",
      "12/12 - 0s - loss: 4.8384 - val_loss: 4.1332 - 126ms/epoch - 10ms/step\n",
      "Epoch 56/100\n",
      "12/12 - 0s - loss: 4.8371 - val_loss: 4.1409 - 125ms/epoch - 10ms/step\n",
      "Epoch 57/100\n",
      "12/12 - 0s - loss: 4.8452 - val_loss: 4.1080 - 110ms/epoch - 9ms/step\n",
      "Epoch 58/100\n",
      "12/12 - 0s - loss: 4.8322 - val_loss: 4.1288 - 109ms/epoch - 9ms/step\n",
      "Epoch 59/100\n",
      "12/12 - 0s - loss: 4.8365 - val_loss: 4.1270 - 122ms/epoch - 10ms/step\n",
      "Epoch 60/100\n",
      "12/12 - 0s - loss: 4.8394 - val_loss: 4.1507 - 125ms/epoch - 10ms/step\n",
      "Epoch 61/100\n",
      "12/12 - 0s - loss: 4.8361 - val_loss: 4.1417 - 125ms/epoch - 10ms/step\n",
      "Epoch 62/100\n",
      "12/12 - 0s - loss: 4.8440 - val_loss: 4.0922 - 127ms/epoch - 11ms/step\n",
      "Epoch 63/100\n",
      "12/12 - 0s - loss: 4.8338 - val_loss: 4.1038 - 130ms/epoch - 11ms/step\n",
      "Epoch 64/100\n",
      "12/12 - 0s - loss: 4.8341 - val_loss: 4.1091 - 122ms/epoch - 10ms/step\n",
      "Epoch 65/100\n",
      "12/12 - 0s - loss: 4.8334 - val_loss: 4.1183 - 126ms/epoch - 10ms/step\n",
      "Epoch 66/100\n",
      "12/12 - 0s - loss: 4.8336 - val_loss: 4.1168 - 120ms/epoch - 10ms/step\n",
      "Epoch 67/100\n",
      "12/12 - 0s - loss: 4.8348 - val_loss: 4.1081 - 126ms/epoch - 10ms/step\n",
      "Epoch 68/100\n",
      "12/12 - 0s - loss: 4.8343 - val_loss: 4.1112 - 125ms/epoch - 10ms/step\n",
      "Epoch 69/100\n",
      "12/12 - 0s - loss: 4.8315 - val_loss: 4.0755 - 110ms/epoch - 9ms/step\n",
      "Epoch 70/100\n",
      "12/12 - 0s - loss: 4.8309 - val_loss: 4.0604 - 110ms/epoch - 9ms/step\n",
      "Epoch 71/100\n",
      "12/12 - 0s - loss: 4.8328 - val_loss: 4.0797 - 132ms/epoch - 11ms/step\n",
      "Epoch 72/100\n",
      "12/12 - 0s - loss: 4.8317 - val_loss: 4.0728 - 116ms/epoch - 10ms/step\n",
      "Epoch 73/100\n",
      "12/12 - 0s - loss: 4.8348 - val_loss: 4.0325 - 129ms/epoch - 11ms/step\n",
      "Epoch 74/100\n",
      "12/12 - 0s - loss: 4.8287 - val_loss: 4.0392 - 125ms/epoch - 10ms/step\n",
      "Epoch 75/100\n",
      "12/12 - 0s - loss: 4.8314 - val_loss: 4.0411 - 107ms/epoch - 9ms/step\n",
      "Epoch 76/100\n",
      "12/12 - 0s - loss: 4.8295 - val_loss: 4.0703 - 113ms/epoch - 9ms/step\n",
      "Epoch 77/100\n",
      "12/12 - 0s - loss: 4.8334 - val_loss: 4.0652 - 126ms/epoch - 10ms/step\n",
      "Epoch 78/100\n",
      "12/12 - 0s - loss: 4.8312 - val_loss: 4.0427 - 125ms/epoch - 10ms/step\n",
      "Epoch 79/100\n",
      "12/12 - 0s - loss: 4.8365 - val_loss: 4.0094 - 128ms/epoch - 11ms/step\n",
      "Epoch 80/100\n",
      "12/12 - 0s - loss: 4.8333 - val_loss: 4.0130 - 129ms/epoch - 11ms/step\n",
      "Epoch 81/100\n",
      "12/12 - 0s - loss: 4.8324 - val_loss: 4.0593 - 132ms/epoch - 11ms/step\n",
      "Epoch 82/100\n",
      "12/12 - 0s - loss: 4.8340 - val_loss: 4.1094 - 148ms/epoch - 12ms/step\n",
      "Epoch 83/100\n",
      "12/12 - 0s - loss: 4.8295 - val_loss: 4.0975 - 129ms/epoch - 11ms/step\n",
      "Epoch 84/100\n",
      "12/12 - 0s - loss: 4.8357 - val_loss: 4.0511 - 135ms/epoch - 11ms/step\n",
      "Epoch 85/100\n",
      "12/12 - 0s - loss: 4.8306 - val_loss: 4.0456 - 124ms/epoch - 10ms/step\n",
      "Epoch 86/100\n",
      "12/12 - 0s - loss: 4.8340 - val_loss: 4.0767 - 145ms/epoch - 12ms/step\n",
      "Epoch 87/100\n",
      "12/12 - 0s - loss: 4.8314 - val_loss: 4.0614 - 163ms/epoch - 14ms/step\n",
      "Epoch 88/100\n",
      "12/12 - 0s - loss: 4.8311 - val_loss: 4.0714 - 152ms/epoch - 13ms/step\n",
      "Epoch 89/100\n",
      "12/12 - 0s - loss: 4.8297 - val_loss: 4.0609 - 144ms/epoch - 12ms/step\n",
      "Epoch 90/100\n",
      "12/12 - 0s - loss: 4.8286 - val_loss: 4.0797 - 145ms/epoch - 12ms/step\n",
      "Epoch 91/100\n",
      "12/12 - 0s - loss: 4.8300 - val_loss: 4.0614 - 143ms/epoch - 12ms/step\n",
      "Epoch 92/100\n",
      "12/12 - 0s - loss: 4.8282 - val_loss: 4.0641 - 150ms/epoch - 12ms/step\n",
      "Epoch 93/100\n",
      "12/12 - 0s - loss: 4.8307 - val_loss: 4.0804 - 160ms/epoch - 13ms/step\n",
      "Epoch 94/100\n",
      "12/12 - 0s - loss: 4.8290 - val_loss: 4.0491 - 155ms/epoch - 13ms/step\n",
      "Epoch 95/100\n",
      "12/12 - 0s - loss: 4.8319 - val_loss: 4.0235 - 138ms/epoch - 11ms/step\n",
      "Epoch 96/100\n",
      "12/12 - 0s - loss: 4.8368 - val_loss: 4.0240 - 141ms/epoch - 12ms/step\n",
      "Epoch 97/100\n",
      "12/12 - 0s - loss: 4.8321 - val_loss: 4.0621 - 129ms/epoch - 11ms/step\n",
      "Epoch 98/100\n",
      "12/12 - 0s - loss: 4.8414 - val_loss: 4.0926 - 141ms/epoch - 12ms/step\n",
      "Epoch 99/100\n",
      "12/12 - 0s - loss: 4.8270 - val_loss: 4.1021 - 141ms/epoch - 12ms/step\n",
      "Epoch 100/100\n",
      "12/12 - 0s - loss: 4.8292 - val_loss: 4.0980 - 148ms/epoch - 12ms/step\n"
     ]
    },
    {
     "data": {
      "text/plain": "<Figure size 432x288 with 1 Axes>",
      "image/png": "[encoded data removed]"
     },
     "metadata": {
      "needs_background": "light"
     },
     "output_type": "display_data"
    },
    {
     "data": {
      "text/plain": "(4.607030614217122, -0.007953626011510506, 0.06131764743962844)"
     },
     "execution_count": 4,
     "metadata": {},
     "output_type": "execute_result"
    }
   ],
   "source": [
    "RNN.rnn_regression(X,y)"
   ],
   "metadata": {
    "collapsed": false
   }
  },
  {
   "cell_type": "code",
   "execution_count": 5,
   "outputs": [
    {
     "name": "stdout",
     "output_type": "stream",
     "text": [
      "Epoch 1/100\n",
      "13/13 - 2s - loss: 70.1985 - val_loss: 69.4177 - 2s/epoch - 136ms/step\n",
      "Epoch 2/100\n",
      "13/13 - 0s - loss: 67.9467 - val_loss: 67.0836 - 173ms/epoch - 13ms/step\n",
      "Epoch 3/100\n",
      "13/13 - 0s - loss: 65.4477 - val_loss: 64.4995 - 183ms/epoch - 14ms/step\n",
      "Epoch 4/100\n",
      "13/13 - 0s - loss: 62.5772 - val_loss: 61.1984 - 159ms/epoch - 12ms/step\n",
      "Epoch 5/100\n",
      "13/13 - 0s - loss: 59.0152 - val_loss: 57.5686 - 161ms/epoch - 12ms/step\n",
      "Epoch 6/100\n",
      "13/13 - 0s - loss: 55.5694 - val_loss: 54.5384 - 149ms/epoch - 11ms/step\n",
      "Epoch 7/100\n",
      "13/13 - 0s - loss: 52.9199 - val_loss: 52.1111 - 145ms/epoch - 11ms/step\n",
      "Epoch 8/100\n",
      "13/13 - 0s - loss: 50.5695 - val_loss: 49.8649 - 150ms/epoch - 12ms/step\n",
      "Epoch 9/100\n",
      "13/13 - 0s - loss: 48.5418 - val_loss: 47.9663 - 133ms/epoch - 10ms/step\n",
      "Epoch 10/100\n",
      "13/13 - 0s - loss: 46.7603 - val_loss: 46.2395 - 142ms/epoch - 11ms/step\n",
      "Epoch 11/100\n",
      "13/13 - 0s - loss: 45.0729 - val_loss: 44.5822 - 140ms/epoch - 11ms/step\n",
      "Epoch 12/100\n",
      "13/13 - 0s - loss: 43.4436 - val_loss: 42.9771 - 151ms/epoch - 12ms/step\n",
      "Epoch 13/100\n",
      "13/13 - 0s - loss: 41.8562 - val_loss: 41.4074 - 137ms/epoch - 11ms/step\n",
      "Epoch 14/100\n",
      "13/13 - 0s - loss: 40.3004 - val_loss: 39.8658 - 138ms/epoch - 11ms/step\n",
      "Epoch 15/100\n",
      "13/13 - 0s - loss: 38.7699 - val_loss: 38.3467 - 138ms/epoch - 11ms/step\n",
      "Epoch 16/100\n",
      "13/13 - 0s - loss: 37.2600 - val_loss: 36.8463 - 145ms/epoch - 11ms/step\n",
      "Epoch 17/100\n",
      "13/13 - 0s - loss: 35.7673 - val_loss: 35.3615 - 138ms/epoch - 11ms/step\n",
      "Epoch 18/100\n",
      "13/13 - 0s - loss: 34.2892 - val_loss: 33.8902 - 136ms/epoch - 10ms/step\n",
      "Epoch 19/100\n",
      "13/13 - 0s - loss: 32.8235 - val_loss: 32.4305 - 135ms/epoch - 10ms/step\n",
      "Epoch 20/100\n",
      "13/13 - 0s - loss: 31.3687 - val_loss: 30.9809 - 129ms/epoch - 10ms/step\n",
      "Epoch 21/100\n",
      "13/13 - 0s - loss: 29.9234 - val_loss: 29.5402 - 122ms/epoch - 9ms/step\n",
      "Epoch 22/100\n",
      "13/13 - 0s - loss: 28.4866 - val_loss: 28.1073 - 110ms/epoch - 8ms/step\n",
      "Epoch 23/100\n",
      "13/13 - 0s - loss: 27.0572 - val_loss: 26.6815 - 165ms/epoch - 13ms/step\n",
      "Epoch 24/100\n",
      "13/13 - 0s - loss: 25.6345 - val_loss: 25.2621 - 126ms/epoch - 10ms/step\n",
      "Epoch 25/100\n",
      "13/13 - 0s - loss: 24.2179 - val_loss: 23.8484 - 125ms/epoch - 10ms/step\n",
      "Epoch 26/100\n",
      "13/13 - 0s - loss: 22.8067 - val_loss: 22.4400 - 125ms/epoch - 10ms/step\n",
      "Epoch 27/100\n",
      "13/13 - 0s - loss: 21.4006 - val_loss: 21.0363 - 139ms/epoch - 11ms/step\n",
      "Epoch 28/100\n",
      "13/13 - 0s - loss: 19.9990 - val_loss: 19.6369 - 133ms/epoch - 10ms/step\n",
      "Epoch 29/100\n",
      "13/13 - 0s - loss: 18.6016 - val_loss: 18.2415 - 141ms/epoch - 11ms/step\n",
      "Epoch 30/100\n",
      "13/13 - 0s - loss: 17.2080 - val_loss: 16.8499 - 130ms/epoch - 10ms/step\n",
      "Epoch 31/100\n",
      "13/13 - 0s - loss: 15.8529 - val_loss: 15.4759 - 125ms/epoch - 10ms/step\n",
      "Epoch 32/100\n",
      "13/13 - 0s - loss: 14.5309 - val_loss: 14.1284 - 126ms/epoch - 10ms/step\n",
      "Epoch 33/100\n",
      "13/13 - 0s - loss: 13.2269 - val_loss: 12.7850 - 133ms/epoch - 10ms/step\n",
      "Epoch 34/100\n",
      "13/13 - 0s - loss: 11.9247 - val_loss: 11.4452 - 129ms/epoch - 10ms/step\n",
      "Epoch 35/100\n",
      "13/13 - 0s - loss: 10.6908 - val_loss: 10.1510 - 125ms/epoch - 10ms/step\n",
      "Epoch 36/100\n",
      "13/13 - 0s - loss: 9.5652 - val_loss: 8.8922 - 125ms/epoch - 10ms/step\n",
      "Epoch 37/100\n",
      "13/13 - 0s - loss: 8.4814 - val_loss: 7.8376 - 126ms/epoch - 10ms/step\n",
      "Epoch 38/100\n",
      "13/13 - 0s - loss: 7.5828 - val_loss: 6.9017 - 131ms/epoch - 10ms/step\n",
      "Epoch 39/100\n",
      "13/13 - 0s - loss: 6.8873 - val_loss: 6.1646 - 125ms/epoch - 10ms/step\n",
      "Epoch 40/100\n",
      "13/13 - 0s - loss: 6.3517 - val_loss: 5.6407 - 125ms/epoch - 10ms/step\n",
      "Epoch 41/100\n",
      "13/13 - 0s - loss: 5.9383 - val_loss: 5.2476 - 125ms/epoch - 10ms/step\n",
      "Epoch 42/100\n",
      "13/13 - 0s - loss: 5.6424 - val_loss: 4.9296 - 131ms/epoch - 10ms/step\n",
      "Epoch 43/100\n",
      "13/13 - 0s - loss: 5.3786 - val_loss: 4.6787 - 125ms/epoch - 10ms/step\n",
      "Epoch 44/100\n",
      "13/13 - 0s - loss: 5.1876 - val_loss: 4.4907 - 142ms/epoch - 11ms/step\n",
      "Epoch 45/100\n",
      "13/13 - 0s - loss: 5.0794 - val_loss: 4.3374 - 125ms/epoch - 10ms/step\n",
      "Epoch 46/100\n",
      "13/13 - 0s - loss: 5.0110 - val_loss: 4.2387 - 116ms/epoch - 9ms/step\n",
      "Epoch 47/100\n",
      "13/13 - 0s - loss: 4.9775 - val_loss: 4.1675 - 141ms/epoch - 11ms/step\n",
      "Epoch 48/100\n",
      "13/13 - 0s - loss: 4.9552 - val_loss: 4.1212 - 125ms/epoch - 10ms/step\n",
      "Epoch 49/100\n",
      "13/13 - 0s - loss: 4.9414 - val_loss: 4.0651 - 125ms/epoch - 10ms/step\n",
      "Epoch 50/100\n",
      "13/13 - 0s - loss: 4.9329 - val_loss: 4.0359 - 132ms/epoch - 10ms/step\n",
      "Epoch 51/100\n",
      "13/13 - 0s - loss: 4.9285 - val_loss: 4.0355 - 125ms/epoch - 10ms/step\n",
      "Epoch 52/100\n",
      "13/13 - 0s - loss: 4.9273 - val_loss: 4.0225 - 125ms/epoch - 10ms/step\n",
      "Epoch 53/100\n",
      "13/13 - 0s - loss: 4.9293 - val_loss: 4.0009 - 140ms/epoch - 11ms/step\n",
      "Epoch 54/100\n",
      "13/13 - 0s - loss: 4.9246 - val_loss: 3.9969 - 115ms/epoch - 9ms/step\n",
      "Epoch 55/100\n",
      "13/13 - 0s - loss: 4.9239 - val_loss: 3.9893 - 126ms/epoch - 10ms/step\n",
      "Epoch 56/100\n",
      "13/13 - 0s - loss: 4.9229 - val_loss: 3.9859 - 158ms/epoch - 12ms/step\n",
      "Epoch 57/100\n",
      "13/13 - 0s - loss: 4.9231 - val_loss: 3.9682 - 143ms/epoch - 11ms/step\n",
      "Epoch 58/100\n",
      "13/13 - 0s - loss: 4.9229 - val_loss: 3.9721 - 146ms/epoch - 11ms/step\n",
      "Epoch 59/100\n",
      "13/13 - 0s - loss: 4.9213 - val_loss: 3.9650 - 138ms/epoch - 11ms/step\n",
      "Epoch 60/100\n",
      "13/13 - 0s - loss: 4.9217 - val_loss: 3.9633 - 132ms/epoch - 10ms/step\n",
      "Epoch 61/100\n",
      "13/13 - 0s - loss: 4.9223 - val_loss: 3.9569 - 135ms/epoch - 10ms/step\n",
      "Epoch 62/100\n",
      "13/13 - 0s - loss: 4.9237 - val_loss: 3.9676 - 133ms/epoch - 10ms/step\n",
      "Epoch 63/100\n",
      "13/13 - 0s - loss: 4.9224 - val_loss: 3.9690 - 133ms/epoch - 10ms/step\n",
      "Epoch 64/100\n",
      "13/13 - 0s - loss: 4.9221 - val_loss: 3.9702 - 139ms/epoch - 11ms/step\n",
      "Epoch 65/100\n",
      "13/13 - 0s - loss: 4.9239 - val_loss: 3.9674 - 150ms/epoch - 12ms/step\n",
      "Epoch 66/100\n",
      "13/13 - 0s - loss: 4.9225 - val_loss: 3.9691 - 131ms/epoch - 10ms/step\n",
      "Epoch 67/100\n",
      "13/13 - 0s - loss: 4.9223 - val_loss: 3.9751 - 129ms/epoch - 10ms/step\n",
      "Epoch 68/100\n",
      "13/13 - 0s - loss: 4.9229 - val_loss: 3.9674 - 135ms/epoch - 10ms/step\n",
      "Epoch 69/100\n",
      "13/13 - 0s - loss: 4.9236 - val_loss: 3.9692 - 144ms/epoch - 11ms/step\n",
      "Epoch 70/100\n",
      "13/13 - 0s - loss: 4.9224 - val_loss: 3.9671 - 165ms/epoch - 13ms/step\n",
      "Epoch 71/100\n",
      "13/13 - 0s - loss: 4.9216 - val_loss: 3.9680 - 128ms/epoch - 10ms/step\n",
      "Epoch 72/100\n",
      "13/13 - 0s - loss: 4.9279 - val_loss: 3.9787 - 125ms/epoch - 10ms/step\n",
      "Epoch 73/100\n",
      "13/13 - 0s - loss: 4.9216 - val_loss: 3.9691 - 125ms/epoch - 10ms/step\n",
      "Epoch 74/100\n",
      "13/13 - 0s - loss: 4.9222 - val_loss: 3.9695 - 126ms/epoch - 10ms/step\n",
      "Epoch 75/100\n",
      "13/13 - 0s - loss: 4.9234 - val_loss: 3.9661 - 141ms/epoch - 11ms/step\n",
      "Epoch 76/100\n",
      "13/13 - 0s - loss: 4.9259 - val_loss: 3.9637 - 114ms/epoch - 9ms/step\n",
      "Epoch 77/100\n",
      "13/13 - 0s - loss: 4.9345 - val_loss: 4.0023 - 142ms/epoch - 11ms/step\n",
      "Epoch 78/100\n",
      "13/13 - 0s - loss: 4.9235 - val_loss: 3.9879 - 141ms/epoch - 11ms/step\n",
      "Epoch 79/100\n",
      "13/13 - 0s - loss: 4.9232 - val_loss: 3.9802 - 125ms/epoch - 10ms/step\n",
      "Epoch 80/100\n",
      "13/13 - 0s - loss: 4.9216 - val_loss: 3.9708 - 132ms/epoch - 10ms/step\n",
      "Epoch 81/100\n",
      "13/13 - 0s - loss: 4.9243 - val_loss: 3.9733 - 123ms/epoch - 9ms/step\n",
      "Epoch 82/100\n",
      "13/13 - 0s - loss: 4.9228 - val_loss: 3.9696 - 125ms/epoch - 10ms/step\n",
      "Epoch 83/100\n",
      "13/13 - 0s - loss: 4.9244 - val_loss: 3.9661 - 125ms/epoch - 10ms/step\n",
      "Epoch 84/100\n",
      "13/13 - 0s - loss: 4.9247 - val_loss: 3.9729 - 145ms/epoch - 11ms/step\n",
      "Epoch 85/100\n",
      "13/13 - 0s - loss: 4.9231 - val_loss: 3.9909 - 125ms/epoch - 10ms/step\n",
      "Epoch 86/100\n",
      "13/13 - 0s - loss: 4.9221 - val_loss: 3.9883 - 125ms/epoch - 10ms/step\n",
      "Epoch 87/100\n",
      "13/13 - 0s - loss: 4.9211 - val_loss: 3.9971 - 131ms/epoch - 10ms/step\n",
      "Epoch 88/100\n",
      "13/13 - 0s - loss: 4.9188 - val_loss: 4.0147 - 140ms/epoch - 11ms/step\n",
      "Epoch 89/100\n",
      "13/13 - 0s - loss: 4.9196 - val_loss: 4.0356 - 126ms/epoch - 10ms/step\n",
      "Epoch 90/100\n",
      "13/13 - 0s - loss: 4.9194 - val_loss: 4.0489 - 134ms/epoch - 10ms/step\n",
      "Epoch 91/100\n",
      "13/13 - 0s - loss: 4.9193 - val_loss: 4.0359 - 131ms/epoch - 10ms/step\n",
      "Epoch 92/100\n",
      "13/13 - 0s - loss: 4.9157 - val_loss: 4.0447 - 141ms/epoch - 11ms/step\n",
      "Epoch 93/100\n",
      "13/13 - 0s - loss: 4.9139 - val_loss: 4.0608 - 126ms/epoch - 10ms/step\n",
      "Epoch 94/100\n",
      "13/13 - 0s - loss: 4.9109 - val_loss: 4.0598 - 126ms/epoch - 10ms/step\n",
      "Epoch 95/100\n",
      "13/13 - 0s - loss: 4.9202 - val_loss: 4.0708 - 130ms/epoch - 10ms/step\n",
      "Epoch 96/100\n",
      "13/13 - 0s - loss: 4.9140 - val_loss: 4.0678 - 141ms/epoch - 11ms/step\n",
      "Epoch 97/100\n",
      "13/13 - 0s - loss: 4.9117 - val_loss: 4.0609 - 125ms/epoch - 10ms/step\n",
      "Epoch 98/100\n",
      "13/13 - 0s - loss: 4.9134 - val_loss: 4.0827 - 125ms/epoch - 10ms/step\n",
      "Epoch 99/100\n",
      "13/13 - 0s - loss: 4.9096 - val_loss: 4.1125 - 147ms/epoch - 11ms/step\n",
      "Epoch 100/100\n",
      "13/13 - 0s - loss: 4.9094 - val_loss: 4.1199 - 125ms/epoch - 10ms/step\n"
     ]
    },
    {
     "data": {
      "text/plain": "<Figure size 432x288 with 1 Axes>",
      "image/png": "[encoded data removed]"
     },
     "metadata": {
      "needs_background": "light"
     },
     "output_type": "display_data"
    },
    {
     "data": {
      "text/plain": "(3.9887290106879343, -0.05905610589563337, -0.07804396048913889)"
     },
     "execution_count": 5,
     "metadata": {},
     "output_type": "execute_result"
    }
   ],
   "source": [
    "RNN.rnn_regression(X,y,test_size=0.1)"
   ],
   "metadata": {
    "collapsed": false
   }
  },
  {
   "cell_type": "code",
   "execution_count": 6,
   "outputs": [
    {
     "name": "stdout",
     "output_type": "stream",
     "text": [
      "Epoch 1/100\n",
      "26/26 - 2s - loss: 69.7312 - val_loss: 67.8711 - 2s/epoch - 73ms/step\n",
      "Epoch 2/100\n",
      "26/26 - 0s - loss: 64.7606 - val_loss: 62.0420 - 244ms/epoch - 9ms/step\n",
      "Epoch 3/100\n",
      "26/26 - 0s - loss: 58.9952 - val_loss: 56.6711 - 256ms/epoch - 10ms/step\n",
      "Epoch 4/100\n",
      "26/26 - 0s - loss: 53.8513 - val_loss: 51.7471 - 251ms/epoch - 10ms/step\n",
      "Epoch 5/100\n",
      "26/26 - 0s - loss: 49.1019 - val_loss: 47.3806 - 240ms/epoch - 9ms/step\n",
      "Epoch 6/100\n",
      "26/26 - 0s - loss: 45.3148 - val_loss: 43.9535 - 235ms/epoch - 9ms/step\n",
      "Epoch 7/100\n",
      "26/26 - 0s - loss: 42.0190 - val_loss: 40.7480 - 242ms/epoch - 9ms/step\n",
      "Epoch 8/100\n",
      "26/26 - 0s - loss: 38.8797 - val_loss: 37.6640 - 235ms/epoch - 9ms/step\n",
      "Epoch 9/100\n",
      "26/26 - 0s - loss: 35.8372 - val_loss: 34.6596 - 235ms/epoch - 9ms/step\n",
      "Epoch 10/100\n",
      "26/26 - 0s - loss: 32.8617 - val_loss: 31.7110 - 241ms/epoch - 9ms/step\n",
      "Epoch 11/100\n",
      "26/26 - 0s - loss: 29.9352 - val_loss: 28.8053 - 241ms/epoch - 9ms/step\n",
      "Epoch 12/100\n",
      "26/26 - 0s - loss: 27.0463 - val_loss: 25.9327 - 253ms/epoch - 10ms/step\n",
      "Epoch 13/100\n",
      "26/26 - 0s - loss: 24.1873 - val_loss: 23.0868 - 235ms/epoch - 9ms/step\n",
      "Epoch 14/100\n",
      "26/26 - 0s - loss: 21.3525 - val_loss: 20.2630 - 257ms/epoch - 10ms/step\n",
      "Epoch 15/100\n",
      "26/26 - 0s - loss: 18.5378 - val_loss: 17.4574 - 251ms/epoch - 10ms/step\n",
      "Epoch 16/100\n",
      "26/26 - 0s - loss: 15.7806 - val_loss: 14.7360 - 256ms/epoch - 10ms/step\n",
      "Epoch 17/100\n",
      "26/26 - 0s - loss: 13.1571 - val_loss: 12.0333 - 251ms/epoch - 10ms/step\n",
      "Epoch 18/100\n",
      "26/26 - 0s - loss: 10.6747 - val_loss: 9.3937 - 256ms/epoch - 10ms/step\n",
      "Epoch 19/100\n",
      "26/26 - 0s - loss: 8.4580 - val_loss: 7.2716 - 273ms/epoch - 10ms/step\n",
      "Epoch 20/100\n",
      "26/26 - 0s - loss: 6.8724 - val_loss: 5.8925 - 251ms/epoch - 10ms/step\n",
      "Epoch 21/100\n",
      "26/26 - 0s - loss: 5.9612 - val_loss: 5.0236 - 252ms/epoch - 10ms/step\n",
      "Epoch 22/100\n",
      "26/26 - 0s - loss: 5.3861 - val_loss: 4.5329 - 251ms/epoch - 10ms/step\n",
      "Epoch 23/100\n",
      "26/26 - 0s - loss: 5.0863 - val_loss: 4.2830 - 271ms/epoch - 10ms/step\n",
      "Epoch 24/100\n",
      "26/26 - 0s - loss: 4.9998 - val_loss: 4.1489 - 270ms/epoch - 10ms/step\n",
      "Epoch 25/100\n",
      "26/26 - 0s - loss: 4.9573 - val_loss: 4.0864 - 297ms/epoch - 11ms/step\n",
      "Epoch 26/100\n",
      "26/26 - 0s - loss: 4.9448 - val_loss: 4.0197 - 291ms/epoch - 11ms/step\n",
      "Epoch 27/100\n",
      "26/26 - 0s - loss: 4.9312 - val_loss: 4.0161 - 275ms/epoch - 11ms/step\n",
      "Epoch 28/100\n",
      "26/26 - 0s - loss: 4.9339 - val_loss: 3.9665 - 294ms/epoch - 11ms/step\n",
      "Epoch 29/100\n",
      "26/26 - 0s - loss: 4.9299 - val_loss: 3.9571 - 269ms/epoch - 10ms/step\n",
      "Epoch 30/100\n",
      "26/26 - 0s - loss: 4.9308 - val_loss: 4.0007 - 292ms/epoch - 11ms/step\n",
      "Epoch 31/100\n",
      "26/26 - 0s - loss: 4.9266 - val_loss: 4.0046 - 253ms/epoch - 10ms/step\n",
      "Epoch 32/100\n",
      "26/26 - 0s - loss: 4.9249 - val_loss: 3.9842 - 256ms/epoch - 10ms/step\n",
      "Epoch 33/100\n",
      "26/26 - 0s - loss: 4.9221 - val_loss: 3.9640 - 267ms/epoch - 10ms/step\n",
      "Epoch 34/100\n",
      "26/26 - 0s - loss: 4.9170 - val_loss: 4.3435 - 241ms/epoch - 9ms/step\n",
      "Epoch 35/100\n",
      "26/26 - 0s - loss: 4.8976 - val_loss: 4.0686 - 251ms/epoch - 10ms/step\n",
      "Epoch 36/100\n",
      "26/26 - 0s - loss: 4.9073 - val_loss: 4.1756 - 241ms/epoch - 9ms/step\n",
      "Epoch 37/100\n",
      "26/26 - 0s - loss: 4.8570 - val_loss: 4.1767 - 251ms/epoch - 10ms/step\n",
      "Epoch 38/100\n",
      "26/26 - 0s - loss: 4.8511 - val_loss: 4.1912 - 264ms/epoch - 10ms/step\n",
      "Epoch 39/100\n",
      "26/26 - 0s - loss: 4.8405 - val_loss: 4.1224 - 260ms/epoch - 10ms/step\n",
      "Epoch 40/100\n",
      "26/26 - 0s - loss: 4.8373 - val_loss: 4.1557 - 258ms/epoch - 10ms/step\n",
      "Epoch 41/100\n",
      "26/26 - 0s - loss: 4.8427 - val_loss: 4.1819 - 267ms/epoch - 10ms/step\n",
      "Epoch 42/100\n",
      "26/26 - 0s - loss: 4.8559 - val_loss: 4.1889 - 257ms/epoch - 10ms/step\n",
      "Epoch 43/100\n",
      "26/26 - 0s - loss: 4.8298 - val_loss: 4.1780 - 235ms/epoch - 9ms/step\n",
      "Epoch 44/100\n",
      "26/26 - 0s - loss: 4.8317 - val_loss: 4.1620 - 256ms/epoch - 10ms/step\n",
      "Epoch 45/100\n",
      "26/26 - 0s - loss: 4.8504 - val_loss: 4.1406 - 270ms/epoch - 10ms/step\n",
      "Epoch 46/100\n",
      "26/26 - 0s - loss: 4.8366 - val_loss: 4.1906 - 253ms/epoch - 10ms/step\n",
      "Epoch 47/100\n",
      "26/26 - 0s - loss: 4.8444 - val_loss: 4.2194 - 251ms/epoch - 10ms/step\n",
      "Epoch 48/100\n",
      "26/26 - 0s - loss: 4.8460 - val_loss: 4.1899 - 255ms/epoch - 10ms/step\n",
      "Epoch 49/100\n",
      "26/26 - 0s - loss: 4.8303 - val_loss: 4.2284 - 251ms/epoch - 10ms/step\n",
      "Epoch 50/100\n",
      "26/26 - 0s - loss: 4.8302 - val_loss: 4.2535 - 255ms/epoch - 10ms/step\n",
      "Epoch 51/100\n",
      "26/26 - 0s - loss: 4.8286 - val_loss: 4.2685 - 281ms/epoch - 11ms/step\n",
      "Epoch 52/100\n",
      "26/26 - 0s - loss: 4.8381 - val_loss: 4.2412 - 280ms/epoch - 11ms/step\n",
      "Epoch 53/100\n",
      "26/26 - 0s - loss: 4.8181 - val_loss: 4.2701 - 278ms/epoch - 11ms/step\n",
      "Epoch 54/100\n",
      "26/26 - 0s - loss: 4.8149 - val_loss: 4.3070 - 259ms/epoch - 10ms/step\n",
      "Epoch 55/100\n",
      "26/26 - 0s - loss: 4.8068 - val_loss: 4.3615 - 270ms/epoch - 10ms/step\n",
      "Epoch 56/100\n",
      "26/26 - 0s - loss: 4.8087 - val_loss: 4.3923 - 269ms/epoch - 10ms/step\n",
      "Epoch 57/100\n",
      "26/26 - 0s - loss: 4.8062 - val_loss: 4.3486 - 267ms/epoch - 10ms/step\n",
      "Epoch 58/100\n",
      "26/26 - 0s - loss: 4.7919 - val_loss: 4.3646 - 255ms/epoch - 10ms/step\n",
      "Epoch 59/100\n",
      "26/26 - 0s - loss: 4.7840 - val_loss: 4.3460 - 251ms/epoch - 10ms/step\n",
      "Epoch 60/100\n",
      "26/26 - 0s - loss: 4.7916 - val_loss: 4.3937 - 241ms/epoch - 9ms/step\n",
      "Epoch 61/100\n",
      "26/26 - 0s - loss: 4.7906 - val_loss: 4.3629 - 251ms/epoch - 10ms/step\n",
      "Epoch 62/100\n",
      "26/26 - 0s - loss: 4.7827 - val_loss: 4.4252 - 256ms/epoch - 10ms/step\n",
      "Epoch 63/100\n",
      "26/26 - 0s - loss: 4.7660 - val_loss: 4.5136 - 251ms/epoch - 10ms/step\n",
      "Epoch 64/100\n",
      "26/26 - 0s - loss: 4.7440 - val_loss: 4.5572 - 258ms/epoch - 10ms/step\n",
      "Epoch 65/100\n",
      "26/26 - 0s - loss: 4.7673 - val_loss: 4.6291 - 235ms/epoch - 9ms/step\n",
      "Epoch 66/100\n",
      "26/26 - 0s - loss: 4.6864 - val_loss: 4.4779 - 239ms/epoch - 9ms/step\n",
      "Epoch 67/100\n",
      "26/26 - 0s - loss: 4.7322 - val_loss: 4.5941 - 267ms/epoch - 10ms/step\n",
      "Epoch 68/100\n",
      "26/26 - 0s - loss: 4.6971 - val_loss: 4.7421 - 241ms/epoch - 9ms/step\n",
      "Epoch 69/100\n",
      "26/26 - 0s - loss: 4.6754 - val_loss: 4.6871 - 235ms/epoch - 9ms/step\n",
      "Epoch 70/100\n",
      "26/26 - 0s - loss: 4.7045 - val_loss: 4.8517 - 270ms/epoch - 10ms/step\n",
      "Epoch 71/100\n",
      "26/26 - 0s - loss: 4.6316 - val_loss: 4.9257 - 235ms/epoch - 9ms/step\n",
      "Epoch 72/100\n",
      "26/26 - 0s - loss: 4.6720 - val_loss: 4.8137 - 251ms/epoch - 10ms/step\n",
      "Epoch 73/100\n",
      "26/26 - 0s - loss: 4.6534 - val_loss: 4.6743 - 265ms/epoch - 10ms/step\n",
      "Epoch 74/100\n",
      "26/26 - 0s - loss: 4.6564 - val_loss: 4.7216 - 259ms/epoch - 10ms/step\n",
      "Epoch 75/100\n",
      "26/26 - 0s - loss: 4.6279 - val_loss: 4.7955 - 251ms/epoch - 10ms/step\n",
      "Epoch 76/100\n",
      "26/26 - 0s - loss: 4.6142 - val_loss: 4.5534 - 256ms/epoch - 10ms/step\n",
      "Epoch 77/100\n",
      "26/26 - 0s - loss: 4.5998 - val_loss: 4.6002 - 251ms/epoch - 10ms/step\n",
      "Epoch 78/100\n",
      "26/26 - 0s - loss: 4.5944 - val_loss: 4.6846 - 243ms/epoch - 9ms/step\n",
      "Epoch 79/100\n",
      "26/26 - 0s - loss: 4.5616 - val_loss: 4.6004 - 257ms/epoch - 10ms/step\n",
      "Epoch 80/100\n",
      "26/26 - 0s - loss: 4.5272 - val_loss: 4.5916 - 268ms/epoch - 10ms/step\n",
      "Epoch 81/100\n",
      "26/26 - 0s - loss: 4.5816 - val_loss: 4.6043 - 271ms/epoch - 10ms/step\n",
      "Epoch 82/100\n",
      "26/26 - 0s - loss: 4.5187 - val_loss: 4.6011 - 264ms/epoch - 10ms/step\n",
      "Epoch 83/100\n",
      "26/26 - 0s - loss: 4.5384 - val_loss: 4.5872 - 284ms/epoch - 11ms/step\n",
      "Epoch 84/100\n",
      "26/26 - 0s - loss: 4.5517 - val_loss: 4.7303 - 276ms/epoch - 11ms/step\n",
      "Epoch 85/100\n",
      "26/26 - 0s - loss: 4.4973 - val_loss: 4.6062 - 260ms/epoch - 10ms/step\n",
      "Epoch 86/100\n",
      "26/26 - 0s - loss: 4.5172 - val_loss: 4.6937 - 252ms/epoch - 10ms/step\n",
      "Epoch 87/100\n",
      "26/26 - 0s - loss: 4.5063 - val_loss: 4.6098 - 234ms/epoch - 9ms/step\n",
      "Epoch 88/100\n",
      "26/26 - 0s - loss: 4.4463 - val_loss: 4.5447 - 251ms/epoch - 10ms/step\n",
      "Epoch 89/100\n",
      "26/26 - 0s - loss: 4.5764 - val_loss: 4.6444 - 253ms/epoch - 10ms/step\n",
      "Epoch 90/100\n",
      "26/26 - 0s - loss: 4.4893 - val_loss: 4.4591 - 235ms/epoch - 9ms/step\n",
      "Epoch 91/100\n",
      "26/26 - 0s - loss: 4.4283 - val_loss: 4.6200 - 241ms/epoch - 9ms/step\n",
      "Epoch 92/100\n",
      "26/26 - 0s - loss: 4.4195 - val_loss: 4.5457 - 235ms/epoch - 9ms/step\n",
      "Epoch 93/100\n",
      "26/26 - 0s - loss: 4.4037 - val_loss: 4.6121 - 257ms/epoch - 10ms/step\n",
      "Epoch 94/100\n",
      "26/26 - 0s - loss: 4.3992 - val_loss: 4.6339 - 251ms/epoch - 10ms/step\n",
      "Epoch 95/100\n",
      "26/26 - 0s - loss: 4.3902 - val_loss: 4.5967 - 241ms/epoch - 9ms/step\n",
      "Epoch 96/100\n",
      "26/26 - 0s - loss: 4.3947 - val_loss: 4.5871 - 251ms/epoch - 10ms/step\n",
      "Epoch 97/100\n",
      "26/26 - 0s - loss: 4.3869 - val_loss: 4.6330 - 236ms/epoch - 9ms/step\n",
      "Epoch 98/100\n",
      "26/26 - 0s - loss: 4.3634 - val_loss: 4.5811 - 224ms/epoch - 9ms/step\n",
      "Epoch 99/100\n",
      "26/26 - 0s - loss: 4.3695 - val_loss: 4.6409 - 267ms/epoch - 10ms/step\n",
      "Epoch 100/100\n",
      "26/26 - 0s - loss: 4.3696 - val_loss: 4.6226 - 270ms/epoch - 10ms/step\n"
     ]
    },
    {
     "data": {
      "text/plain": "<Figure size 432x288 with 1 Axes>",
      "image/png": "[encoded data removed]"
     },
     "metadata": {
      "needs_background": "light"
     },
     "output_type": "display_data"
    },
    {
     "data": {
      "text/plain": "(3.7965127733018664, 0.04643992660860785, 0.2535812734373168)"
     },
     "execution_count": 6,
     "metadata": {},
     "output_type": "execute_result"
    }
   ],
   "source": [
    "RNN.rnn_regression(X,y, batch_size=5,test_size=0.1)"
   ],
   "metadata": {
    "collapsed": false
   }
  },
  {
   "cell_type": "code",
   "execution_count": 32,
   "outputs": [],
   "source": [
    "from keras.layers import LeakyReLU\n",
    "import numpy as np\n",
    "import pandas as pd\n",
    "from sklearn.model_selection import KFold, train_test_split\n",
    "from sklearn.metrics import mean_absolute_error, r2_score\n",
    "from tensorflow.keras.models import Sequential\n",
    "from tensorflow.keras.layers import LSTM, Dense\n",
    "from tensorflow.keras.callbacks import History\n",
    "import matplotlib.pyplot as plt\n",
    "from keras import backend as K\n",
    "\n",
    "def rnn_regression1(seq, temp, num_epochs=100, batch_size=10, test_size=0.1):\n",
    "    \"\"\"\n",
    "    :param seq: sequence of amino acids\n",
    "    :param temp: temperature\n",
    "    :param num_epochs: number of epochs to train the model for\n",
    "    :param batch_size: batch size for training the model\n",
    "    :param test_size: the proportion of the dataset to include in the test split\n",
    "    :return: model MAE, R-squared and pearson coefficient\n",
    "    \"\"\"\n",
    "\n",
    "    # convert seq and temp to numpy arrays\n",
    "    seq = seq.values.reshape((seq.shape[0], seq.shape[1], 1))\n",
    "    temp = np.array(temp)\n",
    "\n",
    "    # split the data into training and testing sets\n",
    "    x_train, x_test, y_train, y_test = train_test_split(seq, temp, test_size=test_size, random_state=7)\n",
    "\n",
    "    # create the model\n",
    "    model = Sequential()\n",
    "    model.add(LSTM(64, input_shape=(seq.shape[1], seq.shape[2])))\n",
    "    model.add(Dense(1))\n",
    "    model.add(LeakyReLU(alpha=0.05))\n",
    "    model.compile(loss='MSE', optimizer='adam')\n",
    "\n",
    "    # fit the model\n",
    "    history = model.fit(x_train, y_train, epochs=num_epochs, batch_size=batch_size, verbose=2, validation_split=0.2)\n",
    "\n",
    "    # evaluate the model on the test set\n",
    "    predictions = model.predict(x_test)\n",
    "    mae = mean_absolute_error(y_test, predictions)\n",
    "    r2 = r2_score(y_test, predictions)\n",
    "    pearsonr = np.corrcoef(y_test, predictions.T)[0, 1]\n",
    "\n",
    "    # plot training and validation loss\n",
    "    plt.plot(history.history['loss'])\n",
    "    plt.plot(history.history['val_loss'])\n",
    "    plt.title('Model Loss')\n",
    "    plt.ylabel('Loss')\n",
    "    plt.xlabel('Epoch')\n",
    "    plt.legend(['Train', 'Validation'], loc='upper right')\n",
    "    plt.show()\n",
    "\n",
    "    return mae, r2, pearsonr"
   ],
   "metadata": {
    "collapsed": false
   }
  },
  {
   "cell_type": "code",
   "execution_count": 26,
   "outputs": [
    {
     "name": "stdout",
     "output_type": "stream",
     "text": [
      "Epoch 1/100\n",
      "26/26 - 2s - loss: 4972.0659 - val_loss: 4776.9214 - 2s/epoch - 62ms/step\n",
      "Epoch 2/100\n",
      "26/26 - 0s - loss: 4668.2510 - val_loss: 4429.5234 - 257ms/epoch - 10ms/step\n",
      "Epoch 3/100\n",
      "26/26 - 0s - loss: 4254.4160 - val_loss: 3950.4690 - 227ms/epoch - 9ms/step\n",
      "Epoch 4/100\n",
      "26/26 - 0s - loss: 3734.4758 - val_loss: 3432.8696 - 223ms/epoch - 9ms/step\n",
      "Epoch 5/100\n",
      "26/26 - 0s - loss: 3279.1399 - val_loss: 3054.9150 - 204ms/epoch - 8ms/step\n",
      "Epoch 6/100\n",
      "26/26 - 0s - loss: 2950.9385 - val_loss: 2791.7842 - 241ms/epoch - 9ms/step\n",
      "Epoch 7/100\n",
      "26/26 - 0s - loss: 2715.0146 - val_loss: 2570.4292 - 244ms/epoch - 9ms/step\n",
      "Epoch 8/100\n",
      "26/26 - 0s - loss: 2496.3171 - val_loss: 2363.7515 - 263ms/epoch - 10ms/step\n",
      "Epoch 9/100\n",
      "26/26 - 0s - loss: 2305.4158 - val_loss: 2190.9609 - 229ms/epoch - 9ms/step\n",
      "Epoch 10/100\n",
      "26/26 - 0s - loss: 2139.1230 - val_loss: 2032.6888 - 252ms/epoch - 10ms/step\n",
      "Epoch 11/100\n",
      "26/26 - 0s - loss: 1986.2296 - val_loss: 1886.7220 - 251ms/epoch - 10ms/step\n",
      "Epoch 12/100\n",
      "26/26 - 0s - loss: 1844.9834 - val_loss: 1751.7712 - 241ms/epoch - 9ms/step\n",
      "Epoch 13/100\n",
      "26/26 - 0s - loss: 1713.3762 - val_loss: 1625.2001 - 240ms/epoch - 9ms/step\n",
      "Epoch 14/100\n",
      "26/26 - 0s - loss: 1589.8602 - val_loss: 1506.7151 - 219ms/epoch - 8ms/step\n",
      "Epoch 15/100\n",
      "26/26 - 0s - loss: 1473.6866 - val_loss: 1392.3304 - 220ms/epoch - 8ms/step\n",
      "Epoch 16/100\n",
      "26/26 - 0s - loss: 1359.5192 - val_loss: 1283.8467 - 226ms/epoch - 9ms/step\n",
      "Epoch 17/100\n",
      "26/26 - 0s - loss: 1254.4352 - val_loss: 1185.1278 - 251ms/epoch - 10ms/step\n",
      "Epoch 18/100\n",
      "26/26 - 0s - loss: 1158.0707 - val_loss: 1092.1412 - 245ms/epoch - 9ms/step\n",
      "Epoch 19/100\n",
      "26/26 - 0s - loss: 1067.7949 - val_loss: 1007.1973 - 200ms/epoch - 8ms/step\n",
      "Epoch 20/100\n",
      "26/26 - 0s - loss: 984.2029 - val_loss: 927.4318 - 235ms/epoch - 9ms/step\n",
      "Epoch 21/100\n",
      "26/26 - 0s - loss: 906.6665 - val_loss: 852.6294 - 240ms/epoch - 9ms/step\n",
      "Epoch 22/100\n",
      "26/26 - 0s - loss: 834.0925 - val_loss: 784.2280 - 220ms/epoch - 8ms/step\n",
      "Epoch 23/100\n",
      "26/26 - 0s - loss: 767.0961 - val_loss: 720.6486 - 208ms/epoch - 8ms/step\n",
      "Epoch 24/100\n",
      "26/26 - 0s - loss: 704.7147 - val_loss: 661.2616 - 220ms/epoch - 8ms/step\n",
      "Epoch 25/100\n",
      "26/26 - 0s - loss: 646.9465 - val_loss: 605.5215 - 224ms/epoch - 9ms/step\n",
      "Epoch 26/100\n",
      "26/26 - 0s - loss: 593.1633 - val_loss: 554.2075 - 224ms/epoch - 9ms/step\n",
      "Epoch 27/100\n",
      "26/26 - 0s - loss: 543.3736 - val_loss: 507.6836 - 220ms/epoch - 8ms/step\n",
      "Epoch 28/100\n",
      "26/26 - 0s - loss: 497.6049 - val_loss: 464.4691 - 220ms/epoch - 8ms/step\n",
      "Epoch 29/100\n",
      "26/26 - 0s - loss: 455.3792 - val_loss: 424.5512 - 235ms/epoch - 9ms/step\n",
      "Epoch 30/100\n",
      "26/26 - 0s - loss: 416.1119 - val_loss: 387.7432 - 226ms/epoch - 9ms/step\n",
      "Epoch 31/100\n",
      "26/26 - 0s - loss: 380.1028 - val_loss: 353.0929 - 204ms/epoch - 8ms/step\n",
      "Epoch 32/100\n",
      "26/26 - 0s - loss: 346.5696 - val_loss: 321.6644 - 240ms/epoch - 9ms/step\n",
      "Epoch 33/100\n",
      "26/26 - 0s - loss: 315.9590 - val_loss: 293.2701 - 235ms/epoch - 9ms/step\n",
      "Epoch 34/100\n",
      "26/26 - 0s - loss: 288.1229 - val_loss: 266.8602 - 241ms/epoch - 9ms/step\n",
      "Epoch 35/100\n",
      "26/26 - 0s - loss: 262.4131 - val_loss: 242.6264 - 220ms/epoch - 8ms/step\n",
      "Epoch 36/100\n",
      "26/26 - 0s - loss: 238.8214 - val_loss: 220.8342 - 284ms/epoch - 11ms/step\n",
      "Epoch 37/100\n",
      "26/26 - 0s - loss: 217.1372 - val_loss: 200.9689 - 242ms/epoch - 9ms/step\n",
      "Epoch 38/100\n",
      "26/26 - 0s - loss: 197.8253 - val_loss: 182.8396 - 232ms/epoch - 9ms/step\n",
      "Epoch 39/100\n",
      "26/26 - 0s - loss: 180.1376 - val_loss: 166.4571 - 246ms/epoch - 9ms/step\n",
      "Epoch 40/100\n",
      "26/26 - 0s - loss: 164.1669 - val_loss: 151.7832 - 235ms/epoch - 9ms/step\n",
      "Epoch 41/100\n",
      "26/26 - 0s - loss: 149.7392 - val_loss: 138.3057 - 252ms/epoch - 10ms/step\n",
      "Epoch 42/100\n",
      "26/26 - 0s - loss: 136.5260 - val_loss: 126.3996 - 251ms/epoch - 10ms/step\n",
      "Epoch 43/100\n",
      "26/26 - 0s - loss: 124.7961 - val_loss: 115.4856 - 250ms/epoch - 10ms/step\n",
      "Epoch 44/100\n",
      "26/26 - 0s - loss: 114.0763 - val_loss: 105.5601 - 214ms/epoch - 8ms/step\n",
      "Epoch 45/100\n",
      "26/26 - 0s - loss: 104.3416 - val_loss: 96.7392 - 220ms/epoch - 8ms/step\n",
      "Epoch 46/100\n",
      "26/26 - 0s - loss: 95.7730 - val_loss: 88.8743 - 211ms/epoch - 8ms/step\n",
      "Epoch 47/100\n",
      "26/26 - 0s - loss: 88.2174 - val_loss: 82.0065 - 225ms/epoch - 9ms/step\n",
      "Epoch 48/100\n",
      "26/26 - 0s - loss: 81.3142 - val_loss: 75.9774 - 220ms/epoch - 8ms/step\n",
      "Epoch 49/100\n",
      "26/26 - 0s - loss: 75.3470 - val_loss: 70.4002 - 208ms/epoch - 8ms/step\n",
      "Epoch 50/100\n",
      "26/26 - 0s - loss: 69.8441 - val_loss: 65.6918 - 223ms/epoch - 9ms/step\n",
      "Epoch 51/100\n",
      "26/26 - 0s - loss: 65.0255 - val_loss: 61.3116 - 236ms/epoch - 9ms/step\n",
      "Epoch 52/100\n",
      "26/26 - 0s - loss: 60.7518 - val_loss: 57.3340 - 220ms/epoch - 8ms/step\n",
      "Epoch 53/100\n",
      "26/26 - 0s - loss: 56.9343 - val_loss: 54.2479 - 223ms/epoch - 9ms/step\n",
      "Epoch 54/100\n",
      "26/26 - 0s - loss: 53.7520 - val_loss: 51.4887 - 205ms/epoch - 8ms/step\n",
      "Epoch 55/100\n",
      "26/26 - 0s - loss: 50.9150 - val_loss: 48.8371 - 236ms/epoch - 9ms/step\n",
      "Epoch 56/100\n",
      "26/26 - 0s - loss: 48.3105 - val_loss: 46.6437 - 223ms/epoch - 9ms/step\n",
      "Epoch 57/100\n",
      "26/26 - 0s - loss: 46.0528 - val_loss: 44.8060 - 239ms/epoch - 9ms/step\n",
      "Epoch 58/100\n",
      "26/26 - 0s - loss: 44.2313 - val_loss: 43.0700 - 225ms/epoch - 9ms/step\n",
      "Epoch 59/100\n",
      "26/26 - 0s - loss: 42.4510 - val_loss: 41.7368 - 235ms/epoch - 9ms/step\n",
      "Epoch 60/100\n",
      "26/26 - 0s - loss: 41.0010 - val_loss: 40.5689 - 224ms/epoch - 9ms/step\n",
      "Epoch 61/100\n",
      "26/26 - 0s - loss: 39.7242 - val_loss: 39.4595 - 220ms/epoch - 8ms/step\n",
      "Epoch 62/100\n",
      "26/26 - 0s - loss: 38.6318 - val_loss: 38.4879 - 243ms/epoch - 9ms/step\n",
      "Epoch 63/100\n",
      "26/26 - 0s - loss: 37.6450 - val_loss: 37.7674 - 220ms/epoch - 8ms/step\n",
      "Epoch 64/100\n",
      "26/26 - 0s - loss: 36.8987 - val_loss: 37.1274 - 204ms/epoch - 8ms/step\n",
      "Epoch 65/100\n",
      "26/26 - 0s - loss: 36.2194 - val_loss: 36.5874 - 210ms/epoch - 8ms/step\n",
      "Epoch 66/100\n",
      "26/26 - 0s - loss: 35.6659 - val_loss: 36.1501 - 237ms/epoch - 9ms/step\n",
      "Epoch 67/100\n",
      "26/26 - 0s - loss: 35.1875 - val_loss: 35.8464 - 228ms/epoch - 9ms/step\n",
      "Epoch 68/100\n",
      "26/26 - 0s - loss: 34.8037 - val_loss: 35.5492 - 234ms/epoch - 9ms/step\n",
      "Epoch 69/100\n",
      "26/26 - 0s - loss: 34.4584 - val_loss: 35.3168 - 253ms/epoch - 10ms/step\n",
      "Epoch 70/100\n",
      "26/26 - 0s - loss: 34.2142 - val_loss: 35.0735 - 246ms/epoch - 9ms/step\n",
      "Epoch 71/100\n",
      "26/26 - 0s - loss: 33.9073 - val_loss: 34.9202 - 239ms/epoch - 9ms/step\n",
      "Epoch 72/100\n",
      "26/26 - 0s - loss: 33.7020 - val_loss: 34.8033 - 233ms/epoch - 9ms/step\n",
      "Epoch 73/100\n",
      "26/26 - 0s - loss: 33.5660 - val_loss: 34.6982 - 242ms/epoch - 9ms/step\n",
      "Epoch 74/100\n",
      "26/26 - 0s - loss: 33.4311 - val_loss: 34.6257 - 266ms/epoch - 10ms/step\n",
      "Epoch 75/100\n",
      "26/26 - 0s - loss: 33.3128 - val_loss: 34.5830 - 279ms/epoch - 11ms/step\n",
      "Epoch 76/100\n",
      "26/26 - 0s - loss: 33.2429 - val_loss: 34.5189 - 235ms/epoch - 9ms/step\n",
      "Epoch 77/100\n",
      "26/26 - 0s - loss: 33.1415 - val_loss: 34.4901 - 257ms/epoch - 10ms/step\n",
      "Epoch 78/100\n",
      "26/26 - 0s - loss: 33.0872 - val_loss: 34.4603 - 251ms/epoch - 10ms/step\n",
      "Epoch 79/100\n",
      "26/26 - 0s - loss: 33.0106 - val_loss: 34.4340 - 241ms/epoch - 9ms/step\n",
      "Epoch 80/100\n",
      "26/26 - 0s - loss: 32.9852 - val_loss: 34.4260 - 251ms/epoch - 10ms/step\n",
      "Epoch 81/100\n",
      "26/26 - 0s - loss: 32.9337 - val_loss: 34.4150 - 257ms/epoch - 10ms/step\n",
      "Epoch 82/100\n",
      "26/26 - 0s - loss: 32.9027 - val_loss: 34.4093 - 251ms/epoch - 10ms/step\n",
      "Epoch 83/100\n",
      "26/26 - 0s - loss: 32.8736 - val_loss: 34.4082 - 225ms/epoch - 9ms/step\n",
      "Epoch 84/100\n",
      "26/26 - 0s - loss: 32.8618 - val_loss: 34.4101 - 235ms/epoch - 9ms/step\n",
      "Epoch 85/100\n",
      "26/26 - 0s - loss: 32.8453 - val_loss: 34.4108 - 233ms/epoch - 9ms/step\n",
      "Epoch 86/100\n",
      "26/26 - 0s - loss: 32.8438 - val_loss: 34.4202 - 251ms/epoch - 10ms/step\n",
      "Epoch 87/100\n",
      "26/26 - 0s - loss: 32.8215 - val_loss: 34.4256 - 220ms/epoch - 8ms/step\n",
      "Epoch 88/100\n",
      "26/26 - 0s - loss: 32.8203 - val_loss: 34.4245 - 238ms/epoch - 9ms/step\n",
      "Epoch 89/100\n",
      "26/26 - 0s - loss: 32.8099 - val_loss: 34.4265 - 236ms/epoch - 9ms/step\n",
      "Epoch 90/100\n",
      "26/26 - 0s - loss: 32.8053 - val_loss: 34.4415 - 255ms/epoch - 10ms/step\n",
      "Epoch 91/100\n",
      "26/26 - 0s - loss: 32.8003 - val_loss: 34.4493 - 235ms/epoch - 9ms/step\n",
      "Epoch 92/100\n",
      "26/26 - 0s - loss: 32.8095 - val_loss: 34.4590 - 283ms/epoch - 11ms/step\n",
      "Epoch 93/100\n",
      "26/26 - 0s - loss: 32.7913 - val_loss: 34.4477 - 236ms/epoch - 9ms/step\n",
      "Epoch 94/100\n",
      "26/26 - 0s - loss: 32.8069 - val_loss: 34.4428 - 272ms/epoch - 10ms/step\n",
      "Epoch 95/100\n",
      "26/26 - 0s - loss: 32.8008 - val_loss: 34.4464 - 260ms/epoch - 10ms/step\n",
      "Epoch 96/100\n",
      "26/26 - 0s - loss: 32.8018 - val_loss: 34.4447 - 283ms/epoch - 11ms/step\n",
      "Epoch 97/100\n",
      "26/26 - 0s - loss: 32.8027 - val_loss: 34.4612 - 277ms/epoch - 11ms/step\n",
      "Epoch 98/100\n",
      "26/26 - 0s - loss: 32.8080 - val_loss: 34.4503 - 287ms/epoch - 11ms/step\n",
      "Epoch 99/100\n",
      "26/26 - 0s - loss: 32.7951 - val_loss: 34.4601 - 280ms/epoch - 11ms/step\n",
      "Epoch 100/100\n",
      "26/26 - 0s - loss: 32.7949 - val_loss: 34.4698 - 278ms/epoch - 11ms/step\n"
     ]
    },
    {
     "data": {
      "text/plain": "<Figure size 432x288 with 1 Axes>",
      "image/png": "[encoded data removed]"
     },
     "metadata": {
      "needs_background": "light"
     },
     "output_type": "display_data"
    },
    {
     "data": {
      "text/plain": "(5.2277625189887145, -0.042483073750851474, 0.2666224235482704)"
     },
     "execution_count": 26,
     "metadata": {},
     "output_type": "execute_result"
    }
   ],
   "source": [
    "rnn_regression1(X,y, batch_size=5,test_size=0.1)"
   ],
   "metadata": {
    "collapsed": false
   }
  },
  {
   "cell_type": "code",
   "execution_count": 33,
   "outputs": [
    {
     "name": "stdout",
     "output_type": "stream",
     "text": [
      "Epoch 1/200\n",
      "13/13 - 2s - loss: 5101.0488 - val_loss: 5019.2896 - 2s/epoch - 127ms/step\n",
      "Epoch 2/200\n",
      "13/13 - 0s - loss: 4978.0029 - val_loss: 4873.4004 - 206ms/epoch - 16ms/step\n",
      "Epoch 3/200\n",
      "13/13 - 0s - loss: 4816.4565 - val_loss: 4710.4126 - 149ms/epoch - 11ms/step\n",
      "Epoch 4/200\n",
      "13/13 - 0s - loss: 4633.5508 - val_loss: 4496.1230 - 141ms/epoch - 11ms/step\n",
      "Epoch 5/200\n",
      "13/13 - 0s - loss: 4406.1509 - val_loss: 4253.3726 - 142ms/epoch - 11ms/step\n",
      "Epoch 6/200\n",
      "13/13 - 0s - loss: 4164.7100 - val_loss: 4008.4705 - 125ms/epoch - 10ms/step\n",
      "Epoch 7/200\n",
      "13/13 - 0s - loss: 3921.5891 - val_loss: 3745.0703 - 135ms/epoch - 10ms/step\n",
      "Epoch 8/200\n",
      "13/13 - 0s - loss: 3666.5044 - val_loss: 3512.9958 - 125ms/epoch - 10ms/step\n",
      "Epoch 9/200\n",
      "13/13 - 0s - loss: 3456.0513 - val_loss: 3318.5356 - 126ms/epoch - 10ms/step\n",
      "Epoch 10/200\n",
      "13/13 - 0s - loss: 3271.6477 - val_loss: 3149.2886 - 110ms/epoch - 8ms/step\n",
      "Epoch 11/200\n",
      "13/13 - 0s - loss: 3106.0642 - val_loss: 2998.7249 - 115ms/epoch - 9ms/step\n",
      "Epoch 12/200\n",
      "13/13 - 0s - loss: 2968.1023 - val_loss: 2867.5491 - 126ms/epoch - 10ms/step\n",
      "Epoch 13/200\n",
      "13/13 - 0s - loss: 2839.6990 - val_loss: 2746.3406 - 146ms/epoch - 11ms/step\n",
      "Epoch 14/200\n",
      "13/13 - 0s - loss: 2723.4309 - val_loss: 2636.7888 - 155ms/epoch - 12ms/step\n",
      "Epoch 15/200\n",
      "13/13 - 0s - loss: 2616.5173 - val_loss: 2533.5471 - 135ms/epoch - 10ms/step\n",
      "Epoch 16/200\n",
      "13/13 - 0s - loss: 2515.5918 - val_loss: 2437.4114 - 131ms/epoch - 10ms/step\n",
      "Epoch 17/200\n",
      "13/13 - 0s - loss: 2421.1912 - val_loss: 2344.9377 - 129ms/epoch - 10ms/step\n",
      "Epoch 18/200\n",
      "13/13 - 0s - loss: 2326.7795 - val_loss: 2247.5579 - 131ms/epoch - 10ms/step\n",
      "Epoch 19/200\n",
      "13/13 - 0s - loss: 2230.8186 - val_loss: 2159.3804 - 137ms/epoch - 11ms/step\n",
      "Epoch 20/200\n",
      "13/13 - 0s - loss: 2144.9631 - val_loss: 2076.2485 - 132ms/epoch - 10ms/step\n",
      "Epoch 21/200\n",
      "13/13 - 0s - loss: 2063.3555 - val_loss: 1996.9224 - 134ms/epoch - 10ms/step\n",
      "Epoch 22/200\n",
      "13/13 - 0s - loss: 1985.3162 - val_loss: 1921.2764 - 128ms/epoch - 10ms/step\n",
      "Epoch 23/200\n",
      "13/13 - 0s - loss: 1910.5364 - val_loss: 1849.0636 - 140ms/epoch - 11ms/step\n",
      "Epoch 24/200\n",
      "13/13 - 0s - loss: 1839.2798 - val_loss: 1779.4868 - 133ms/epoch - 10ms/step\n",
      "Epoch 25/200\n",
      "13/13 - 0s - loss: 1770.5342 - val_loss: 1712.4988 - 124ms/epoch - 10ms/step\n",
      "Epoch 26/200\n",
      "13/13 - 0s - loss: 1704.1630 - val_loss: 1648.2520 - 138ms/epoch - 11ms/step\n",
      "Epoch 27/200\n",
      "13/13 - 0s - loss: 1640.7399 - val_loss: 1585.8802 - 131ms/epoch - 10ms/step\n",
      "Epoch 28/200\n",
      "13/13 - 0s - loss: 1579.0197 - val_loss: 1526.1052 - 128ms/epoch - 10ms/step\n",
      "Epoch 29/200\n",
      "13/13 - 0s - loss: 1519.5039 - val_loss: 1468.5770 - 127ms/epoch - 10ms/step\n",
      "Epoch 30/200\n",
      "13/13 - 0s - loss: 1462.5396 - val_loss: 1412.5428 - 116ms/epoch - 9ms/step\n",
      "Epoch 31/200\n",
      "13/13 - 0s - loss: 1407.2189 - val_loss: 1358.5768 - 125ms/epoch - 10ms/step\n",
      "Epoch 32/200\n",
      "13/13 - 0s - loss: 1353.4957 - val_loss: 1306.8286 - 145ms/epoch - 11ms/step\n",
      "Epoch 33/200\n",
      "13/13 - 0s - loss: 1302.2206 - val_loss: 1256.3208 - 122ms/epoch - 9ms/step\n",
      "Epoch 34/200\n",
      "13/13 - 0s - loss: 1252.1274 - val_loss: 1207.7738 - 132ms/epoch - 10ms/step\n",
      "Epoch 35/200\n",
      "13/13 - 0s - loss: 1204.0482 - val_loss: 1160.8092 - 116ms/epoch - 9ms/step\n",
      "Epoch 36/200\n",
      "13/13 - 0s - loss: 1157.4513 - val_loss: 1115.5743 - 141ms/epoch - 11ms/step\n",
      "Epoch 37/200\n",
      "13/13 - 0s - loss: 1112.4569 - val_loss: 1072.0165 - 125ms/epoch - 10ms/step\n",
      "Epoch 38/200\n",
      "13/13 - 0s - loss: 1068.9818 - val_loss: 1030.0139 - 100ms/epoch - 8ms/step\n",
      "Epoch 39/200\n",
      "13/13 - 0s - loss: 1027.2792 - val_loss: 989.0555 - 126ms/epoch - 10ms/step\n",
      "Epoch 40/200\n",
      "13/13 - 0s - loss: 986.6577 - val_loss: 949.5983 - 138ms/epoch - 11ms/step\n",
      "Epoch 41/200\n",
      "13/13 - 0s - loss: 947.4783 - val_loss: 911.5032 - 110ms/epoch - 8ms/step\n",
      "Epoch 42/200\n",
      "13/13 - 0s - loss: 909.5305 - val_loss: 874.9571 - 115ms/epoch - 9ms/step\n",
      "Epoch 43/200\n",
      "13/13 - 0s - loss: 873.2642 - val_loss: 839.2468 - 108ms/epoch - 8ms/step\n",
      "Epoch 44/200\n",
      "13/13 - 0s - loss: 837.9691 - val_loss: 804.9103 - 125ms/epoch - 10ms/step\n",
      "Epoch 45/200\n",
      "13/13 - 0s - loss: 803.8326 - val_loss: 772.0419 - 110ms/epoch - 8ms/step\n",
      "Epoch 46/200\n",
      "13/13 - 0s - loss: 771.0481 - val_loss: 740.2089 - 141ms/epoch - 11ms/step\n",
      "Epoch 47/200\n",
      "13/13 - 0s - loss: 739.4009 - val_loss: 709.4830 - 114ms/epoch - 9ms/step\n",
      "Epoch 48/200\n",
      "13/13 - 0s - loss: 708.8895 - val_loss: 679.8650 - 134ms/epoch - 10ms/step\n",
      "Epoch 49/200\n",
      "13/13 - 0s - loss: 679.2908 - val_loss: 651.5370 - 122ms/epoch - 9ms/step\n",
      "Epoch 50/200\n",
      "13/13 - 0s - loss: 651.1818 - val_loss: 623.9260 - 110ms/epoch - 8ms/step\n",
      "Epoch 51/200\n",
      "13/13 - 0s - loss: 623.7210 - val_loss: 597.4603 - 132ms/epoch - 10ms/step\n",
      "Epoch 52/200\n",
      "13/13 - 0s - loss: 597.4777 - val_loss: 571.8655 - 141ms/epoch - 11ms/step\n",
      "Epoch 53/200\n",
      "13/13 - 0s - loss: 572.0746 - val_loss: 547.2618 - 141ms/epoch - 11ms/step\n",
      "Epoch 54/200\n",
      "13/13 - 0s - loss: 547.4876 - val_loss: 523.8043 - 131ms/epoch - 10ms/step\n",
      "Epoch 55/200\n",
      "13/13 - 0s - loss: 523.9825 - val_loss: 501.1856 - 125ms/epoch - 10ms/step\n",
      "Epoch 56/200\n",
      "13/13 - 0s - loss: 501.5388 - val_loss: 479.1615 - 126ms/epoch - 10ms/step\n",
      "Epoch 57/200\n",
      "13/13 - 0s - loss: 479.7247 - val_loss: 458.1357 - 141ms/epoch - 11ms/step\n",
      "Epoch 58/200\n",
      "13/13 - 0s - loss: 458.8356 - val_loss: 437.9477 - 135ms/epoch - 10ms/step\n",
      "Epoch 59/200\n",
      "13/13 - 0s - loss: 438.7514 - val_loss: 418.5920 - 121ms/epoch - 9ms/step\n",
      "Epoch 60/200\n",
      "13/13 - 0s - loss: 419.3939 - val_loss: 400.0494 - 125ms/epoch - 10ms/step\n",
      "Epoch 61/200\n",
      "13/13 - 0s - loss: 400.9908 - val_loss: 382.0956 - 141ms/epoch - 11ms/step\n",
      "Epoch 62/200\n",
      "13/13 - 0s - loss: 383.1122 - val_loss: 365.0428 - 116ms/epoch - 9ms/step\n",
      "Epoch 63/200\n",
      "13/13 - 0s - loss: 366.0088 - val_loss: 348.6976 - 125ms/epoch - 10ms/step\n",
      "Epoch 64/200\n",
      "13/13 - 0s - loss: 349.7816 - val_loss: 332.8171 - 126ms/epoch - 10ms/step\n",
      "Epoch 65/200\n",
      "13/13 - 0s - loss: 333.9254 - val_loss: 317.8447 - 125ms/epoch - 10ms/step\n",
      "Epoch 66/200\n",
      "13/13 - 0s - loss: 319.0626 - val_loss: 303.2746 - 122ms/epoch - 9ms/step\n",
      "Epoch 67/200\n",
      "13/13 - 0s - loss: 304.5549 - val_loss: 289.4286 - 139ms/epoch - 11ms/step\n",
      "Epoch 68/200\n",
      "13/13 - 0s - loss: 290.7571 - val_loss: 276.2198 - 129ms/epoch - 10ms/step\n",
      "Epoch 69/200\n",
      "13/13 - 0s - loss: 277.5099 - val_loss: 263.7406 - 130ms/epoch - 10ms/step\n",
      "Epoch 70/200\n",
      "13/13 - 0s - loss: 265.0151 - val_loss: 251.5959 - 126ms/epoch - 10ms/step\n",
      "Epoch 71/200\n",
      "13/13 - 0s - loss: 252.9395 - val_loss: 239.9999 - 129ms/epoch - 10ms/step\n",
      "Epoch 72/200\n",
      "13/13 - 0s - loss: 241.1983 - val_loss: 229.1209 - 137ms/epoch - 11ms/step\n",
      "Epoch 73/200\n",
      "13/13 - 0s - loss: 230.3633 - val_loss: 218.4834 - 134ms/epoch - 10ms/step\n",
      "Epoch 74/200\n",
      "13/13 - 0s - loss: 219.7771 - val_loss: 208.3408 - 139ms/epoch - 11ms/step\n",
      "Epoch 75/200\n",
      "13/13 - 0s - loss: 209.7441 - val_loss: 198.6150 - 132ms/epoch - 10ms/step\n",
      "Epoch 76/200\n",
      "13/13 - 0s - loss: 200.0954 - val_loss: 189.4367 - 137ms/epoch - 11ms/step\n",
      "Epoch 77/200\n",
      "13/13 - 0s - loss: 190.8303 - val_loss: 180.8329 - 139ms/epoch - 11ms/step\n",
      "Epoch 78/200\n",
      "13/13 - 0s - loss: 182.0889 - val_loss: 172.6534 - 169ms/epoch - 13ms/step\n",
      "Epoch 79/200\n",
      "13/13 - 0s - loss: 173.8526 - val_loss: 164.7135 - 147ms/epoch - 11ms/step\n",
      "Epoch 80/200\n",
      "13/13 - 0s - loss: 165.8996 - val_loss: 157.1390 - 149ms/epoch - 11ms/step\n",
      "Epoch 81/200\n",
      "13/13 - 0s - loss: 158.3896 - val_loss: 149.8757 - 143ms/epoch - 11ms/step\n",
      "Epoch 82/200\n",
      "13/13 - 0s - loss: 151.1301 - val_loss: 143.0966 - 137ms/epoch - 11ms/step\n",
      "Epoch 83/200\n",
      "13/13 - 0s - loss: 144.3913 - val_loss: 136.5840 - 133ms/epoch - 10ms/step\n",
      "Epoch 84/200\n",
      "13/13 - 0s - loss: 137.7993 - val_loss: 130.5146 - 149ms/epoch - 11ms/step\n",
      "Epoch 85/200\n",
      "13/13 - 0s - loss: 131.6875 - val_loss: 124.6758 - 125ms/epoch - 10ms/step\n",
      "Epoch 86/200\n",
      "13/13 - 0s - loss: 125.8568 - val_loss: 119.1406 - 145ms/epoch - 11ms/step\n",
      "Epoch 87/200\n",
      "13/13 - 0s - loss: 120.2696 - val_loss: 113.9529 - 138ms/epoch - 11ms/step\n",
      "Epoch 88/200\n",
      "13/13 - 0s - loss: 115.1121 - val_loss: 108.9159 - 133ms/epoch - 10ms/step\n",
      "Epoch 89/200\n",
      "13/13 - 0s - loss: 110.0824 - val_loss: 104.1889 - 141ms/epoch - 11ms/step\n",
      "Epoch 90/200\n",
      "13/13 - 0s - loss: 105.2036 - val_loss: 99.9540 - 125ms/epoch - 10ms/step\n",
      "Epoch 91/200\n",
      "13/13 - 0s - loss: 100.9842 - val_loss: 95.6480 - 125ms/epoch - 10ms/step\n",
      "Epoch 92/200\n",
      "13/13 - 0s - loss: 96.5935 - val_loss: 91.7739 - 151ms/epoch - 12ms/step\n",
      "Epoch 93/200\n",
      "13/13 - 0s - loss: 92.6495 - val_loss: 88.0261 - 141ms/epoch - 11ms/step\n",
      "Epoch 94/200\n",
      "13/13 - 0s - loss: 88.8804 - val_loss: 84.4901 - 141ms/epoch - 11ms/step\n",
      "Epoch 95/200\n",
      "13/13 - 0s - loss: 85.3310 - val_loss: 81.1680 - 134ms/epoch - 10ms/step\n",
      "Epoch 96/200\n",
      "13/13 - 0s - loss: 81.9484 - val_loss: 78.0465 - 125ms/epoch - 10ms/step\n",
      "Epoch 97/200\n",
      "13/13 - 0s - loss: 78.7616 - val_loss: 75.0893 - 141ms/epoch - 11ms/step\n",
      "Epoch 98/200\n",
      "13/13 - 0s - loss: 75.8270 - val_loss: 72.2276 - 141ms/epoch - 11ms/step\n",
      "Epoch 99/200\n",
      "13/13 - 0s - loss: 72.9708 - val_loss: 69.5967 - 117ms/epoch - 9ms/step\n",
      "Epoch 100/200\n",
      "13/13 - 0s - loss: 70.2067 - val_loss: 67.2471 - 142ms/epoch - 11ms/step\n",
      "Epoch 101/200\n",
      "13/13 - 0s - loss: 67.7706 - val_loss: 64.9216 - 141ms/epoch - 11ms/step\n",
      "Epoch 102/200\n",
      "13/13 - 0s - loss: 65.4686 - val_loss: 62.6876 - 125ms/epoch - 10ms/step\n",
      "Epoch 103/200\n",
      "13/13 - 0s - loss: 63.1760 - val_loss: 60.6875 - 121ms/epoch - 9ms/step\n",
      "Epoch 104/200\n",
      "13/13 - 0s - loss: 61.0651 - val_loss: 58.8534 - 125ms/epoch - 10ms/step\n",
      "Epoch 105/200\n",
      "13/13 - 0s - loss: 59.1772 - val_loss: 57.0392 - 125ms/epoch - 10ms/step\n",
      "Epoch 106/200\n",
      "13/13 - 0s - loss: 57.3390 - val_loss: 55.3448 - 126ms/epoch - 10ms/step\n",
      "Epoch 107/200\n",
      "13/13 - 0s - loss: 55.5693 - val_loss: 53.7841 - 130ms/epoch - 10ms/step\n",
      "Epoch 108/200\n",
      "13/13 - 0s - loss: 53.9686 - val_loss: 52.3165 - 125ms/epoch - 10ms/step\n",
      "Epoch 109/200\n",
      "13/13 - 0s - loss: 52.4645 - val_loss: 50.9463 - 126ms/epoch - 10ms/step\n",
      "Epoch 110/200\n",
      "13/13 - 0s - loss: 51.0549 - val_loss: 49.6712 - 115ms/epoch - 9ms/step\n",
      "Epoch 111/200\n",
      "13/13 - 0s - loss: 49.7726 - val_loss: 48.4615 - 132ms/epoch - 10ms/step\n",
      "Epoch 112/200\n",
      "13/13 - 0s - loss: 48.4650 - val_loss: 47.4002 - 144ms/epoch - 11ms/step\n",
      "Epoch 113/200\n",
      "13/13 - 0s - loss: 47.3472 - val_loss: 46.3510 - 139ms/epoch - 11ms/step\n",
      "Epoch 114/200\n",
      "13/13 - 0s - loss: 46.2618 - val_loss: 45.3763 - 115ms/epoch - 9ms/step\n",
      "Epoch 115/200\n",
      "13/13 - 0s - loss: 45.2457 - val_loss: 44.4821 - 116ms/epoch - 9ms/step\n",
      "Epoch 116/200\n",
      "13/13 - 0s - loss: 44.3115 - val_loss: 43.6313 - 119ms/epoch - 9ms/step\n",
      "Epoch 117/200\n",
      "13/13 - 0s - loss: 43.3860 - val_loss: 42.8993 - 141ms/epoch - 11ms/step\n",
      "Epoch 118/200\n",
      "13/13 - 0s - loss: 42.6194 - val_loss: 42.1553 - 124ms/epoch - 10ms/step\n",
      "Epoch 119/200\n",
      "13/13 - 0s - loss: 41.8555 - val_loss: 41.4802 - 126ms/epoch - 10ms/step\n",
      "Epoch 120/200\n",
      "13/13 - 0s - loss: 41.1251 - val_loss: 40.9012 - 141ms/epoch - 11ms/step\n",
      "Epoch 121/200\n",
      "13/13 - 0s - loss: 40.5222 - val_loss: 40.3012 - 142ms/epoch - 11ms/step\n",
      "Epoch 122/200\n",
      "13/13 - 0s - loss: 39.8834 - val_loss: 39.7674 - 140ms/epoch - 11ms/step\n",
      "Epoch 123/200\n",
      "13/13 - 0s - loss: 39.2992 - val_loss: 39.2908 - 128ms/epoch - 10ms/step\n",
      "Epoch 124/200\n",
      "13/13 - 0s - loss: 38.7800 - val_loss: 38.8559 - 137ms/epoch - 11ms/step\n",
      "Epoch 125/200\n",
      "13/13 - 0s - loss: 38.2607 - val_loss: 38.4910 - 130ms/epoch - 10ms/step\n",
      "Epoch 126/200\n",
      "13/13 - 0s - loss: 37.8546 - val_loss: 38.0964 - 140ms/epoch - 11ms/step\n",
      "Epoch 127/200\n",
      "13/13 - 0s - loss: 37.4333 - val_loss: 37.7365 - 132ms/epoch - 10ms/step\n",
      "Epoch 128/200\n",
      "13/13 - 0s - loss: 37.0274 - val_loss: 37.4355 - 129ms/epoch - 10ms/step\n",
      "Epoch 129/200\n",
      "13/13 - 0s - loss: 36.7034 - val_loss: 37.1202 - 133ms/epoch - 10ms/step\n",
      "Epoch 130/200\n",
      "13/13 - 0s - loss: 36.3487 - val_loss: 36.8542 - 133ms/epoch - 10ms/step\n",
      "Epoch 131/200\n",
      "13/13 - 0s - loss: 36.0510 - val_loss: 36.6040 - 143ms/epoch - 11ms/step\n",
      "Epoch 132/200\n",
      "13/13 - 0s - loss: 35.7403 - val_loss: 36.4196 - 136ms/epoch - 10ms/step\n",
      "Epoch 133/200\n",
      "13/13 - 0s - loss: 35.5222 - val_loss: 36.1760 - 139ms/epoch - 11ms/step\n",
      "Epoch 134/200\n",
      "13/13 - 0s - loss: 35.2614 - val_loss: 35.9776 - 134ms/epoch - 10ms/step\n",
      "Epoch 135/200\n",
      "13/13 - 0s - loss: 35.0454 - val_loss: 35.7995 - 135ms/epoch - 10ms/step\n",
      "Epoch 136/200\n",
      "13/13 - 0s - loss: 34.8421 - val_loss: 35.6354 - 126ms/epoch - 10ms/step\n",
      "Epoch 137/200\n",
      "13/13 - 0s - loss: 34.6257 - val_loss: 35.5109 - 132ms/epoch - 10ms/step\n",
      "Epoch 138/200\n",
      "13/13 - 0s - loss: 34.4839 - val_loss: 35.3692 - 125ms/epoch - 10ms/step\n",
      "Epoch 139/200\n",
      "13/13 - 0s - loss: 34.3152 - val_loss: 35.2564 - 114ms/epoch - 9ms/step\n",
      "Epoch 140/200\n",
      "13/13 - 0s - loss: 34.1688 - val_loss: 35.1592 - 141ms/epoch - 11ms/step\n",
      "Epoch 141/200\n",
      "13/13 - 0s - loss: 34.0654 - val_loss: 35.0595 - 131ms/epoch - 10ms/step\n",
      "Epoch 142/200\n",
      "13/13 - 0s - loss: 33.9226 - val_loss: 34.9883 - 126ms/epoch - 10ms/step\n",
      "Epoch 143/200\n",
      "13/13 - 0s - loss: 33.8374 - val_loss: 34.9095 - 125ms/epoch - 10ms/step\n",
      "Epoch 144/200\n",
      "13/13 - 0s - loss: 33.7177 - val_loss: 34.8603 - 110ms/epoch - 8ms/step\n",
      "Epoch 145/200\n",
      "13/13 - 0s - loss: 33.6499 - val_loss: 34.7906 - 131ms/epoch - 10ms/step\n",
      "Epoch 146/200\n",
      "13/13 - 0s - loss: 33.5524 - val_loss: 34.7426 - 126ms/epoch - 10ms/step\n",
      "Epoch 147/200\n",
      "13/13 - 0s - loss: 33.4920 - val_loss: 34.6909 - 157ms/epoch - 12ms/step\n",
      "Epoch 148/200\n",
      "13/13 - 0s - loss: 33.4186 - val_loss: 34.6440 - 146ms/epoch - 11ms/step\n",
      "Epoch 149/200\n",
      "13/13 - 0s - loss: 33.3499 - val_loss: 34.6180 - 125ms/epoch - 10ms/step\n",
      "Epoch 150/200\n",
      "13/13 - 0s - loss: 33.2990 - val_loss: 34.5913 - 141ms/epoch - 11ms/step\n",
      "Epoch 151/200\n",
      "13/13 - 0s - loss: 33.2651 - val_loss: 34.5548 - 141ms/epoch - 11ms/step\n",
      "Epoch 152/200\n",
      "13/13 - 0s - loss: 33.2078 - val_loss: 34.5285 - 146ms/epoch - 11ms/step\n",
      "Epoch 153/200\n",
      "13/13 - 0s - loss: 33.1621 - val_loss: 34.5115 - 129ms/epoch - 10ms/step\n",
      "Epoch 154/200\n",
      "13/13 - 0s - loss: 33.1400 - val_loss: 34.4886 - 141ms/epoch - 11ms/step\n",
      "Epoch 155/200\n",
      "13/13 - 0s - loss: 33.0888 - val_loss: 34.4774 - 141ms/epoch - 11ms/step\n",
      "Epoch 156/200\n",
      "13/13 - 0s - loss: 33.0615 - val_loss: 34.4665 - 131ms/epoch - 10ms/step\n",
      "Epoch 157/200\n",
      "13/13 - 0s - loss: 33.0511 - val_loss: 34.4498 - 157ms/epoch - 12ms/step\n",
      "Epoch 158/200\n",
      "13/13 - 0s - loss: 33.0083 - val_loss: 34.4416 - 141ms/epoch - 11ms/step\n",
      "Epoch 159/200\n",
      "13/13 - 0s - loss: 32.9966 - val_loss: 34.4371 - 130ms/epoch - 10ms/step\n",
      "Epoch 160/200\n",
      "13/13 - 0s - loss: 32.9728 - val_loss: 34.4276 - 157ms/epoch - 12ms/step\n",
      "Epoch 161/200\n",
      "13/13 - 0s - loss: 32.9568 - val_loss: 34.4226 - 141ms/epoch - 11ms/step\n",
      "Epoch 162/200\n",
      "13/13 - 0s - loss: 32.9372 - val_loss: 34.4175 - 125ms/epoch - 10ms/step\n",
      "Epoch 163/200\n",
      "13/13 - 0s - loss: 32.9238 - val_loss: 34.4148 - 134ms/epoch - 10ms/step\n",
      "Epoch 164/200\n",
      "13/13 - 0s - loss: 32.9071 - val_loss: 34.4114 - 141ms/epoch - 11ms/step\n",
      "Epoch 165/200\n",
      "13/13 - 0s - loss: 32.8876 - val_loss: 34.4103 - 141ms/epoch - 11ms/step\n",
      "Epoch 166/200\n",
      "13/13 - 0s - loss: 32.8827 - val_loss: 34.4090 - 132ms/epoch - 10ms/step\n",
      "Epoch 167/200\n",
      "13/13 - 0s - loss: 32.8642 - val_loss: 34.4091 - 156ms/epoch - 12ms/step\n",
      "Epoch 168/200\n",
      "13/13 - 0s - loss: 32.8516 - val_loss: 34.4096 - 142ms/epoch - 11ms/step\n",
      "Epoch 169/200\n",
      "13/13 - 0s - loss: 32.8530 - val_loss: 34.4115 - 141ms/epoch - 11ms/step\n",
      "Epoch 170/200\n",
      "13/13 - 0s - loss: 32.8403 - val_loss: 34.4117 - 147ms/epoch - 11ms/step\n",
      "Epoch 171/200\n",
      "13/13 - 0s - loss: 32.8317 - val_loss: 34.4142 - 158ms/epoch - 12ms/step\n",
      "Epoch 172/200\n",
      "13/13 - 0s - loss: 32.8324 - val_loss: 34.4171 - 145ms/epoch - 11ms/step\n",
      "Epoch 173/200\n",
      "13/13 - 0s - loss: 32.8194 - val_loss: 34.4200 - 145ms/epoch - 11ms/step\n",
      "Epoch 174/200\n",
      "13/13 - 0s - loss: 32.8147 - val_loss: 34.4206 - 145ms/epoch - 11ms/step\n",
      "Epoch 175/200\n",
      "13/13 - 0s - loss: 32.8187 - val_loss: 34.4259 - 159ms/epoch - 12ms/step\n",
      "Epoch 176/200\n",
      "13/13 - 0s - loss: 32.8095 - val_loss: 34.4266 - 148ms/epoch - 11ms/step\n",
      "Epoch 177/200\n",
      "13/13 - 0s - loss: 32.8065 - val_loss: 34.4303 - 158ms/epoch - 12ms/step\n",
      "Epoch 178/200\n",
      "13/13 - 0s - loss: 32.8075 - val_loss: 34.4345 - 166ms/epoch - 13ms/step\n",
      "Epoch 179/200\n",
      "13/13 - 0s - loss: 32.8038 - val_loss: 34.4328 - 156ms/epoch - 12ms/step\n",
      "Epoch 180/200\n",
      "13/13 - 0s - loss: 32.7999 - val_loss: 34.4360 - 155ms/epoch - 12ms/step\n",
      "Epoch 181/200\n",
      "13/13 - 0s - loss: 32.7979 - val_loss: 34.4370 - 151ms/epoch - 12ms/step\n",
      "Epoch 182/200\n",
      "13/13 - 0s - loss: 32.7984 - val_loss: 34.4400 - 146ms/epoch - 11ms/step\n",
      "Epoch 183/200\n",
      "13/13 - 0s - loss: 32.7972 - val_loss: 34.4442 - 154ms/epoch - 12ms/step\n",
      "Epoch 184/200\n",
      "13/13 - 0s - loss: 32.7957 - val_loss: 34.4436 - 157ms/epoch - 12ms/step\n",
      "Epoch 185/200\n",
      "13/13 - 0s - loss: 32.7927 - val_loss: 34.4457 - 154ms/epoch - 12ms/step\n",
      "Epoch 186/200\n",
      "13/13 - 0s - loss: 32.7936 - val_loss: 34.4520 - 159ms/epoch - 12ms/step\n",
      "Epoch 187/200\n",
      "13/13 - 0s - loss: 32.7964 - val_loss: 34.4524 - 139ms/epoch - 11ms/step\n",
      "Epoch 188/200\n",
      "13/13 - 0s - loss: 32.7901 - val_loss: 34.4531 - 141ms/epoch - 11ms/step\n",
      "Epoch 189/200\n",
      "13/13 - 0s - loss: 32.7906 - val_loss: 34.4533 - 142ms/epoch - 11ms/step\n",
      "Epoch 190/200\n",
      "13/13 - 0s - loss: 32.7978 - val_loss: 34.4626 - 163ms/epoch - 13ms/step\n",
      "Epoch 191/200\n",
      "13/13 - 0s - loss: 32.7873 - val_loss: 34.4634 - 126ms/epoch - 10ms/step\n",
      "Epoch 192/200\n",
      "13/13 - 0s - loss: 32.7941 - val_loss: 34.4647 - 141ms/epoch - 11ms/step\n",
      "Epoch 193/200\n",
      "13/13 - 0s - loss: 32.7862 - val_loss: 34.4659 - 147ms/epoch - 11ms/step\n",
      "Epoch 194/200\n",
      "13/13 - 0s - loss: 32.7896 - val_loss: 34.4729 - 125ms/epoch - 10ms/step\n",
      "Epoch 195/200\n",
      "13/13 - 0s - loss: 32.7892 - val_loss: 34.4686 - 141ms/epoch - 11ms/step\n",
      "Epoch 196/200\n",
      "13/13 - 0s - loss: 32.7905 - val_loss: 34.4747 - 141ms/epoch - 11ms/step\n",
      "Epoch 197/200\n",
      "13/13 - 0s - loss: 32.7924 - val_loss: 34.4795 - 135ms/epoch - 10ms/step\n",
      "Epoch 198/200\n",
      "13/13 - 0s - loss: 32.7852 - val_loss: 34.4812 - 158ms/epoch - 12ms/step\n",
      "Epoch 199/200\n",
      "13/13 - 0s - loss: 32.7871 - val_loss: 34.4766 - 156ms/epoch - 12ms/step\n",
      "Epoch 200/200\n",
      "13/13 - 0s - loss: 32.7857 - val_loss: 34.4772 - 125ms/epoch - 10ms/step\n"
     ]
    },
    {
     "data": {
      "text/plain": "<Figure size 432x288 with 1 Axes>",
      "image/png": "[encoded data removed]"
     },
     "metadata": {
      "needs_background": "light"
     },
     "output_type": "display_data"
    },
    {
     "data": {
      "text/plain": "(5.227769300672742, -0.041730005665734815, 0.2653599399319421)"
     },
     "execution_count": 33,
     "metadata": {},
     "output_type": "execute_result"
    }
   ],
   "source": [
    "rnn_regression1(X,y, num_epochs=200, batch_size=10,test_size=0.1)"
   ],
   "metadata": {
    "collapsed": false
   }
  },
  {
   "cell_type": "code",
   "execution_count": 37,
   "outputs": [],
   "source": [
    "df_full = pd.read_csv(bert_data_512)\n",
    "Xf = df_full"
   ],
   "metadata": {
    "collapsed": false
   }
  },
  {
   "cell_type": "code",
   "execution_count": 24,
   "outputs": [
    {
     "name": "stdout",
     "output_type": "stream",
     "text": [
      "Epoch 1/100\n",
      "26/26 - 2s - loss: 4827.7466 - val_loss: 4527.5088 - 2s/epoch - 76ms/step\n",
      "Epoch 2/100\n",
      "26/26 - 0s - loss: 4277.5747 - val_loss: 3904.8181 - 286ms/epoch - 11ms/step\n",
      "Epoch 3/100\n",
      "26/26 - 0s - loss: 3598.0051 - val_loss: 3223.7849 - 251ms/epoch - 10ms/step\n",
      "Epoch 4/100\n",
      "26/26 - 0s - loss: 3011.6631 - val_loss: 2740.4353 - 244ms/epoch - 9ms/step\n",
      "Epoch 5/100\n",
      "26/26 - 0s - loss: 2588.4885 - val_loss: 2375.4038 - 266ms/epoch - 10ms/step\n",
      "Epoch 6/100\n",
      "26/26 - 0s - loss: 2255.3647 - val_loss: 2075.2776 - 256ms/epoch - 10ms/step\n",
      "Epoch 7/100\n",
      "26/26 - 0s - loss: 1978.4489 - val_loss: 1828.3699 - 236ms/epoch - 9ms/step\n",
      "Epoch 8/100\n",
      "26/26 - 0s - loss: 1746.8522 - val_loss: 1613.8735 - 272ms/epoch - 10ms/step\n",
      "Epoch 9/100\n",
      "26/26 - 0s - loss: 1543.2849 - val_loss: 1424.6230 - 254ms/epoch - 10ms/step\n",
      "Epoch 10/100\n",
      "26/26 - 0s - loss: 1362.5785 - val_loss: 1256.5079 - 251ms/epoch - 10ms/step\n",
      "Epoch 11/100\n",
      "26/26 - 0s - loss: 1202.0242 - val_loss: 1106.2240 - 228ms/epoch - 9ms/step\n",
      "Epoch 12/100\n",
      "26/26 - 0s - loss: 1058.5314 - val_loss: 971.9362 - 268ms/epoch - 10ms/step\n",
      "Epoch 13/100\n",
      "26/26 - 0s - loss: 930.1402 - val_loss: 853.3670 - 271ms/epoch - 10ms/step\n",
      "Epoch 14/100\n",
      "26/26 - 0s - loss: 816.1415 - val_loss: 746.2756 - 254ms/epoch - 10ms/step\n",
      "Epoch 15/100\n",
      "26/26 - 0s - loss: 714.2748 - val_loss: 652.1163 - 268ms/epoch - 10ms/step\n",
      "Epoch 16/100\n",
      "26/26 - 0s - loss: 624.1264 - val_loss: 568.3727 - 267ms/epoch - 10ms/step\n",
      "Epoch 17/100\n",
      "26/26 - 0s - loss: 543.5346 - val_loss: 494.7909 - 261ms/epoch - 10ms/step\n",
      "Epoch 18/100\n",
      "26/26 - 0s - loss: 473.0469 - val_loss: 428.7981 - 260ms/epoch - 10ms/step\n",
      "Epoch 19/100\n",
      "26/26 - 0s - loss: 410.5816 - val_loss: 371.1713 - 264ms/epoch - 10ms/step\n",
      "Epoch 20/100\n",
      "26/26 - 0s - loss: 355.8385 - val_loss: 321.1335 - 290ms/epoch - 11ms/step\n",
      "Epoch 21/100\n",
      "26/26 - 0s - loss: 307.9557 - val_loss: 277.8441 - 264ms/epoch - 10ms/step\n",
      "Epoch 22/100\n",
      "26/26 - 0s - loss: 266.4424 - val_loss: 239.8460 - 273ms/epoch - 10ms/step\n",
      "Epoch 23/100\n",
      "26/26 - 0s - loss: 230.1570 - val_loss: 207.1215 - 275ms/epoch - 11ms/step\n",
      "Epoch 24/100\n",
      "26/26 - 0s - loss: 199.0729 - val_loss: 178.4904 - 238ms/epoch - 9ms/step\n",
      "Epoch 25/100\n",
      "26/26 - 0s - loss: 171.8310 - val_loss: 154.6264 - 256ms/epoch - 10ms/step\n",
      "Epoch 26/100\n",
      "26/26 - 0s - loss: 148.9646 - val_loss: 133.6333 - 251ms/epoch - 10ms/step\n",
      "Epoch 27/100\n",
      "26/26 - 0s - loss: 129.3553 - val_loss: 116.3347 - 228ms/epoch - 9ms/step\n",
      "Epoch 28/100\n",
      "26/26 - 0s - loss: 112.5263 - val_loss: 101.8431 - 256ms/epoch - 10ms/step\n",
      "Epoch 29/100\n",
      "26/26 - 0s - loss: 98.6674 - val_loss: 89.3448 - 250ms/epoch - 10ms/step\n",
      "Epoch 30/100\n",
      "26/26 - 0s - loss: 86.7658 - val_loss: 79.0164 - 282ms/epoch - 11ms/step\n",
      "Epoch 31/100\n",
      "26/26 - 0s - loss: 76.7762 - val_loss: 70.6797 - 269ms/epoch - 10ms/step\n",
      "Epoch 32/100\n",
      "26/26 - 0s - loss: 68.7485 - val_loss: 63.4182 - 251ms/epoch - 10ms/step\n",
      "Epoch 33/100\n",
      "26/26 - 0s - loss: 62.0421 - val_loss: 57.3752 - 239ms/epoch - 9ms/step\n",
      "Epoch 34/100\n",
      "26/26 - 0s - loss: 56.0504 - val_loss: 52.8501 - 267ms/epoch - 10ms/step\n",
      "Epoch 35/100\n",
      "26/26 - 0s - loss: 51.6166 - val_loss: 48.6007 - 256ms/epoch - 10ms/step\n",
      "Epoch 36/100\n",
      "26/26 - 0s - loss: 47.4704 - val_loss: 45.6063 - 235ms/epoch - 9ms/step\n",
      "Epoch 37/100\n",
      "26/26 - 0s - loss: 44.4599 - val_loss: 42.9905 - 257ms/epoch - 10ms/step\n",
      "Epoch 38/100\n",
      "26/26 - 0s - loss: 42.0462 - val_loss: 40.8359 - 267ms/epoch - 10ms/step\n",
      "Epoch 39/100\n",
      "26/26 - 0s - loss: 39.9526 - val_loss: 39.4455 - 240ms/epoch - 9ms/step\n",
      "Epoch 40/100\n",
      "26/26 - 0s - loss: 38.4753 - val_loss: 38.1638 - 267ms/epoch - 10ms/step\n",
      "Epoch 41/100\n",
      "26/26 - 0s - loss: 37.1306 - val_loss: 37.2212 - 273ms/epoch - 11ms/step\n",
      "Epoch 42/100\n",
      "26/26 - 0s - loss: 36.1604 - val_loss: 36.3830 - 251ms/epoch - 10ms/step\n",
      "Epoch 43/100\n",
      "26/26 - 0s - loss: 35.3935 - val_loss: 35.7901 - 271ms/epoch - 10ms/step\n",
      "Epoch 44/100\n",
      "26/26 - 0s - loss: 34.6925 - val_loss: 35.4554 - 304ms/epoch - 12ms/step\n",
      "Epoch 45/100\n",
      "26/26 - 0s - loss: 34.2893 - val_loss: 35.0606 - 303ms/epoch - 12ms/step\n",
      "Epoch 46/100\n",
      "26/26 - 0s - loss: 33.8535 - val_loss: 34.8863 - 338ms/epoch - 13ms/step\n",
      "Epoch 47/100\n",
      "26/26 - 0s - loss: 33.6420 - val_loss: 34.7089 - 342ms/epoch - 13ms/step\n",
      "Epoch 48/100\n",
      "26/26 - 0s - loss: 33.4077 - val_loss: 34.5810 - 320ms/epoch - 12ms/step\n",
      "Epoch 49/100\n",
      "26/26 - 0s - loss: 33.2397 - val_loss: 34.5161 - 297ms/epoch - 11ms/step\n",
      "Epoch 50/100\n",
      "26/26 - 0s - loss: 33.1063 - val_loss: 34.4685 - 288ms/epoch - 11ms/step\n",
      "Epoch 51/100\n",
      "26/26 - 0s - loss: 33.0441 - val_loss: 34.4246 - 275ms/epoch - 11ms/step\n",
      "Epoch 52/100\n",
      "26/26 - 0s - loss: 32.9526 - val_loss: 34.4161 - 298ms/epoch - 11ms/step\n",
      "Epoch 53/100\n",
      "26/26 - 0s - loss: 32.9210 - val_loss: 34.4071 - 271ms/epoch - 10ms/step\n",
      "Epoch 54/100\n",
      "26/26 - 0s - loss: 32.8857 - val_loss: 34.4062 - 272ms/epoch - 10ms/step\n",
      "Epoch 55/100\n",
      "26/26 - 0s - loss: 32.8572 - val_loss: 34.4077 - 282ms/epoch - 11ms/step\n",
      "Epoch 56/100\n",
      "26/26 - 0s - loss: 32.8477 - val_loss: 34.4094 - 272ms/epoch - 10ms/step\n",
      "Epoch 57/100\n",
      "26/26 - 0s - loss: 32.8613 - val_loss: 34.4262 - 267ms/epoch - 10ms/step\n",
      "Epoch 58/100\n",
      "26/26 - 0s - loss: 32.8096 - val_loss: 34.4310 - 288ms/epoch - 11ms/step\n",
      "Epoch 59/100\n",
      "26/26 - 0s - loss: 32.8054 - val_loss: 34.4487 - 266ms/epoch - 10ms/step\n",
      "Epoch 60/100\n",
      "26/26 - 0s - loss: 32.7980 - val_loss: 34.4513 - 256ms/epoch - 10ms/step\n",
      "Epoch 61/100\n",
      "26/26 - 0s - loss: 32.8054 - val_loss: 34.4638 - 283ms/epoch - 11ms/step\n",
      "Epoch 62/100\n",
      "26/26 - 0s - loss: 32.7948 - val_loss: 34.4731 - 256ms/epoch - 10ms/step\n",
      "Epoch 63/100\n",
      "26/26 - 0s - loss: 32.8586 - val_loss: 34.5026 - 267ms/epoch - 10ms/step\n",
      "Epoch 64/100\n",
      "26/26 - 0s - loss: 32.8406 - val_loss: 34.5004 - 263ms/epoch - 10ms/step\n",
      "Epoch 65/100\n",
      "26/26 - 0s - loss: 32.9458 - val_loss: 34.4654 - 276ms/epoch - 11ms/step\n",
      "Epoch 66/100\n",
      "26/26 - 0s - loss: 32.7916 - val_loss: 34.4660 - 256ms/epoch - 10ms/step\n",
      "Epoch 67/100\n",
      "26/26 - 0s - loss: 32.7937 - val_loss: 34.4637 - 287ms/epoch - 11ms/step\n",
      "Epoch 68/100\n",
      "26/26 - 0s - loss: 32.7902 - val_loss: 34.4725 - 266ms/epoch - 10ms/step\n",
      "Epoch 69/100\n",
      "26/26 - 0s - loss: 32.7904 - val_loss: 34.4655 - 281ms/epoch - 11ms/step\n",
      "Epoch 70/100\n",
      "26/26 - 0s - loss: 32.8105 - val_loss: 34.4616 - 294ms/epoch - 11ms/step\n",
      "Epoch 71/100\n",
      "26/26 - 0s - loss: 32.8063 - val_loss: 34.4712 - 309ms/epoch - 12ms/step\n",
      "Epoch 72/100\n",
      "26/26 - 0s - loss: 32.8268 - val_loss: 34.4643 - 282ms/epoch - 11ms/step\n",
      "Epoch 73/100\n",
      "26/26 - 0s - loss: 32.8119 - val_loss: 34.4731 - 326ms/epoch - 13ms/step\n",
      "Epoch 74/100\n",
      "26/26 - 0s - loss: 32.8591 - val_loss: 34.5071 - 323ms/epoch - 12ms/step\n",
      "Epoch 75/100\n",
      "26/26 - 0s - loss: 32.8538 - val_loss: 34.4736 - 314ms/epoch - 12ms/step\n",
      "Epoch 76/100\n",
      "26/26 - 0s - loss: 32.7991 - val_loss: 34.4713 - 303ms/epoch - 12ms/step\n",
      "Epoch 77/100\n",
      "26/26 - 0s - loss: 32.8110 - val_loss: 34.4627 - 293ms/epoch - 11ms/step\n",
      "Epoch 78/100\n",
      "26/26 - 0s - loss: 32.7980 - val_loss: 34.4561 - 287ms/epoch - 11ms/step\n",
      "Epoch 79/100\n",
      "26/26 - 0s - loss: 32.7924 - val_loss: 34.5039 - 271ms/epoch - 10ms/step\n",
      "Epoch 80/100\n",
      "26/26 - 0s - loss: 32.7988 - val_loss: 34.4953 - 251ms/epoch - 10ms/step\n",
      "Epoch 81/100\n",
      "26/26 - 0s - loss: 32.8255 - val_loss: 34.4814 - 286ms/epoch - 11ms/step\n",
      "Epoch 82/100\n",
      "26/26 - 0s - loss: 32.7908 - val_loss: 34.4834 - 287ms/epoch - 11ms/step\n",
      "Epoch 83/100\n",
      "26/26 - 0s - loss: 32.8038 - val_loss: 34.4899 - 259ms/epoch - 10ms/step\n",
      "Epoch 84/100\n",
      "26/26 - 0s - loss: 32.8076 - val_loss: 34.4688 - 282ms/epoch - 11ms/step\n",
      "Epoch 85/100\n",
      "26/26 - 0s - loss: 32.8054 - val_loss: 34.4704 - 270ms/epoch - 10ms/step\n",
      "Epoch 86/100\n",
      "26/26 - 0s - loss: 32.8060 - val_loss: 34.4952 - 282ms/epoch - 11ms/step\n",
      "Epoch 87/100\n",
      "26/26 - 0s - loss: 32.7979 - val_loss: 34.5001 - 270ms/epoch - 10ms/step\n",
      "Epoch 88/100\n",
      "26/26 - 0s - loss: 32.8122 - val_loss: 34.4619 - 267ms/epoch - 10ms/step\n",
      "Epoch 89/100\n",
      "26/26 - 0s - loss: 32.8059 - val_loss: 34.4605 - 298ms/epoch - 11ms/step\n",
      "Epoch 90/100\n",
      "26/26 - 0s - loss: 32.8365 - val_loss: 34.4787 - 269ms/epoch - 10ms/step\n",
      "Epoch 91/100\n",
      "26/26 - 0s - loss: 32.8101 - val_loss: 34.5144 - 266ms/epoch - 10ms/step\n",
      "Epoch 92/100\n",
      "26/26 - 0s - loss: 32.8612 - val_loss: 34.4876 - 257ms/epoch - 10ms/step\n",
      "Epoch 93/100\n",
      "26/26 - 0s - loss: 32.8046 - val_loss: 34.4934 - 251ms/epoch - 10ms/step\n",
      "Epoch 94/100\n",
      "26/26 - 0s - loss: 32.8272 - val_loss: 34.5185 - 257ms/epoch - 10ms/step\n",
      "Epoch 95/100\n",
      "26/26 - 0s - loss: 32.8394 - val_loss: 34.5351 - 292ms/epoch - 11ms/step\n",
      "Epoch 96/100\n",
      "26/26 - 0s - loss: 32.8360 - val_loss: 34.4807 - 294ms/epoch - 11ms/step\n",
      "Epoch 97/100\n",
      "26/26 - 0s - loss: 32.8104 - val_loss: 34.4618 - 291ms/epoch - 11ms/step\n",
      "Epoch 98/100\n",
      "26/26 - 0s - loss: 32.8569 - val_loss: 33.6029 - 328ms/epoch - 13ms/step\n",
      "Epoch 99/100\n",
      "26/26 - 0s - loss: 32.6614 - val_loss: 33.6678 - 316ms/epoch - 12ms/step\n",
      "Epoch 100/100\n",
      "26/26 - 0s - loss: 32.7107 - val_loss: 33.8739 - 311ms/epoch - 12ms/step\n"
     ]
    },
    {
     "data": {
      "text/plain": "<Figure size 432x288 with 1 Axes>",
      "image/png": "[encoded data removed]"
     },
     "metadata": {
      "needs_background": "light"
     },
     "output_type": "display_data"
    },
    {
     "data": {
      "text/plain": "(5.222620730929903, -0.03397075452760845, 0.24147239999209885)"
     },
     "execution_count": 24,
     "metadata": {},
     "output_type": "execute_result"
    }
   ],
   "source": [
    "Xf = df_full\n",
    "rnn_regression1(X,y, batch_size=5,test_size=0.1)"
   ],
   "metadata": {
    "collapsed": false
   }
  },
  {
   "cell_type": "code",
   "execution_count": 35,
   "outputs": [],
   "source": [
    "import SVM"
   ],
   "metadata": {
    "collapsed": false
   }
  },
  {
   "cell_type": "code",
   "execution_count": 41,
   "outputs": [
    {
     "data": {
      "text/plain": "(4.666788871650908,\n 0.040967931090684084,\n (0.20792242641655437, 0.22365763284765666))"
     },
     "execution_count": 41,
     "metadata": {},
     "output_type": "execute_result"
    }
   ],
   "source": [
    "SVM.SVM_regression(X,y)"
   ],
   "metadata": {
    "collapsed": false
   }
  },
  {
   "cell_type": "code",
   "execution_count": 42,
   "outputs": [
    {
     "data": {
      "text/plain": "(4.666788871650908,\n 0.040967931090684084,\n (0.20792242641655437, 0.22365763284765666))"
     },
     "execution_count": 42,
     "metadata": {},
     "output_type": "execute_result"
    }
   ],
   "source": [
    "SVM.SVM_regression(Xf,y)"
   ],
   "metadata": {
    "collapsed": false
   }
  },
  {
   "cell_type": "code",
   "execution_count": 6,
   "outputs": [],
   "source": [
    "from scipy.stats import stats\n",
    "from sklearn.svm import SVR"
   ],
   "metadata": {
    "collapsed": false
   }
  },
  {
   "cell_type": "code",
   "execution_count": 46,
   "outputs": [],
   "source": [
    "def SVM_regression(seq, temp):\n",
    "    \"\"\"\n",
    "    :param seq: sequence of amino acids\n",
    "    :param temp: temperature\n",
    "    :return: model MAE, R-squared and pearson coefficient\n",
    "    \"\"\"\n",
    "    # split the data into a training and testing set\n",
    "    x_train, x_test, y_train, y_test = train_test_split(seq, temp, test_size=0.1, random_state=7)\n",
    "\n",
    "    # create the model\n",
    "    model = SVR(kernel='rbf', C=1e3, gamma=0.1)\n",
    "    model.fit(x_train, y_train)\n",
    "\n",
    "    # evaluate the model\n",
    "    predictions = model.predict(x_test)\n",
    "    errors = mean_absolute_error(y_test, predictions)\n",
    "    r2 = r2_score(y_test, predictions)\n",
    "    pearsonr = stats.pearsonr(y_test, predictions)\n",
    "\n",
    "    return np.mean(errors), r2, pearsonr"
   ],
   "metadata": {
    "collapsed": false
   }
  },
  {
   "cell_type": "code",
   "execution_count": 48,
   "outputs": [
    {
     "name": "stderr",
     "output_type": "stream",
     "text": [
      "C:\\Users\\toon_\\AppData\\Local\\Temp\\ipykernel_4676\\1976201374.py:18: DeprecationWarning: Please use `pearsonr` from the `scipy.stats` namespace, the `scipy.stats.stats` namespace is deprecated.\n",
      "  pearsonr = stats.pearsonr(y_test, predictions)\n"
     ]
    },
    {
     "data": {
      "text/plain": "(4.86814236111111,\n 0.030832597182993804,\n (0.2371481548245878, 0.3433763043576464))"
     },
     "execution_count": 48,
     "metadata": {},
     "output_type": "execute_result"
    }
   ],
   "source": [
    "SVM_regression(X,y)"
   ],
   "metadata": {
    "collapsed": false
   }
  },
  {
   "cell_type": "code",
   "execution_count": 89,
   "outputs": [
    {
     "name": "stdout",
     "output_type": "stream",
     "text": [
      "Best parameters:  {'C': 3.4597293624374235, 'gamma': 'scale'}\n",
      "MAE:  4.013932360220573\n",
      "R-squared:  0.36990551349229583\n",
      "Pearson coefficient:  (0.7504666741649855, 0.0003333038854308589)\n"
     ]
    },
    {
     "name": "stderr",
     "output_type": "stream",
     "text": [
      "C:\\Users\\toon_\\AppData\\Local\\Temp\\ipykernel_2812\\3059573365.py:35: DeprecationWarning: Please use `pearsonr` from the `scipy.stats` namespace, the `scipy.stats.stats` namespace is deprecated.\n",
      "  pearsonr = stats.pearsonr(y_test, predictions)\n"
     ]
    },
    {
     "ename": "AttributeError",
     "evalue": "'function' object has no attribute 'savefig'",
     "output_type": "error",
     "traceback": [
      "\u001B[1;31m---------------------------------------------------------------------------\u001B[0m",
      "\u001B[1;31mAttributeError\u001B[0m                            Traceback (most recent call last)",
      "Input \u001B[1;32mIn [89]\u001B[0m, in \u001B[0;36m<cell line: 42>\u001B[1;34m()\u001B[0m\n\u001B[0;32m     39\u001B[0m \u001B[38;5;28mprint\u001B[39m(\u001B[38;5;124m\"\u001B[39m\u001B[38;5;124mR-squared: \u001B[39m\u001B[38;5;124m\"\u001B[39m, r2)\n\u001B[0;32m     40\u001B[0m \u001B[38;5;28mprint\u001B[39m(\u001B[38;5;124m\"\u001B[39m\u001B[38;5;124mPearson coefficient: \u001B[39m\u001B[38;5;124m\"\u001B[39m, pearsonr)\n\u001B[1;32m---> 42\u001B[0m \u001B[43mrf_vis\u001B[49m\u001B[38;5;241;43m.\u001B[39;49m\u001B[43mrf_plot\u001B[49m\u001B[43m(\u001B[49m\u001B[43mx_test\u001B[49m\u001B[43m,\u001B[49m\u001B[43my_test\u001B[49m\u001B[43m,\u001B[49m\u001B[43mmodel\u001B[49m\u001B[43m)\u001B[49m\n",
      "File \u001B[1;32m~\\git\\AntibodyFvTm50Predictor\\jupyter\\..\\data_visualisation\\rf_vis.py:21\u001B[0m, in \u001B[0;36mrf_plot\u001B[1;34m(x_test, y_test, model)\u001B[0m\n\u001B[0;32m     19\u001B[0m plt\u001B[38;5;241m.\u001B[39mylabel(\u001B[38;5;124m'\u001B[39m\u001B[38;5;124mPredictions\u001B[39m\u001B[38;5;124m'\u001B[39m, fontsize\u001B[38;5;241m=\u001B[39m\u001B[38;5;241m15\u001B[39m)\n\u001B[0;32m     20\u001B[0m plt\u001B[38;5;241m.\u001B[39maxis(\u001B[38;5;124m'\u001B[39m\u001B[38;5;124mequal\u001B[39m\u001B[38;5;124m'\u001B[39m)\n\u001B[1;32m---> 21\u001B[0m \u001B[43mplt\u001B[49m\u001B[38;5;241;43m.\u001B[39;49m\u001B[43mfigure\u001B[49m\u001B[38;5;241;43m.\u001B[39;49m\u001B[43msavefig\u001B[49m()\n",
      "\u001B[1;31mAttributeError\u001B[0m: 'function' object has no attribute 'savefig'"
     ]
    },
    {
     "data": {
      "text/plain": "<Figure size 720x720 with 1 Axes>",
      "image/png": "[encoded data removed]"
     },
     "metadata": {
      "needs_background": "light"
     },
     "output_type": "display_data"
    }
   ],
   "source": [
    "from sklearn.model_selection import RandomizedSearchCV\n",
    "from sklearn.svm import SVR\n",
    "from scipy.stats import uniform\n",
    "from sklearn.model_selection import KFold, train_test_split\n",
    "from sklearn.metrics import mean_absolute_error, r2_score\n",
    "\n",
    "kfold = KFold(n_splits=3, shuffle=True, random_state=42)\n",
    "\n",
    "x_train, x_test, y_train, y_test = train_test_split(X, y, test_size=0.1, random_state=7)\n",
    "\n",
    "# define the parameter space for the random search\n",
    "param_space = {\n",
    "    'C': uniform(loc=0, scale=10),\n",
    "    'gamma': ['scale', 'auto'] + list(np.logspace(-3, 2, num=6))\n",
    "}\n",
    "\n",
    "# create the SVM model\n",
    "model = SVR(kernel='rbf')\n",
    "\n",
    "# perform the random search\n",
    "search = RandomizedSearchCV(model, param_space, cv=kfold, n_iter=25, n_jobs=-1, random_state=7)\n",
    "search.fit(x_train, y_train)\n",
    "\n",
    "# get the best hyperparameters\n",
    "best_params = search.best_params_\n",
    "\n",
    "# train the model with the best hyperparameters\n",
    "model = SVR(kernel='rbf', **best_params)\n",
    "model.fit(x_train, y_train)\n",
    "\n",
    "# evaluate the model\n",
    "predictions = model.predict(x_test)\n",
    "mae = mean_absolute_error(y_test, predictions)\n",
    "r2 = r2_score(y_test, predictions)\n",
    "pearsonr = stats.pearsonr(y_test, predictions)\n",
    "\n",
    "print(\"Best parameters: \", best_params)\n",
    "print(\"MAE: \", mae)\n",
    "print(\"R-squared: \", r2)\n",
    "print(\"Pearson coefficient: \", pearsonr)\n",
    "\n",
    "rf_vis.rf_plot(x_test,y_test,model)"
   ],
   "metadata": {
    "collapsed": false
   }
  },
  {
   "cell_type": "code",
   "execution_count": 47,
   "outputs": [
    {
     "ename": "AttributeError",
     "evalue": "'function' object has no attribute 'savefig'",
     "output_type": "error",
     "traceback": [
      "\u001B[1;31m---------------------------------------------------------------------------\u001B[0m",
      "\u001B[1;31mAttributeError\u001B[0m                            Traceback (most recent call last)",
      "Input \u001B[1;32mIn [47]\u001B[0m, in \u001B[0;36m<cell line: 2>\u001B[1;34m()\u001B[0m\n\u001B[0;32m      1\u001B[0m \u001B[38;5;28;01mfrom\u001B[39;00m \u001B[38;5;21;01mdata_visualisation\u001B[39;00m \u001B[38;5;28;01mimport\u001B[39;00m rf_vis\n\u001B[1;32m----> 2\u001B[0m \u001B[43mrf_vis\u001B[49m\u001B[38;5;241;43m.\u001B[39;49m\u001B[43mrf_plot\u001B[49m\u001B[43m(\u001B[49m\u001B[43mx_test\u001B[49m\u001B[43m,\u001B[49m\u001B[43my_test\u001B[49m\u001B[43m,\u001B[49m\u001B[43mmodel\u001B[49m\u001B[43m)\u001B[49m\n",
      "File \u001B[1;32m~\\git\\AntibodyFvTm50Predictor\\jupyter\\..\\data_visualisation\\rf_vis.py:21\u001B[0m, in \u001B[0;36mrf_plot\u001B[1;34m(x_test, y_test, model)\u001B[0m\n\u001B[0;32m     19\u001B[0m plt\u001B[38;5;241m.\u001B[39mylabel(\u001B[38;5;124m'\u001B[39m\u001B[38;5;124mPredictions\u001B[39m\u001B[38;5;124m'\u001B[39m, fontsize\u001B[38;5;241m=\u001B[39m\u001B[38;5;241m15\u001B[39m)\n\u001B[0;32m     20\u001B[0m plt\u001B[38;5;241m.\u001B[39maxis(\u001B[38;5;124m'\u001B[39m\u001B[38;5;124mequal\u001B[39m\u001B[38;5;124m'\u001B[39m)\n\u001B[1;32m---> 21\u001B[0m \u001B[43mplt\u001B[49m\u001B[38;5;241;43m.\u001B[39;49m\u001B[43mfigure\u001B[49m\u001B[38;5;241;43m.\u001B[39;49m\u001B[43msavefig\u001B[49m()\n",
      "\u001B[1;31mAttributeError\u001B[0m: 'function' object has no attribute 'savefig'"
     ]
    },
    {
     "data": {
      "text/plain": "<Figure size 720x720 with 1 Axes>",
      "image/png": "[encoded data removed]"
     },
     "metadata": {
      "needs_background": "light"
     },
     "output_type": "display_data"
    }
   ],
   "source": [
    "from data_visualisation import rf_vis\n",
    "rf_vis.rf_plot(x_test,y_test,model)"
   ],
   "metadata": {
    "collapsed": false
   }
  },
  {
   "cell_type": "code",
   "execution_count": null,
   "outputs": [
    {
     "name": "stderr",
     "output_type": "stream",
     "text": [
      "exception calling callback for <Future at 0x27961e233d0 state=finished raised TerminatedWorkerError>\n",
      "Traceback (most recent call last):\n",
      "  File \"C:\\Users\\toon_\\.virtualenvs\\AntibodyFvTm50Predictor\\lib\\site-packages\\joblib\\externals\\loky\\_base.py\", line 625, in _invoke_callbacks\n",
      "    callback(self)\n",
      "  File \"C:\\Users\\toon_\\.virtualenvs\\AntibodyFvTm50Predictor\\lib\\site-packages\\joblib\\parallel.py\", line 359, in __call__\n",
      "    self.parallel.dispatch_next()\n",
      "  File \"C:\\Users\\toon_\\.virtualenvs\\AntibodyFvTm50Predictor\\lib\\site-packages\\joblib\\parallel.py\", line 794, in dispatch_next\n",
      "    if not self.dispatch_one_batch(self._original_iterator):\n",
      "  File \"C:\\Users\\toon_\\.virtualenvs\\AntibodyFvTm50Predictor\\lib\\site-packages\\joblib\\parallel.py\", line 861, in dispatch_one_batch\n",
      "    self._dispatch(tasks)\n",
      "  File \"C:\\Users\\toon_\\.virtualenvs\\AntibodyFvTm50Predictor\\lib\\site-packages\\joblib\\parallel.py\", line 779, in _dispatch\n",
      "    job = self._backend.apply_async(batch, callback=cb)\n",
      "  File \"C:\\Users\\toon_\\.virtualenvs\\AntibodyFvTm50Predictor\\lib\\site-packages\\joblib\\_parallel_backends.py\", line 531, in apply_async\n",
      "    future = self._workers.submit(SafeFunction(func))\n",
      "  File \"C:\\Users\\toon_\\.virtualenvs\\AntibodyFvTm50Predictor\\lib\\site-packages\\joblib\\externals\\loky\\reusable_executor.py\", line 177, in submit\n",
      "    return super(_ReusablePoolExecutor, self).submit(\n",
      "  File \"C:\\Users\\toon_\\.virtualenvs\\AntibodyFvTm50Predictor\\lib\\site-packages\\joblib\\externals\\loky\\process_executor.py\", line 1115, in submit\n",
      "    raise self._flags.broken\n",
      "joblib.externals.loky.process_executor.TerminatedWorkerError: A worker process managed by the executor was unexpectedly terminated. This could be caused by a segmentation fault while calling the function or by an excessive memory usage causing the Operating System to kill the worker.\n",
      "\n"
     ]
    },
    {
     "ename": "OSError",
     "evalue": "[Errno 22] Invalid argument",
     "output_type": "error",
     "traceback": [
      "\u001B[1;31m---------------------------------------------------------------------------\u001B[0m",
      "\u001B[1;31mKeyboardInterrupt\u001B[0m                         Traceback (most recent call last)",
      "File \u001B[1;32m~\\.virtualenvs\\AntibodyFvTm50Predictor\\lib\\site-packages\\joblib\\parallel.py:935\u001B[0m, in \u001B[0;36mParallel.retrieve\u001B[1;34m(self)\u001B[0m\n\u001B[0;32m    934\u001B[0m \u001B[38;5;28;01mif\u001B[39;00m \u001B[38;5;28mgetattr\u001B[39m(\u001B[38;5;28mself\u001B[39m\u001B[38;5;241m.\u001B[39m_backend, \u001B[38;5;124m'\u001B[39m\u001B[38;5;124msupports_timeout\u001B[39m\u001B[38;5;124m'\u001B[39m, \u001B[38;5;28;01mFalse\u001B[39;00m):\n\u001B[1;32m--> 935\u001B[0m     \u001B[38;5;28mself\u001B[39m\u001B[38;5;241m.\u001B[39m_output\u001B[38;5;241m.\u001B[39mextend(\u001B[43mjob\u001B[49m\u001B[38;5;241;43m.\u001B[39;49m\u001B[43mget\u001B[49m\u001B[43m(\u001B[49m\u001B[43mtimeout\u001B[49m\u001B[38;5;241;43m=\u001B[39;49m\u001B[38;5;28;43mself\u001B[39;49m\u001B[38;5;241;43m.\u001B[39;49m\u001B[43mtimeout\u001B[49m\u001B[43m)\u001B[49m)\n\u001B[0;32m    936\u001B[0m \u001B[38;5;28;01melse\u001B[39;00m:\n",
      "File \u001B[1;32m~\\.virtualenvs\\AntibodyFvTm50Predictor\\lib\\site-packages\\joblib\\_parallel_backends.py:542\u001B[0m, in \u001B[0;36mLokyBackend.wrap_future_result\u001B[1;34m(future, timeout)\u001B[0m\n\u001B[0;32m    541\u001B[0m \u001B[38;5;28;01mtry\u001B[39;00m:\n\u001B[1;32m--> 542\u001B[0m     \u001B[38;5;28;01mreturn\u001B[39;00m \u001B[43mfuture\u001B[49m\u001B[38;5;241;43m.\u001B[39;49m\u001B[43mresult\u001B[49m\u001B[43m(\u001B[49m\u001B[43mtimeout\u001B[49m\u001B[38;5;241;43m=\u001B[39;49m\u001B[43mtimeout\u001B[49m\u001B[43m)\u001B[49m\n\u001B[0;32m    543\u001B[0m \u001B[38;5;28;01mexcept\u001B[39;00m CfTimeoutError \u001B[38;5;28;01mas\u001B[39;00m e:\n",
      "File \u001B[1;32m~\\AppData\\Local\\Programs\\Python\\Python310\\lib\\concurrent\\futures\\_base.py:441\u001B[0m, in \u001B[0;36mFuture.result\u001B[1;34m(self, timeout)\u001B[0m\n\u001B[0;32m    439\u001B[0m     \u001B[38;5;28;01mreturn\u001B[39;00m \u001B[38;5;28mself\u001B[39m\u001B[38;5;241m.\u001B[39m__get_result()\n\u001B[1;32m--> 441\u001B[0m \u001B[38;5;28;43mself\u001B[39;49m\u001B[38;5;241;43m.\u001B[39;49m\u001B[43m_condition\u001B[49m\u001B[38;5;241;43m.\u001B[39;49m\u001B[43mwait\u001B[49m\u001B[43m(\u001B[49m\u001B[43mtimeout\u001B[49m\u001B[43m)\u001B[49m\n\u001B[0;32m    443\u001B[0m \u001B[38;5;28;01mif\u001B[39;00m \u001B[38;5;28mself\u001B[39m\u001B[38;5;241m.\u001B[39m_state \u001B[38;5;129;01min\u001B[39;00m [CANCELLED, CANCELLED_AND_NOTIFIED]:\n",
      "File \u001B[1;32m~\\AppData\\Local\\Programs\\Python\\Python310\\lib\\threading.py:320\u001B[0m, in \u001B[0;36mCondition.wait\u001B[1;34m(self, timeout)\u001B[0m\n\u001B[0;32m    319\u001B[0m \u001B[38;5;28;01mif\u001B[39;00m timeout \u001B[38;5;129;01mis\u001B[39;00m \u001B[38;5;28;01mNone\u001B[39;00m:\n\u001B[1;32m--> 320\u001B[0m     \u001B[43mwaiter\u001B[49m\u001B[38;5;241;43m.\u001B[39;49m\u001B[43macquire\u001B[49m\u001B[43m(\u001B[49m\u001B[43m)\u001B[49m\n\u001B[0;32m    321\u001B[0m     gotit \u001B[38;5;241m=\u001B[39m \u001B[38;5;28;01mTrue\u001B[39;00m\n",
      "\u001B[1;31mKeyboardInterrupt\u001B[0m: ",
      "\nDuring handling of the above exception, another exception occurred:\n",
      "\u001B[1;31mOSError\u001B[0m                                   Traceback (most recent call last)",
      "Input \u001B[1;32mIn [53]\u001B[0m, in \u001B[0;36m<cell line: 20>\u001B[1;34m()\u001B[0m\n\u001B[0;32m     18\u001B[0m \u001B[38;5;66;03m# perform the random search\u001B[39;00m\n\u001B[0;32m     19\u001B[0m search \u001B[38;5;241m=\u001B[39m RandomizedSearchCV(model, param_distributions, cv\u001B[38;5;241m=\u001B[39m\u001B[38;5;241m5\u001B[39m, n_iter\u001B[38;5;241m=\u001B[39m\u001B[38;5;241m50\u001B[39m, n_jobs\u001B[38;5;241m=\u001B[39m\u001B[38;5;241m-\u001B[39m\u001B[38;5;241m1\u001B[39m, random_state\u001B[38;5;241m=\u001B[39m\u001B[38;5;241m42\u001B[39m)\n\u001B[1;32m---> 20\u001B[0m \u001B[43msearch\u001B[49m\u001B[38;5;241;43m.\u001B[39;49m\u001B[43mfit\u001B[49m\u001B[43m(\u001B[49m\u001B[43mx_train\u001B[49m\u001B[43m,\u001B[49m\u001B[43m \u001B[49m\u001B[43my_train\u001B[49m\u001B[43m)\u001B[49m\n\u001B[0;32m     22\u001B[0m \u001B[38;5;66;03m# get the best hyperparameters\u001B[39;00m\n\u001B[0;32m     23\u001B[0m best_params \u001B[38;5;241m=\u001B[39m search\u001B[38;5;241m.\u001B[39mbest_params_\n",
      "File \u001B[1;32m~\\.virtualenvs\\AntibodyFvTm50Predictor\\lib\\site-packages\\sklearn\\model_selection\\_search.py:875\u001B[0m, in \u001B[0;36mBaseSearchCV.fit\u001B[1;34m(self, X, y, groups, **fit_params)\u001B[0m\n\u001B[0;32m    869\u001B[0m     results \u001B[38;5;241m=\u001B[39m \u001B[38;5;28mself\u001B[39m\u001B[38;5;241m.\u001B[39m_format_results(\n\u001B[0;32m    870\u001B[0m         all_candidate_params, n_splits, all_out, all_more_results\n\u001B[0;32m    871\u001B[0m     )\n\u001B[0;32m    873\u001B[0m     \u001B[38;5;28;01mreturn\u001B[39;00m results\n\u001B[1;32m--> 875\u001B[0m \u001B[38;5;28;43mself\u001B[39;49m\u001B[38;5;241;43m.\u001B[39;49m\u001B[43m_run_search\u001B[49m\u001B[43m(\u001B[49m\u001B[43mevaluate_candidates\u001B[49m\u001B[43m)\u001B[49m\n\u001B[0;32m    877\u001B[0m \u001B[38;5;66;03m# multimetric is determined here because in the case of a callable\u001B[39;00m\n\u001B[0;32m    878\u001B[0m \u001B[38;5;66;03m# self.scoring the return type is only known after calling\u001B[39;00m\n\u001B[0;32m    879\u001B[0m first_test_score \u001B[38;5;241m=\u001B[39m all_out[\u001B[38;5;241m0\u001B[39m][\u001B[38;5;124m\"\u001B[39m\u001B[38;5;124mtest_scores\u001B[39m\u001B[38;5;124m\"\u001B[39m]\n",
      "File \u001B[1;32m~\\.virtualenvs\\AntibodyFvTm50Predictor\\lib\\site-packages\\sklearn\\model_selection\\_search.py:1749\u001B[0m, in \u001B[0;36mRandomizedSearchCV._run_search\u001B[1;34m(self, evaluate_candidates)\u001B[0m\n\u001B[0;32m   1747\u001B[0m \u001B[38;5;28;01mdef\u001B[39;00m \u001B[38;5;21m_run_search\u001B[39m(\u001B[38;5;28mself\u001B[39m, evaluate_candidates):\n\u001B[0;32m   1748\u001B[0m     \u001B[38;5;124;03m\"\"\"Search n_iter candidates from param_distributions\"\"\"\u001B[39;00m\n\u001B[1;32m-> 1749\u001B[0m     \u001B[43mevaluate_candidates\u001B[49m\u001B[43m(\u001B[49m\n\u001B[0;32m   1750\u001B[0m \u001B[43m        \u001B[49m\u001B[43mParameterSampler\u001B[49m\u001B[43m(\u001B[49m\n\u001B[0;32m   1751\u001B[0m \u001B[43m            \u001B[49m\u001B[38;5;28;43mself\u001B[39;49m\u001B[38;5;241;43m.\u001B[39;49m\u001B[43mparam_distributions\u001B[49m\u001B[43m,\u001B[49m\u001B[43m \u001B[49m\u001B[38;5;28;43mself\u001B[39;49m\u001B[38;5;241;43m.\u001B[39;49m\u001B[43mn_iter\u001B[49m\u001B[43m,\u001B[49m\u001B[43m \u001B[49m\u001B[43mrandom_state\u001B[49m\u001B[38;5;241;43m=\u001B[39;49m\u001B[38;5;28;43mself\u001B[39;49m\u001B[38;5;241;43m.\u001B[39;49m\u001B[43mrandom_state\u001B[49m\n\u001B[0;32m   1752\u001B[0m \u001B[43m        \u001B[49m\u001B[43m)\u001B[49m\n\u001B[0;32m   1753\u001B[0m \u001B[43m    \u001B[49m\u001B[43m)\u001B[49m\n",
      "File \u001B[1;32m~\\.virtualenvs\\AntibodyFvTm50Predictor\\lib\\site-packages\\sklearn\\model_selection\\_search.py:822\u001B[0m, in \u001B[0;36mBaseSearchCV.fit.<locals>.evaluate_candidates\u001B[1;34m(candidate_params, cv, more_results)\u001B[0m\n\u001B[0;32m    814\u001B[0m \u001B[38;5;28;01mif\u001B[39;00m \u001B[38;5;28mself\u001B[39m\u001B[38;5;241m.\u001B[39mverbose \u001B[38;5;241m>\u001B[39m \u001B[38;5;241m0\u001B[39m:\n\u001B[0;32m    815\u001B[0m     \u001B[38;5;28mprint\u001B[39m(\n\u001B[0;32m    816\u001B[0m         \u001B[38;5;124m\"\u001B[39m\u001B[38;5;124mFitting \u001B[39m\u001B[38;5;132;01m{0}\u001B[39;00m\u001B[38;5;124m folds for each of \u001B[39m\u001B[38;5;132;01m{1}\u001B[39;00m\u001B[38;5;124m candidates,\u001B[39m\u001B[38;5;124m\"\u001B[39m\n\u001B[0;32m    817\u001B[0m         \u001B[38;5;124m\"\u001B[39m\u001B[38;5;124m totalling \u001B[39m\u001B[38;5;132;01m{2}\u001B[39;00m\u001B[38;5;124m fits\u001B[39m\u001B[38;5;124m\"\u001B[39m\u001B[38;5;241m.\u001B[39mformat(\n\u001B[0;32m    818\u001B[0m             n_splits, n_candidates, n_candidates \u001B[38;5;241m*\u001B[39m n_splits\n\u001B[0;32m    819\u001B[0m         )\n\u001B[0;32m    820\u001B[0m     )\n\u001B[1;32m--> 822\u001B[0m out \u001B[38;5;241m=\u001B[39m \u001B[43mparallel\u001B[49m\u001B[43m(\u001B[49m\n\u001B[0;32m    823\u001B[0m \u001B[43m    \u001B[49m\u001B[43mdelayed\u001B[49m\u001B[43m(\u001B[49m\u001B[43m_fit_and_score\u001B[49m\u001B[43m)\u001B[49m\u001B[43m(\u001B[49m\n\u001B[0;32m    824\u001B[0m \u001B[43m        \u001B[49m\u001B[43mclone\u001B[49m\u001B[43m(\u001B[49m\u001B[43mbase_estimator\u001B[49m\u001B[43m)\u001B[49m\u001B[43m,\u001B[49m\n\u001B[0;32m    825\u001B[0m \u001B[43m        \u001B[49m\u001B[43mX\u001B[49m\u001B[43m,\u001B[49m\n\u001B[0;32m    826\u001B[0m \u001B[43m        \u001B[49m\u001B[43my\u001B[49m\u001B[43m,\u001B[49m\n\u001B[0;32m    827\u001B[0m \u001B[43m        \u001B[49m\u001B[43mtrain\u001B[49m\u001B[38;5;241;43m=\u001B[39;49m\u001B[43mtrain\u001B[49m\u001B[43m,\u001B[49m\n\u001B[0;32m    828\u001B[0m \u001B[43m        \u001B[49m\u001B[43mtest\u001B[49m\u001B[38;5;241;43m=\u001B[39;49m\u001B[43mtest\u001B[49m\u001B[43m,\u001B[49m\n\u001B[0;32m    829\u001B[0m \u001B[43m        \u001B[49m\u001B[43mparameters\u001B[49m\u001B[38;5;241;43m=\u001B[39;49m\u001B[43mparameters\u001B[49m\u001B[43m,\u001B[49m\n\u001B[0;32m    830\u001B[0m \u001B[43m        \u001B[49m\u001B[43msplit_progress\u001B[49m\u001B[38;5;241;43m=\u001B[39;49m\u001B[43m(\u001B[49m\u001B[43msplit_idx\u001B[49m\u001B[43m,\u001B[49m\u001B[43m \u001B[49m\u001B[43mn_splits\u001B[49m\u001B[43m)\u001B[49m\u001B[43m,\u001B[49m\n\u001B[0;32m    831\u001B[0m \u001B[43m        \u001B[49m\u001B[43mcandidate_progress\u001B[49m\u001B[38;5;241;43m=\u001B[39;49m\u001B[43m(\u001B[49m\u001B[43mcand_idx\u001B[49m\u001B[43m,\u001B[49m\u001B[43m \u001B[49m\u001B[43mn_candidates\u001B[49m\u001B[43m)\u001B[49m\u001B[43m,\u001B[49m\n\u001B[0;32m    832\u001B[0m \u001B[43m        \u001B[49m\u001B[38;5;241;43m*\u001B[39;49m\u001B[38;5;241;43m*\u001B[39;49m\u001B[43mfit_and_score_kwargs\u001B[49m\u001B[43m,\u001B[49m\n\u001B[0;32m    833\u001B[0m \u001B[43m    \u001B[49m\u001B[43m)\u001B[49m\n\u001B[0;32m    834\u001B[0m \u001B[43m    \u001B[49m\u001B[38;5;28;43;01mfor\u001B[39;49;00m\u001B[43m \u001B[49m\u001B[43m(\u001B[49m\u001B[43mcand_idx\u001B[49m\u001B[43m,\u001B[49m\u001B[43m \u001B[49m\u001B[43mparameters\u001B[49m\u001B[43m)\u001B[49m\u001B[43m,\u001B[49m\u001B[43m \u001B[49m\u001B[43m(\u001B[49m\u001B[43msplit_idx\u001B[49m\u001B[43m,\u001B[49m\u001B[43m \u001B[49m\u001B[43m(\u001B[49m\u001B[43mtrain\u001B[49m\u001B[43m,\u001B[49m\u001B[43m \u001B[49m\u001B[43mtest\u001B[49m\u001B[43m)\u001B[49m\u001B[43m)\u001B[49m\u001B[43m \u001B[49m\u001B[38;5;129;43;01min\u001B[39;49;00m\u001B[43m \u001B[49m\u001B[43mproduct\u001B[49m\u001B[43m(\u001B[49m\n\u001B[0;32m    835\u001B[0m \u001B[43m        \u001B[49m\u001B[38;5;28;43menumerate\u001B[39;49m\u001B[43m(\u001B[49m\u001B[43mcandidate_params\u001B[49m\u001B[43m)\u001B[49m\u001B[43m,\u001B[49m\u001B[43m \u001B[49m\u001B[38;5;28;43menumerate\u001B[39;49m\u001B[43m(\u001B[49m\u001B[43mcv\u001B[49m\u001B[38;5;241;43m.\u001B[39;49m\u001B[43msplit\u001B[49m\u001B[43m(\u001B[49m\u001B[43mX\u001B[49m\u001B[43m,\u001B[49m\u001B[43m \u001B[49m\u001B[43my\u001B[49m\u001B[43m,\u001B[49m\u001B[43m \u001B[49m\u001B[43mgroups\u001B[49m\u001B[43m)\u001B[49m\u001B[43m)\u001B[49m\n\u001B[0;32m    836\u001B[0m \u001B[43m    \u001B[49m\u001B[43m)\u001B[49m\n\u001B[0;32m    837\u001B[0m \u001B[43m\u001B[49m\u001B[43m)\u001B[49m\n\u001B[0;32m    839\u001B[0m \u001B[38;5;28;01mif\u001B[39;00m \u001B[38;5;28mlen\u001B[39m(out) \u001B[38;5;241m<\u001B[39m \u001B[38;5;241m1\u001B[39m:\n\u001B[0;32m    840\u001B[0m     \u001B[38;5;28;01mraise\u001B[39;00m \u001B[38;5;167;01mValueError\u001B[39;00m(\n\u001B[0;32m    841\u001B[0m         \u001B[38;5;124m\"\u001B[39m\u001B[38;5;124mNo fits were performed. \u001B[39m\u001B[38;5;124m\"\u001B[39m\n\u001B[0;32m    842\u001B[0m         \u001B[38;5;124m\"\u001B[39m\u001B[38;5;124mWas the CV iterator empty? \u001B[39m\u001B[38;5;124m\"\u001B[39m\n\u001B[0;32m    843\u001B[0m         \u001B[38;5;124m\"\u001B[39m\u001B[38;5;124mWere there no candidates?\u001B[39m\u001B[38;5;124m\"\u001B[39m\n\u001B[0;32m    844\u001B[0m     )\n",
      "File \u001B[1;32m~\\.virtualenvs\\AntibodyFvTm50Predictor\\lib\\site-packages\\joblib\\parallel.py:1056\u001B[0m, in \u001B[0;36mParallel.__call__\u001B[1;34m(self, iterable)\u001B[0m\n\u001B[0;32m   1053\u001B[0m     \u001B[38;5;28mself\u001B[39m\u001B[38;5;241m.\u001B[39m_iterating \u001B[38;5;241m=\u001B[39m \u001B[38;5;28;01mFalse\u001B[39;00m\n\u001B[0;32m   1055\u001B[0m \u001B[38;5;28;01mwith\u001B[39;00m \u001B[38;5;28mself\u001B[39m\u001B[38;5;241m.\u001B[39m_backend\u001B[38;5;241m.\u001B[39mretrieval_context():\n\u001B[1;32m-> 1056\u001B[0m     \u001B[38;5;28;43mself\u001B[39;49m\u001B[38;5;241;43m.\u001B[39;49m\u001B[43mretrieve\u001B[49m\u001B[43m(\u001B[49m\u001B[43m)\u001B[49m\n\u001B[0;32m   1057\u001B[0m \u001B[38;5;66;03m# Make sure that we get a last message telling us we are done\u001B[39;00m\n\u001B[0;32m   1058\u001B[0m elapsed_time \u001B[38;5;241m=\u001B[39m time\u001B[38;5;241m.\u001B[39mtime() \u001B[38;5;241m-\u001B[39m \u001B[38;5;28mself\u001B[39m\u001B[38;5;241m.\u001B[39m_start_time\n",
      "File \u001B[1;32m~\\.virtualenvs\\AntibodyFvTm50Predictor\\lib\\site-packages\\joblib\\parallel.py:957\u001B[0m, in \u001B[0;36mParallel.retrieve\u001B[1;34m(self)\u001B[0m\n\u001B[0;32m    951\u001B[0m \u001B[38;5;28;01mif\u001B[39;00m (backend \u001B[38;5;129;01mis\u001B[39;00m \u001B[38;5;129;01mnot\u001B[39;00m \u001B[38;5;28;01mNone\u001B[39;00m \u001B[38;5;129;01mand\u001B[39;00m\n\u001B[0;32m    952\u001B[0m         \u001B[38;5;28mhasattr\u001B[39m(backend, \u001B[38;5;124m'\u001B[39m\u001B[38;5;124mabort_everything\u001B[39m\u001B[38;5;124m'\u001B[39m)):\n\u001B[0;32m    953\u001B[0m     \u001B[38;5;66;03m# If the backend is managed externally we need to make sure\u001B[39;00m\n\u001B[0;32m    954\u001B[0m     \u001B[38;5;66;03m# to leave it in a working state to allow for future jobs\u001B[39;00m\n\u001B[0;32m    955\u001B[0m     \u001B[38;5;66;03m# scheduling.\u001B[39;00m\n\u001B[0;32m    956\u001B[0m     ensure_ready \u001B[38;5;241m=\u001B[39m \u001B[38;5;28mself\u001B[39m\u001B[38;5;241m.\u001B[39m_managed_backend\n\u001B[1;32m--> 957\u001B[0m     \u001B[43mbackend\u001B[49m\u001B[38;5;241;43m.\u001B[39;49m\u001B[43mabort_everything\u001B[49m\u001B[43m(\u001B[49m\u001B[43mensure_ready\u001B[49m\u001B[38;5;241;43m=\u001B[39;49m\u001B[43mensure_ready\u001B[49m\u001B[43m)\u001B[49m\n\u001B[0;32m    958\u001B[0m \u001B[38;5;28;01mraise\u001B[39;00m\n",
      "File \u001B[1;32m~\\.virtualenvs\\AntibodyFvTm50Predictor\\lib\\site-packages\\joblib\\_parallel_backends.py:565\u001B[0m, in \u001B[0;36mLokyBackend.abort_everything\u001B[1;34m(self, ensure_ready)\u001B[0m\n\u001B[0;32m    562\u001B[0m \u001B[38;5;28mself\u001B[39m\u001B[38;5;241m.\u001B[39m_workers \u001B[38;5;241m=\u001B[39m \u001B[38;5;28;01mNone\u001B[39;00m\n\u001B[0;32m    564\u001B[0m \u001B[38;5;28;01mif\u001B[39;00m ensure_ready:\n\u001B[1;32m--> 565\u001B[0m     \u001B[38;5;28;43mself\u001B[39;49m\u001B[38;5;241;43m.\u001B[39;49m\u001B[43mconfigure\u001B[49m\u001B[43m(\u001B[49m\u001B[43mn_jobs\u001B[49m\u001B[38;5;241;43m=\u001B[39;49m\u001B[38;5;28;43mself\u001B[39;49m\u001B[38;5;241;43m.\u001B[39;49m\u001B[43mparallel\u001B[49m\u001B[38;5;241;43m.\u001B[39;49m\u001B[43mn_jobs\u001B[49m\u001B[43m,\u001B[49m\u001B[43m \u001B[49m\u001B[43mparallel\u001B[49m\u001B[38;5;241;43m=\u001B[39;49m\u001B[38;5;28;43mself\u001B[39;49m\u001B[38;5;241;43m.\u001B[39;49m\u001B[43mparallel\u001B[49m\u001B[43m)\u001B[49m\n",
      "File \u001B[1;32m~\\.virtualenvs\\AntibodyFvTm50Predictor\\lib\\site-packages\\joblib\\_parallel_backends.py:494\u001B[0m, in \u001B[0;36mLokyBackend.configure\u001B[1;34m(self, n_jobs, parallel, prefer, require, idle_worker_timeout, **memmappingexecutor_args)\u001B[0m\n\u001B[0;32m    490\u001B[0m \u001B[38;5;28;01mif\u001B[39;00m n_jobs \u001B[38;5;241m==\u001B[39m \u001B[38;5;241m1\u001B[39m:\n\u001B[0;32m    491\u001B[0m     \u001B[38;5;28;01mraise\u001B[39;00m FallbackToBackend(\n\u001B[0;32m    492\u001B[0m         SequentialBackend(nesting_level\u001B[38;5;241m=\u001B[39m\u001B[38;5;28mself\u001B[39m\u001B[38;5;241m.\u001B[39mnesting_level))\n\u001B[1;32m--> 494\u001B[0m \u001B[38;5;28mself\u001B[39m\u001B[38;5;241m.\u001B[39m_workers \u001B[38;5;241m=\u001B[39m get_memmapping_executor(\n\u001B[0;32m    495\u001B[0m     n_jobs, timeout\u001B[38;5;241m=\u001B[39midle_worker_timeout,\n\u001B[0;32m    496\u001B[0m     env\u001B[38;5;241m=\u001B[39m\u001B[38;5;28mself\u001B[39m\u001B[38;5;241m.\u001B[39m_prepare_worker_env(n_jobs\u001B[38;5;241m=\u001B[39mn_jobs),\n\u001B[0;32m    497\u001B[0m     context_id\u001B[38;5;241m=\u001B[39mparallel\u001B[38;5;241m.\u001B[39m_id, \u001B[38;5;241m*\u001B[39m\u001B[38;5;241m*\u001B[39mmemmappingexecutor_args)\n\u001B[0;32m    498\u001B[0m \u001B[38;5;28mself\u001B[39m\u001B[38;5;241m.\u001B[39mparallel \u001B[38;5;241m=\u001B[39m parallel\n\u001B[0;32m    499\u001B[0m \u001B[38;5;28;01mreturn\u001B[39;00m n_jobs\n",
      "File \u001B[1;32m~\\.virtualenvs\\AntibodyFvTm50Predictor\\lib\\site-packages\\joblib\\executor.py:20\u001B[0m, in \u001B[0;36mget_memmapping_executor\u001B[1;34m(n_jobs, **kwargs)\u001B[0m\n\u001B[0;32m     19\u001B[0m \u001B[38;5;28;01mdef\u001B[39;00m \u001B[38;5;21mget_memmapping_executor\u001B[39m(n_jobs, \u001B[38;5;241m*\u001B[39m\u001B[38;5;241m*\u001B[39mkwargs):\n\u001B[1;32m---> 20\u001B[0m     \u001B[38;5;28;01mreturn\u001B[39;00m MemmappingExecutor\u001B[38;5;241m.\u001B[39mget_memmapping_executor(n_jobs, \u001B[38;5;241m*\u001B[39m\u001B[38;5;241m*\u001B[39mkwargs)\n",
      "File \u001B[1;32m~\\.virtualenvs\\AntibodyFvTm50Predictor\\lib\\site-packages\\joblib\\executor.py:42\u001B[0m, in \u001B[0;36mMemmappingExecutor.get_memmapping_executor\u001B[1;34m(cls, n_jobs, timeout, initializer, initargs, env, temp_folder, context_id, **backend_args)\u001B[0m\n\u001B[0;32m     39\u001B[0m reuse \u001B[38;5;241m=\u001B[39m _executor_args \u001B[38;5;129;01mis\u001B[39;00m \u001B[38;5;28;01mNone\u001B[39;00m \u001B[38;5;129;01mor\u001B[39;00m _executor_args \u001B[38;5;241m==\u001B[39m executor_args\n\u001B[0;32m     40\u001B[0m _executor_args \u001B[38;5;241m=\u001B[39m executor_args\n\u001B[1;32m---> 42\u001B[0m manager \u001B[38;5;241m=\u001B[39m \u001B[43mTemporaryResourcesManager\u001B[49m\u001B[43m(\u001B[49m\u001B[43mtemp_folder\u001B[49m\u001B[43m)\u001B[49m\n\u001B[0;32m     44\u001B[0m \u001B[38;5;66;03m# reducers access the temporary folder in which to store temporary\u001B[39;00m\n\u001B[0;32m     45\u001B[0m \u001B[38;5;66;03m# pickles through a call to manager.resolve_temp_folder_name. resolving\u001B[39;00m\n\u001B[0;32m     46\u001B[0m \u001B[38;5;66;03m# the folder name dynamically is useful to use different folders across\u001B[39;00m\n\u001B[0;32m     47\u001B[0m \u001B[38;5;66;03m# calls of a same reusable executor\u001B[39;00m\n\u001B[0;32m     48\u001B[0m job_reducers, result_reducers \u001B[38;5;241m=\u001B[39m get_memmapping_reducers(\n\u001B[0;32m     49\u001B[0m     unlink_on_gc_collect\u001B[38;5;241m=\u001B[39m\u001B[38;5;28;01mTrue\u001B[39;00m,\n\u001B[0;32m     50\u001B[0m     temp_folder_resolver\u001B[38;5;241m=\u001B[39mmanager\u001B[38;5;241m.\u001B[39mresolve_temp_folder_name,\n\u001B[0;32m     51\u001B[0m     \u001B[38;5;241m*\u001B[39m\u001B[38;5;241m*\u001B[39mbackend_args)\n",
      "File \u001B[1;32m~\\.virtualenvs\\AntibodyFvTm50Predictor\\lib\\site-packages\\joblib\\_memmapping_reducer.py:531\u001B[0m, in \u001B[0;36mTemporaryResourcesManager.__init__\u001B[1;34m(self, temp_folder_root, context_id)\u001B[0m\n\u001B[0;32m    525\u001B[0m \u001B[38;5;28;01mif\u001B[39;00m context_id \u001B[38;5;129;01mis\u001B[39;00m \u001B[38;5;28;01mNone\u001B[39;00m:\n\u001B[0;32m    526\u001B[0m     \u001B[38;5;66;03m# It would be safer to not assign a default context id (less silent\u001B[39;00m\n\u001B[0;32m    527\u001B[0m     \u001B[38;5;66;03m# bugs), but doing this while maintaining backward compatibility\u001B[39;00m\n\u001B[0;32m    528\u001B[0m     \u001B[38;5;66;03m# with the previous, context-unaware version get_memmaping_executor\u001B[39;00m\n\u001B[0;32m    529\u001B[0m     \u001B[38;5;66;03m# exposes exposes too many low-level details.\u001B[39;00m\n\u001B[0;32m    530\u001B[0m     context_id \u001B[38;5;241m=\u001B[39m uuid4()\u001B[38;5;241m.\u001B[39mhex\n\u001B[1;32m--> 531\u001B[0m \u001B[38;5;28;43mself\u001B[39;49m\u001B[38;5;241;43m.\u001B[39;49m\u001B[43mset_current_context\u001B[49m\u001B[43m(\u001B[49m\u001B[43mcontext_id\u001B[49m\u001B[43m)\u001B[49m\n",
      "File \u001B[1;32m~\\.virtualenvs\\AntibodyFvTm50Predictor\\lib\\site-packages\\joblib\\_memmapping_reducer.py:535\u001B[0m, in \u001B[0;36mTemporaryResourcesManager.set_current_context\u001B[1;34m(self, context_id)\u001B[0m\n\u001B[0;32m    533\u001B[0m \u001B[38;5;28;01mdef\u001B[39;00m \u001B[38;5;21mset_current_context\u001B[39m(\u001B[38;5;28mself\u001B[39m, context_id):\n\u001B[0;32m    534\u001B[0m     \u001B[38;5;28mself\u001B[39m\u001B[38;5;241m.\u001B[39m_current_context_id \u001B[38;5;241m=\u001B[39m context_id\n\u001B[1;32m--> 535\u001B[0m     \u001B[38;5;28;43mself\u001B[39;49m\u001B[38;5;241;43m.\u001B[39;49m\u001B[43mregister_new_context\u001B[49m\u001B[43m(\u001B[49m\u001B[43mcontext_id\u001B[49m\u001B[43m)\u001B[49m\n",
      "File \u001B[1;32m~\\.virtualenvs\\AntibodyFvTm50Predictor\\lib\\site-packages\\joblib\\_memmapping_reducer.py:560\u001B[0m, in \u001B[0;36mTemporaryResourcesManager.register_new_context\u001B[1;34m(self, context_id)\u001B[0m\n\u001B[0;32m    553\u001B[0m new_folder_name \u001B[38;5;241m=\u001B[39m (\n\u001B[0;32m    554\u001B[0m     \u001B[38;5;124m\"\u001B[39m\u001B[38;5;124mjoblib_memmapping_folder_\u001B[39m\u001B[38;5;132;01m{}\u001B[39;00m\u001B[38;5;124m_\u001B[39m\u001B[38;5;132;01m{}\u001B[39;00m\u001B[38;5;124m_\u001B[39m\u001B[38;5;132;01m{}\u001B[39;00m\u001B[38;5;124m\"\u001B[39m\u001B[38;5;241m.\u001B[39mformat(\n\u001B[0;32m    555\u001B[0m         os\u001B[38;5;241m.\u001B[39mgetpid(), \u001B[38;5;28mself\u001B[39m\u001B[38;5;241m.\u001B[39m_id, context_id)\n\u001B[0;32m    556\u001B[0m )\n\u001B[0;32m    557\u001B[0m new_folder_path, _ \u001B[38;5;241m=\u001B[39m _get_temp_dir(\n\u001B[0;32m    558\u001B[0m     new_folder_name, \u001B[38;5;28mself\u001B[39m\u001B[38;5;241m.\u001B[39m_temp_folder_root\n\u001B[0;32m    559\u001B[0m )\n\u001B[1;32m--> 560\u001B[0m \u001B[38;5;28;43mself\u001B[39;49m\u001B[38;5;241;43m.\u001B[39;49m\u001B[43mregister_folder_finalizer\u001B[49m\u001B[43m(\u001B[49m\u001B[43mnew_folder_path\u001B[49m\u001B[43m,\u001B[49m\u001B[43m \u001B[49m\u001B[43mcontext_id\u001B[49m\u001B[43m)\u001B[49m\n\u001B[0;32m    561\u001B[0m \u001B[38;5;28mself\u001B[39m\u001B[38;5;241m.\u001B[39m_cached_temp_folders[context_id] \u001B[38;5;241m=\u001B[39m new_folder_path\n",
      "File \u001B[1;32m~\\.virtualenvs\\AntibodyFvTm50Predictor\\lib\\site-packages\\joblib\\_memmapping_reducer.py:590\u001B[0m, in \u001B[0;36mTemporaryResourcesManager.register_folder_finalizer\u001B[1;34m(self, pool_subfolder, context_id)\u001B[0m\n\u001B[0;32m    583\u001B[0m \u001B[38;5;28;01mdef\u001B[39;00m \u001B[38;5;21mregister_folder_finalizer\u001B[39m(\u001B[38;5;28mself\u001B[39m, pool_subfolder, context_id):\n\u001B[0;32m    584\u001B[0m     \u001B[38;5;66;03m# Register the garbage collector at program exit in case caller forgets\u001B[39;00m\n\u001B[0;32m    585\u001B[0m     \u001B[38;5;66;03m# to call terminate explicitly: note we do not pass any reference to\u001B[39;00m\n\u001B[0;32m    586\u001B[0m     \u001B[38;5;66;03m# ensure that this callback won't prevent garbage collection of\u001B[39;00m\n\u001B[0;32m    587\u001B[0m     \u001B[38;5;66;03m# parallel instance and related file handler resources such as POSIX\u001B[39;00m\n\u001B[0;32m    588\u001B[0m     \u001B[38;5;66;03m# semaphores and pipes\u001B[39;00m\n\u001B[0;32m    589\u001B[0m     pool_module_name \u001B[38;5;241m=\u001B[39m whichmodule(delete_folder, \u001B[38;5;124m'\u001B[39m\u001B[38;5;124mdelete_folder\u001B[39m\u001B[38;5;124m'\u001B[39m)\n\u001B[1;32m--> 590\u001B[0m     \u001B[43mresource_tracker\u001B[49m\u001B[38;5;241;43m.\u001B[39;49m\u001B[43mregister\u001B[49m\u001B[43m(\u001B[49m\u001B[43mpool_subfolder\u001B[49m\u001B[43m,\u001B[49m\u001B[43m \u001B[49m\u001B[38;5;124;43m\"\u001B[39;49m\u001B[38;5;124;43mfolder\u001B[39;49m\u001B[38;5;124;43m\"\u001B[39;49m\u001B[43m)\u001B[49m\n\u001B[0;32m    592\u001B[0m     \u001B[38;5;28;01mdef\u001B[39;00m \u001B[38;5;21m_cleanup\u001B[39m():\n\u001B[0;32m    593\u001B[0m         \u001B[38;5;66;03m# In some cases the Python runtime seems to set delete_folder to\u001B[39;00m\n\u001B[0;32m    594\u001B[0m         \u001B[38;5;66;03m# None just before exiting when accessing the delete_folder\u001B[39;00m\n\u001B[1;32m   (...)\u001B[0m\n\u001B[0;32m    599\u001B[0m         \u001B[38;5;66;03m# because joblib should only use relative imports to allow\u001B[39;00m\n\u001B[0;32m    600\u001B[0m         \u001B[38;5;66;03m# easy vendoring.\u001B[39;00m\n\u001B[0;32m    601\u001B[0m         delete_folder \u001B[38;5;241m=\u001B[39m \u001B[38;5;28m__import__\u001B[39m(\n\u001B[0;32m    602\u001B[0m             pool_module_name, fromlist\u001B[38;5;241m=\u001B[39m[\u001B[38;5;124m'\u001B[39m\u001B[38;5;124mdelete_folder\u001B[39m\u001B[38;5;124m'\u001B[39m])\u001B[38;5;241m.\u001B[39mdelete_folder\n",
      "File \u001B[1;32m~\\.virtualenvs\\AntibodyFvTm50Predictor\\lib\\site-packages\\joblib\\externals\\loky\\backend\\resource_tracker.py:190\u001B[0m, in \u001B[0;36mResourceTracker.register\u001B[1;34m(self, name, rtype)\u001B[0m\n\u001B[0;32m    188\u001B[0m \u001B[38;5;28;01mdef\u001B[39;00m \u001B[38;5;21mregister\u001B[39m(\u001B[38;5;28mself\u001B[39m, name, rtype):\n\u001B[0;32m    189\u001B[0m     \u001B[38;5;124;03m'''Register a named resource, and increment its refcount.'''\u001B[39;00m\n\u001B[1;32m--> 190\u001B[0m     \u001B[38;5;28;43mself\u001B[39;49m\u001B[38;5;241;43m.\u001B[39;49m\u001B[43mensure_running\u001B[49m\u001B[43m(\u001B[49m\u001B[43m)\u001B[49m\n\u001B[0;32m    191\u001B[0m     \u001B[38;5;28mself\u001B[39m\u001B[38;5;241m.\u001B[39m_send(\u001B[38;5;124m'\u001B[39m\u001B[38;5;124mREGISTER\u001B[39m\u001B[38;5;124m'\u001B[39m, name, rtype)\n",
      "File \u001B[1;32m~\\.virtualenvs\\AntibodyFvTm50Predictor\\lib\\site-packages\\joblib\\externals\\loky\\backend\\resource_tracker.py:102\u001B[0m, in \u001B[0;36mResourceTracker.ensure_running\u001B[1;34m(self)\u001B[0m\n\u001B[0;32m     99\u001B[0m \u001B[38;5;28;01mwith\u001B[39;00m \u001B[38;5;28mself\u001B[39m\u001B[38;5;241m.\u001B[39m_lock:\n\u001B[0;32m    100\u001B[0m     \u001B[38;5;28;01mif\u001B[39;00m \u001B[38;5;28mself\u001B[39m\u001B[38;5;241m.\u001B[39m_fd \u001B[38;5;129;01mis\u001B[39;00m \u001B[38;5;129;01mnot\u001B[39;00m \u001B[38;5;28;01mNone\u001B[39;00m:\n\u001B[0;32m    101\u001B[0m         \u001B[38;5;66;03m# resource tracker was launched before, is it still running?\u001B[39;00m\n\u001B[1;32m--> 102\u001B[0m         \u001B[38;5;28;01mif\u001B[39;00m \u001B[38;5;28;43mself\u001B[39;49m\u001B[38;5;241;43m.\u001B[39;49m\u001B[43m_check_alive\u001B[49m\u001B[43m(\u001B[49m\u001B[43m)\u001B[49m:\n\u001B[0;32m    103\u001B[0m             \u001B[38;5;66;03m# => still alive\u001B[39;00m\n\u001B[0;32m    104\u001B[0m             \u001B[38;5;28;01mreturn\u001B[39;00m\n\u001B[0;32m    105\u001B[0m         \u001B[38;5;66;03m# => dead, launch it again\u001B[39;00m\n",
      "File \u001B[1;32m~\\.virtualenvs\\AntibodyFvTm50Predictor\\lib\\site-packages\\joblib\\externals\\loky\\backend\\resource_tracker.py:182\u001B[0m, in \u001B[0;36mResourceTracker._check_alive\u001B[1;34m(self)\u001B[0m\n\u001B[0;32m    180\u001B[0m \u001B[38;5;124;03m'''Check for the existence of the resource tracker process.'''\u001B[39;00m\n\u001B[0;32m    181\u001B[0m \u001B[38;5;28;01mtry\u001B[39;00m:\n\u001B[1;32m--> 182\u001B[0m     \u001B[38;5;28;43mself\u001B[39;49m\u001B[38;5;241;43m.\u001B[39;49m\u001B[43m_send\u001B[49m\u001B[43m(\u001B[49m\u001B[38;5;124;43m'\u001B[39;49m\u001B[38;5;124;43mPROBE\u001B[39;49m\u001B[38;5;124;43m'\u001B[39;49m\u001B[43m,\u001B[49m\u001B[43m \u001B[49m\u001B[38;5;124;43m'\u001B[39;49m\u001B[38;5;124;43m'\u001B[39;49m\u001B[43m,\u001B[49m\u001B[43m \u001B[49m\u001B[38;5;124;43m'\u001B[39;49m\u001B[38;5;124;43m'\u001B[39;49m\u001B[43m)\u001B[49m\n\u001B[0;32m    183\u001B[0m \u001B[38;5;28;01mexcept\u001B[39;00m \u001B[38;5;167;01mBrokenPipeError\u001B[39;00m:\n\u001B[0;32m    184\u001B[0m     \u001B[38;5;28;01mreturn\u001B[39;00m \u001B[38;5;28;01mFalse\u001B[39;00m\n",
      "File \u001B[1;32m~\\.virtualenvs\\AntibodyFvTm50Predictor\\lib\\site-packages\\joblib\\externals\\loky\\backend\\resource_tracker.py:209\u001B[0m, in \u001B[0;36mResourceTracker._send\u001B[1;34m(self, cmd, name, rtype)\u001B[0m\n\u001B[0;32m    205\u001B[0m \u001B[38;5;28;01mif\u001B[39;00m \u001B[38;5;28mlen\u001B[39m(name) \u001B[38;5;241m>\u001B[39m \u001B[38;5;241m512\u001B[39m:\n\u001B[0;32m    206\u001B[0m     \u001B[38;5;66;03m# posix guarantees that writes to a pipe of less than PIPE_BUF\u001B[39;00m\n\u001B[0;32m    207\u001B[0m     \u001B[38;5;66;03m# bytes are atomic, and that PIPE_BUF >= 512\u001B[39;00m\n\u001B[0;32m    208\u001B[0m     \u001B[38;5;28;01mraise\u001B[39;00m \u001B[38;5;167;01mValueError\u001B[39;00m(\u001B[38;5;124m'\u001B[39m\u001B[38;5;124mname too long\u001B[39m\u001B[38;5;124m'\u001B[39m)\n\u001B[1;32m--> 209\u001B[0m nbytes \u001B[38;5;241m=\u001B[39m \u001B[43mos\u001B[49m\u001B[38;5;241;43m.\u001B[39;49m\u001B[43mwrite\u001B[49m\u001B[43m(\u001B[49m\u001B[38;5;28;43mself\u001B[39;49m\u001B[38;5;241;43m.\u001B[39;49m\u001B[43m_fd\u001B[49m\u001B[43m,\u001B[49m\u001B[43m \u001B[49m\u001B[43mmsg\u001B[49m\u001B[43m)\u001B[49m\n\u001B[0;32m    210\u001B[0m \u001B[38;5;28;01massert\u001B[39;00m nbytes \u001B[38;5;241m==\u001B[39m \u001B[38;5;28mlen\u001B[39m(msg)\n",
      "\u001B[1;31mOSError\u001B[0m: [Errno 22] Invalid argument"
     ]
    }
   ],
   "source": [
    "from sklearn.model_selection import RandomizedSearchCV\n",
    "from sklearn.svm import SVR\n",
    "from scipy.stats import uniform\n",
    "\n",
    "x_train, x_test, y_train, y_test = train_test_split(X, y, test_size=0.1, random_state=7)\n",
    "\n",
    "# define the parameter space for the random search\n",
    "param_distributions = {\n",
    "    'kernel': ['rbf', 'linear', 'poly', 'sigmoid'],\n",
    "    'C': uniform(loc=0, scale=10),\n",
    "    'gamma': ['scale', 'auto'] + list(np.arange(0.1, 1.0, 0.1)),\n",
    "    'epsilon': uniform(loc=0, scale=1)\n",
    "}\n",
    "\n",
    "# create the SVM model\n",
    "model = SVR(kernel='rbf')\n",
    "\n",
    "# perform the random search\n",
    "search = RandomizedSearchCV(model, param_space, cv=5, n_iter=100, n_jobs=-1, random_state=42)\n",
    "search.fit(x_train, y_train)\n",
    "\n",
    "# get the best hyperparameters\n",
    "best_params = search.best_params_\n",
    "\n",
    "# train the model with the best hyperparameters\n",
    "model = SVR(kernel='rbf', **best_params)\n",
    "model.fit(x_train, y_train)\n",
    "\n",
    "# evaluate the model\n",
    "predictions = model.predict(x_test)\n",
    "mae = mean_absolute_error(y_test, predictions)\n",
    "r2 = r2_score(y_test, predictions)\n",
    "pearsonr = stats.pearsonr(y_test, predictions)\n",
    "\n",
    "print(\"Best parameters: \", best_params)\n",
    "print(\"MAE: \", mae)\n",
    "print(\"R-squared: \", r2)\n",
    "print(\"Pearson coefficient: \", pearsonr)"
   ],
   "metadata": {
    "collapsed": false
   }
  },
  {
   "cell_type": "code",
   "execution_count": 27,
   "outputs": [],
   "source": [
    "g = sum(y)/len(y)"
   ],
   "metadata": {
    "collapsed": false
   }
  },
  {
   "cell_type": "code",
   "execution_count": 28,
   "outputs": [
    {
     "data": {
      "text/plain": "71.37288135593221"
     },
     "execution_count": 28,
     "metadata": {},
     "output_type": "execute_result"
    }
   ],
   "source": [
    "g"
   ],
   "metadata": {
    "collapsed": false
   }
  },
  {
   "cell_type": "code",
   "execution_count": 76,
   "outputs": [
    {
     "name": "stderr",
     "output_type": "stream",
     "text": [
      "C:\\Users\\toon_\\AppData\\Local\\Temp\\ipykernel_2812\\1773260633.py:21: DeprecationWarning: Please use `pearsonr` from the `scipy.stats` namespace, the `scipy.stats.stats` namespace is deprecated.\n",
      "  pearsonr = stats.pearsonr(y_test, predictions)\n"
     ]
    },
    {
     "name": "stdout",
     "output_type": "stream",
     "text": [
      "1\n",
      "MAE:  4.063196230210993\n",
      "R-squared:  0.22384901446701555\n",
      "Pearson coefficient:  0.5559459361774246\n"
     ]
    },
    {
     "name": "stderr",
     "output_type": "stream",
     "text": [
      "C:\\Users\\toon_\\AppData\\Local\\Temp\\ipykernel_2812\\1773260633.py:21: DeprecationWarning: Please use `pearsonr` from the `scipy.stats` namespace, the `scipy.stats.stats` namespace is deprecated.\n",
      "  pearsonr = stats.pearsonr(y_test, predictions)\n"
     ]
    },
    {
     "name": "stdout",
     "output_type": "stream",
     "text": [
      "8\n",
      "MAE:  4.4962338310820735\n",
      "R-squared:  -0.03749071304271534\n",
      "Pearson coefficient:  0.20435188498470414\n"
     ]
    },
    {
     "name": "stderr",
     "output_type": "stream",
     "text": [
      "C:\\Users\\toon_\\AppData\\Local\\Temp\\ipykernel_2812\\1773260633.py:21: DeprecationWarning: Please use `pearsonr` from the `scipy.stats` namespace, the `scipy.stats.stats` namespace is deprecated.\n",
      "  pearsonr = stats.pearsonr(y_test, predictions)\n"
     ]
    },
    {
     "name": "stdout",
     "output_type": "stream",
     "text": [
      "15\n",
      "MAE:  4.60469209275111\n",
      "R-squared:  0.2619782386003252\n",
      "Pearson coefficient:  0.6141690077647811\n"
     ]
    },
    {
     "name": "stderr",
     "output_type": "stream",
     "text": [
      "C:\\Users\\toon_\\AppData\\Local\\Temp\\ipykernel_2812\\1773260633.py:21: DeprecationWarning: Please use `pearsonr` from the `scipy.stats` namespace, the `scipy.stats.stats` namespace is deprecated.\n",
      "  pearsonr = stats.pearsonr(y_test, predictions)\n"
     ]
    },
    {
     "name": "stdout",
     "output_type": "stream",
     "text": [
      "22\n",
      "MAE:  4.679256238355141\n",
      "R-squared:  0.10342124529077323\n",
      "Pearson coefficient:  0.3781519549849248\n"
     ]
    },
    {
     "name": "stderr",
     "output_type": "stream",
     "text": [
      "C:\\Users\\toon_\\AppData\\Local\\Temp\\ipykernel_2812\\1773260633.py:21: DeprecationWarning: Please use `pearsonr` from the `scipy.stats` namespace, the `scipy.stats.stats` namespace is deprecated.\n",
      "  pearsonr = stats.pearsonr(y_test, predictions)\n"
     ]
    },
    {
     "name": "stdout",
     "output_type": "stream",
     "text": [
      "29\n",
      "MAE:  3.3139682240813855\n",
      "R-squared:  0.06981759416889743\n",
      "Pearson coefficient:  0.5215802410925752\n"
     ]
    },
    {
     "name": "stderr",
     "output_type": "stream",
     "text": [
      "C:\\Users\\toon_\\AppData\\Local\\Temp\\ipykernel_2812\\1773260633.py:21: DeprecationWarning: Please use `pearsonr` from the `scipy.stats` namespace, the `scipy.stats.stats` namespace is deprecated.\n",
      "  pearsonr = stats.pearsonr(y_test, predictions)\n"
     ]
    },
    {
     "name": "stdout",
     "output_type": "stream",
     "text": [
      "36\n",
      "MAE:  3.427222265257507\n",
      "R-squared:  0.1380300979157918\n",
      "Pearson coefficient:  0.3945519860794613\n"
     ]
    },
    {
     "name": "stderr",
     "output_type": "stream",
     "text": [
      "C:\\Users\\toon_\\AppData\\Local\\Temp\\ipykernel_2812\\1773260633.py:21: DeprecationWarning: Please use `pearsonr` from the `scipy.stats` namespace, the `scipy.stats.stats` namespace is deprecated.\n",
      "  pearsonr = stats.pearsonr(y_test, predictions)\n"
     ]
    },
    {
     "name": "stdout",
     "output_type": "stream",
     "text": [
      "43\n",
      "MAE:  4.834959496736985\n",
      "R-squared:  0.07065989422771435\n",
      "Pearson coefficient:  0.4098137589395866\n"
     ]
    },
    {
     "name": "stderr",
     "output_type": "stream",
     "text": [
      "C:\\Users\\toon_\\AppData\\Local\\Temp\\ipykernel_2812\\1773260633.py:21: DeprecationWarning: Please use `pearsonr` from the `scipy.stats` namespace, the `scipy.stats.stats` namespace is deprecated.\n",
      "  pearsonr = stats.pearsonr(y_test, predictions)\n"
     ]
    },
    {
     "name": "stdout",
     "output_type": "stream",
     "text": [
      "50\n",
      "MAE:  4.587163179513437\n",
      "R-squared:  -0.266474638156591\n",
      "Pearson coefficient:  -0.0180305975667799\n"
     ]
    },
    {
     "name": "stderr",
     "output_type": "stream",
     "text": [
      "C:\\Users\\toon_\\AppData\\Local\\Temp\\ipykernel_2812\\1773260633.py:21: DeprecationWarning: Please use `pearsonr` from the `scipy.stats` namespace, the `scipy.stats.stats` namespace is deprecated.\n",
      "  pearsonr = stats.pearsonr(y_test, predictions)\n"
     ]
    },
    {
     "name": "stdout",
     "output_type": "stream",
     "text": [
      "57\n",
      "MAE:  3.735462208488607\n",
      "R-squared:  0.2559549478699501\n",
      "Pearson coefficient:  0.5695424518773865\n"
     ]
    },
    {
     "name": "stderr",
     "output_type": "stream",
     "text": [
      "C:\\Users\\toon_\\AppData\\Local\\Temp\\ipykernel_2812\\1773260633.py:21: DeprecationWarning: Please use `pearsonr` from the `scipy.stats` namespace, the `scipy.stats.stats` namespace is deprecated.\n",
      "  pearsonr = stats.pearsonr(y_test, predictions)\n"
     ]
    },
    {
     "name": "stdout",
     "output_type": "stream",
     "text": [
      "64\n",
      "MAE:  3.861070435925465\n",
      "R-squared:  0.2488829964521998\n",
      "Pearson coefficient:  0.5408193219799792\n"
     ]
    },
    {
     "name": "stderr",
     "output_type": "stream",
     "text": [
      "C:\\Users\\toon_\\AppData\\Local\\Temp\\ipykernel_2812\\1773260633.py:21: DeprecationWarning: Please use `pearsonr` from the `scipy.stats` namespace, the `scipy.stats.stats` namespace is deprecated.\n",
      "  pearsonr = stats.pearsonr(y_test, predictions)\n"
     ]
    },
    {
     "name": "stdout",
     "output_type": "stream",
     "text": [
      "71\n",
      "MAE:  4.324411665861847\n",
      "R-squared:  0.20629829067612238\n",
      "Pearson coefficient:  0.5591459885070877\n"
     ]
    },
    {
     "name": "stderr",
     "output_type": "stream",
     "text": [
      "C:\\Users\\toon_\\AppData\\Local\\Temp\\ipykernel_2812\\1773260633.py:21: DeprecationWarning: Please use `pearsonr` from the `scipy.stats` namespace, the `scipy.stats.stats` namespace is deprecated.\n",
      "  pearsonr = stats.pearsonr(y_test, predictions)\n"
     ]
    },
    {
     "name": "stdout",
     "output_type": "stream",
     "text": [
      "78\n",
      "MAE:  4.21264117447166\n",
      "R-squared:  0.07310483735471784\n",
      "Pearson coefficient:  0.3728931047651034\n"
     ]
    },
    {
     "name": "stderr",
     "output_type": "stream",
     "text": [
      "C:\\Users\\toon_\\AppData\\Local\\Temp\\ipykernel_2812\\1773260633.py:21: DeprecationWarning: Please use `pearsonr` from the `scipy.stats` namespace, the `scipy.stats.stats` namespace is deprecated.\n",
      "  pearsonr = stats.pearsonr(y_test, predictions)\n"
     ]
    },
    {
     "name": "stdout",
     "output_type": "stream",
     "text": [
      "85\n",
      "MAE:  4.649447042533279\n",
      "R-squared:  0.278427003886346\n",
      "Pearson coefficient:  0.6282116607342073\n"
     ]
    },
    {
     "name": "stderr",
     "output_type": "stream",
     "text": [
      "C:\\Users\\toon_\\AppData\\Local\\Temp\\ipykernel_2812\\1773260633.py:21: DeprecationWarning: Please use `pearsonr` from the `scipy.stats` namespace, the `scipy.stats.stats` namespace is deprecated.\n",
      "  pearsonr = stats.pearsonr(y_test, predictions)\n"
     ]
    },
    {
     "name": "stdout",
     "output_type": "stream",
     "text": [
      "92\n",
      "MAE:  4.290996032687086\n",
      "R-squared:  0.08807073060943904\n",
      "Pearson coefficient:  0.40073348163264516\n"
     ]
    },
    {
     "name": "stderr",
     "output_type": "stream",
     "text": [
      "C:\\Users\\toon_\\AppData\\Local\\Temp\\ipykernel_2812\\1773260633.py:21: DeprecationWarning: Please use `pearsonr` from the `scipy.stats` namespace, the `scipy.stats.stats` namespace is deprecated.\n",
      "  pearsonr = stats.pearsonr(y_test, predictions)\n"
     ]
    },
    {
     "name": "stdout",
     "output_type": "stream",
     "text": [
      "99\n",
      "MAE:  4.141266305080368\n",
      "R-squared:  0.0935483349731232\n",
      "Pearson coefficient:  0.4009761647205523\n"
     ]
    },
    {
     "name": "stderr",
     "output_type": "stream",
     "text": [
      "C:\\Users\\toon_\\AppData\\Local\\Temp\\ipykernel_2812\\1773260633.py:21: DeprecationWarning: Please use `pearsonr` from the `scipy.stats` namespace, the `scipy.stats.stats` namespace is deprecated.\n",
      "  pearsonr = stats.pearsonr(y_test, predictions)\n"
     ]
    },
    {
     "name": "stdout",
     "output_type": "stream",
     "text": [
      "106\n",
      "MAE:  3.5324330532175474\n",
      "R-squared:  0.1748484921460166\n",
      "Pearson coefficient:  0.4632484949247088\n"
     ]
    },
    {
     "name": "stderr",
     "output_type": "stream",
     "text": [
      "C:\\Users\\toon_\\AppData\\Local\\Temp\\ipykernel_2812\\1773260633.py:21: DeprecationWarning: Please use `pearsonr` from the `scipy.stats` namespace, the `scipy.stats.stats` namespace is deprecated.\n",
      "  pearsonr = stats.pearsonr(y_test, predictions)\n"
     ]
    },
    {
     "name": "stdout",
     "output_type": "stream",
     "text": [
      "113\n",
      "MAE:  3.748976418769184\n",
      "R-squared:  0.06924290725393367\n",
      "Pearson coefficient:  0.39581692716261274\n"
     ]
    },
    {
     "name": "stderr",
     "output_type": "stream",
     "text": [
      "C:\\Users\\toon_\\AppData\\Local\\Temp\\ipykernel_2812\\1773260633.py:21: DeprecationWarning: Please use `pearsonr` from the `scipy.stats` namespace, the `scipy.stats.stats` namespace is deprecated.\n",
      "  pearsonr = stats.pearsonr(y_test, predictions)\n"
     ]
    },
    {
     "name": "stdout",
     "output_type": "stream",
     "text": [
      "120\n",
      "MAE:  4.183554194395831\n",
      "R-squared:  0.22636369745919183\n",
      "Pearson coefficient:  0.612210655724929\n"
     ]
    },
    {
     "name": "stderr",
     "output_type": "stream",
     "text": [
      "C:\\Users\\toon_\\AppData\\Local\\Temp\\ipykernel_2812\\1773260633.py:21: DeprecationWarning: Please use `pearsonr` from the `scipy.stats` namespace, the `scipy.stats.stats` namespace is deprecated.\n",
      "  pearsonr = stats.pearsonr(y_test, predictions)\n"
     ]
    },
    {
     "name": "stdout",
     "output_type": "stream",
     "text": [
      "127\n",
      "MAE:  3.9565056476821385\n",
      "R-squared:  0.18440946084715715\n",
      "Pearson coefficient:  0.5381575832329413\n"
     ]
    },
    {
     "name": "stderr",
     "output_type": "stream",
     "text": [
      "C:\\Users\\toon_\\AppData\\Local\\Temp\\ipykernel_2812\\1773260633.py:21: DeprecationWarning: Please use `pearsonr` from the `scipy.stats` namespace, the `scipy.stats.stats` namespace is deprecated.\n",
      "  pearsonr = stats.pearsonr(y_test, predictions)\n"
     ]
    },
    {
     "name": "stdout",
     "output_type": "stream",
     "text": [
      "134\n",
      "MAE:  4.56650605120022\n",
      "R-squared:  0.06200747626884784\n",
      "Pearson coefficient:  0.3064866967330117\n"
     ]
    },
    {
     "name": "stderr",
     "output_type": "stream",
     "text": [
      "C:\\Users\\toon_\\AppData\\Local\\Temp\\ipykernel_2812\\1773260633.py:21: DeprecationWarning: Please use `pearsonr` from the `scipy.stats` namespace, the `scipy.stats.stats` namespace is deprecated.\n",
      "  pearsonr = stats.pearsonr(y_test, predictions)\n"
     ]
    },
    {
     "name": "stdout",
     "output_type": "stream",
     "text": [
      "141\n",
      "MAE:  4.24002234329652\n",
      "R-squared:  0.29220016197807663\n",
      "Pearson coefficient:  0.5633435873540696\n"
     ]
    },
    {
     "name": "stderr",
     "output_type": "stream",
     "text": [
      "C:\\Users\\toon_\\AppData\\Local\\Temp\\ipykernel_2812\\1773260633.py:21: DeprecationWarning: Please use `pearsonr` from the `scipy.stats` namespace, the `scipy.stats.stats` namespace is deprecated.\n",
      "  pearsonr = stats.pearsonr(y_test, predictions)\n"
     ]
    },
    {
     "name": "stdout",
     "output_type": "stream",
     "text": [
      "148\n",
      "MAE:  3.8359325156867166\n",
      "R-squared:  0.20690484619569283\n",
      "Pearson coefficient:  0.5686427723168552\n"
     ]
    },
    {
     "name": "stderr",
     "output_type": "stream",
     "text": [
      "C:\\Users\\toon_\\AppData\\Local\\Temp\\ipykernel_2812\\1773260633.py:21: DeprecationWarning: Please use `pearsonr` from the `scipy.stats` namespace, the `scipy.stats.stats` namespace is deprecated.\n",
      "  pearsonr = stats.pearsonr(y_test, predictions)\n"
     ]
    },
    {
     "name": "stdout",
     "output_type": "stream",
     "text": [
      "155\n",
      "MAE:  4.515612295812809\n",
      "R-squared:  0.16757646145690752\n",
      "Pearson coefficient:  0.47501924373376947\n"
     ]
    },
    {
     "name": "stderr",
     "output_type": "stream",
     "text": [
      "C:\\Users\\toon_\\AppData\\Local\\Temp\\ipykernel_2812\\1773260633.py:21: DeprecationWarning: Please use `pearsonr` from the `scipy.stats` namespace, the `scipy.stats.stats` namespace is deprecated.\n",
      "  pearsonr = stats.pearsonr(y_test, predictions)\n"
     ]
    },
    {
     "name": "stdout",
     "output_type": "stream",
     "text": [
      "162\n",
      "MAE:  4.218005446601659\n",
      "R-squared:  0.2878493484099903\n",
      "Pearson coefficient:  0.6027987454979421\n"
     ]
    },
    {
     "name": "stderr",
     "output_type": "stream",
     "text": [
      "C:\\Users\\toon_\\AppData\\Local\\Temp\\ipykernel_2812\\1773260633.py:21: DeprecationWarning: Please use `pearsonr` from the `scipy.stats` namespace, the `scipy.stats.stats` namespace is deprecated.\n",
      "  pearsonr = stats.pearsonr(y_test, predictions)\n"
     ]
    },
    {
     "name": "stdout",
     "output_type": "stream",
     "text": [
      "169\n",
      "MAE:  4.923405027587867\n",
      "R-squared:  0.2985248164521478\n",
      "Pearson coefficient:  0.6649299224847998\n"
     ]
    },
    {
     "name": "stderr",
     "output_type": "stream",
     "text": [
      "C:\\Users\\toon_\\AppData\\Local\\Temp\\ipykernel_2812\\1773260633.py:21: DeprecationWarning: Please use `pearsonr` from the `scipy.stats` namespace, the `scipy.stats.stats` namespace is deprecated.\n",
      "  pearsonr = stats.pearsonr(y_test, predictions)\n"
     ]
    },
    {
     "name": "stdout",
     "output_type": "stream",
     "text": [
      "176\n",
      "MAE:  3.416445692562669\n",
      "R-squared:  0.09801055561279182\n",
      "Pearson coefficient:  0.4863635297129786\n"
     ]
    },
    {
     "name": "stderr",
     "output_type": "stream",
     "text": [
      "C:\\Users\\toon_\\AppData\\Local\\Temp\\ipykernel_2812\\1773260633.py:21: DeprecationWarning: Please use `pearsonr` from the `scipy.stats` namespace, the `scipy.stats.stats` namespace is deprecated.\n",
      "  pearsonr = stats.pearsonr(y_test, predictions)\n"
     ]
    },
    {
     "name": "stdout",
     "output_type": "stream",
     "text": [
      "183\n",
      "MAE:  4.4993114613899445\n",
      "R-squared:  0.187359606236987\n",
      "Pearson coefficient:  0.5764479446378823\n"
     ]
    },
    {
     "name": "stderr",
     "output_type": "stream",
     "text": [
      "C:\\Users\\toon_\\AppData\\Local\\Temp\\ipykernel_2812\\1773260633.py:21: DeprecationWarning: Please use `pearsonr` from the `scipy.stats` namespace, the `scipy.stats.stats` namespace is deprecated.\n",
      "  pearsonr = stats.pearsonr(y_test, predictions)\n"
     ]
    },
    {
     "name": "stdout",
     "output_type": "stream",
     "text": [
      "190\n",
      "MAE:  4.492671018564642\n",
      "R-squared:  0.26159150204143\n",
      "Pearson coefficient:  0.516307154696407\n",
      "197\n",
      "MAE:  4.0610342423523935\n",
      "R-squared:  0.14452190884035854\n",
      "Pearson coefficient:  0.38499030870148343\n"
     ]
    },
    {
     "name": "stderr",
     "output_type": "stream",
     "text": [
      "C:\\Users\\toon_\\AppData\\Local\\Temp\\ipykernel_2812\\1773260633.py:21: DeprecationWarning: Please use `pearsonr` from the `scipy.stats` namespace, the `scipy.stats.stats` namespace is deprecated.\n",
      "  pearsonr = stats.pearsonr(y_test, predictions)\n"
     ]
    }
   ],
   "source": [
    "for i in range(1,200,7):\n",
    "\n",
    "    x_train, x_test, y_train, y_test = train_test_split(X, y, test_size=0.2, random_state=i)\n",
    "\n",
    "\n",
    "    # perform the random search\n",
    "    search = RandomizedSearchCV(model, param_space, cv=kfold, n_iter=25, n_jobs=-1, random_state=7)\n",
    "    search.fit(x_train, y_train)\n",
    "\n",
    "    # get the best hyperparameters\n",
    "    best_params = search.best_params_\n",
    "\n",
    "    # train the model with the best hyperparameters\n",
    "    model = SVR(kernel='rbf', **best_params)\n",
    "    model.fit(x_train, y_train)\n",
    "\n",
    "    # evaluate the model\n",
    "    predictions = model.predict(x_test)\n",
    "    mae = mean_absolute_error(y_test, predictions)\n",
    "    r2 = r2_score(y_test, predictions)\n",
    "    pearsonr = stats.pearsonr(y_test, predictions)\n",
    "\n",
    "    print(i)\n",
    "    print(\"MAE: \", mae)\n",
    "    print(\"R-squared: \", r2)\n",
    "    print(\"Pearson coefficient: \", pearsonr[0])"
   ],
   "metadata": {
    "collapsed": false
   }
  },
  {
   "cell_type": "code",
   "execution_count": null,
   "outputs": [],
   "source": [],
   "metadata": {
    "collapsed": false
   }
  }
 ],
 "metadata": {
  "kernelspec": {
   "display_name": "Python 3",
   "language": "python",
   "name": "python3"
  },
  "language_info": {
   "codemirror_mode": {
    "name": "ipython",
    "version": 2
   },
   "file_extension": ".py",
   "mimetype": "text/x-python",
   "name": "python",
   "nbconvert_exporter": "python",
   "pygments_lexer": "ipython2",
   "version": "2.7.6"
  }
 },
 "nbformat": 4,
 "nbformat_minor": 0
}
